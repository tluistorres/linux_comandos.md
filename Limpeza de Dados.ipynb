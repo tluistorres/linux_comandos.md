{
 "cells": [
  {
   "cell_type": "code",
   "execution_count": 4,
   "id": "0fc39d84-f41a-41e2-a35b-52b99083e209",
   "metadata": {},
   "outputs": [],
   "source": [
    "# Limpeza de Dados\n"
   ]
  },
  {
   "cell_type": "code",
   "execution_count": null,
   "id": "4aa34c7d-1801-49e3-bf54-5bdf98790c2e",
   "metadata": {},
   "outputs": [],
   "source": []
  }
 ],
 "metadata": {
  "kernelspec": {
   "display_name": "Python 3 (ipykernel)",
   "language": "python",
   "name": "python3"
  },
  "language_info": {
   "codemirror_mode": {
    "name": "ipython",
    "version": 3
   },
   "file_extension": ".py",
   "mimetype": "text/x-python",
   "name": "python",
   "nbconvert_exporter": "python",
   "pygments_lexer": "ipython3",
   "version": "3.12.9"
  }
 },
 "nbformat": 4,
 "nbformat_minor": 5
}
