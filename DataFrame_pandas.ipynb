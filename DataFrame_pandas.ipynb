{
 "cells": [
  {
   "cell_type": "code",
   "execution_count": null,
   "id": "703bb8cb-9762-44b8-8acf-07979cfab386",
   "metadata": {},
   "outputs": [],
   "source": [
    "# Um dataFrame representa uma tabela de dados retangular e contém uma coleção ordenada de colunas, em que cada uma pode ter um tipo de valor diferente(numérico, string ou boleano, etc.).\n",
    "Trata-se de uma estrutura de dados bidimensional semelhante a uma tabela de banco de dados ou uma planilha  do Excel.\n",
    "São altamente versáteis e frequentemente usados para representar conjuntos de dados complexos.\n",
    "Como  criar um DataFrame:\n",
    "Vamos começar criandomum DataFrame de exemplp a partir de um dicionário de dados:"
   ]
  },
  {
   "cell_type": "code",
   "execution_count": 10,
   "id": "03d3455c-eff0-493c-9f9b-d757752662d6",
   "metadata": {},
   "outputs": [
    {
     "name": "stdout",
     "output_type": "stream",
     "text": [
      "      Nome  Idade     Cidade\n",
      "0    Fábio     45     Maceio\n",
      "1     Luís     32     Recife\n",
      "2      Ana     42    Aracaju\n",
      "3  Ricardo     60  São Paulo\n",
      "4    Pedro     55   Salvador\n"
     ]
    }
   ],
   "source": [
    "import pandas as pd\n",
    "\n",
    "dados = {\n",
    "    'Nome': ['Fábio', 'Luís', 'Ana', 'Ricardo', 'Pedro'],\n",
    "    'Idade': [45, 32, 42, 60, 55],\n",
    "    'Cidade': ['Maceio', 'Recife', 'Aracaju', 'São Paulo', 'Salvador']\n",
    "}\n",
    "\n",
    "df = pd.DataFrame(dados)\n",
    "print(df)\n"
   ]
  },
  {
   "cell_type": "code",
   "execution_count": null,
   "id": "8a1fd10c-c38c-497a-a1bf-1191fde34349",
   "metadata": {},
   "outputs": [],
   "source": [
    "# Outro exemplo: vamos criar mais um DataFrame a partir de outro dicionário que contém nomes de países, quantidades de títulos mundiais, e ano em que ganhoumo primeiro título."
   ]
  },
  {
   "cell_type": "code",
   "execution_count": 16,
   "id": "4eb6ba6f-cc16-4e69-910d-c5152a9f93dc",
   "metadata": {},
   "outputs": [
    {
     "name": "stdout",
     "output_type": "stream",
     "text": [
      "         País     Ano  Títulos\n",
      "0      Brasil  1958.0        5\n",
      "1     Uruguai  1930.0        2\n",
      "2  Inglaterra  1966.0        1\n",
      "3     Espanha  2010.0        1\n",
      "4     Holanda     NaN        0\n",
      "5      Itália  1934.0        4\n",
      "6   Argentina  1978.0        3\n",
      "7    Alemanha  1954.0        4\n",
      "8      França  1998.0        2\n"
     ]
    }
   ],
   "source": [
    "dicionario={'País':['Brasil', 'Uruguai', 'Inglaterra', 'Espanha', 'Holanda', 'Itália', 'Argentina', 'Alemanha', 'França'],\n",
    "            'Ano':[1958,1930,1966,2010,None,1934,1978,1954,1998],\n",
    "            'Títulos':[5,2,1,1,0,4,3,4,2]\n",
    "}\n",
    "\n",
    "\n",
    "dados = pd.DataFrame(dicionario)\n",
    "print(dados)"
   ]
  },
  {
   "cell_type": "code",
   "execution_count": null,
   "id": "3dfd6b00-ac2e-48c7-ab08-616fc808d2e8",
   "metadata": {},
   "outputs": [],
   "source": [
    "# Se o conjunto de daddos for muito grande e não quisermos exibi-los inteiro na tela, podemos imprimir apenas as cinco primeiras ou as cinco últimas linhas com o os métodos.head() e .tail(), respectivamente."
   ]
  },
  {
   "cell_type": "code",
   "execution_count": 18,
   "id": "36e3e42e-6a6f-4a25-9071-f180aea0de6b",
   "metadata": {},
   "outputs": [
    {
     "name": "stdout",
     "output_type": "stream",
     "text": [
      "         País     Ano  Títulos\n",
      "0      Brasil  1958.0        5\n",
      "1     Uruguai  1930.0        2\n",
      "2  Inglaterra  1966.0        1\n",
      "3     Espanha  2010.0        1\n",
      "4     Holanda     NaN        0\n",
      "\n",
      "        País     Ano  Títulos\n",
      "4    Holanda     NaN        0\n",
      "5     Itália  1934.0        4\n",
      "6  Argentina  1978.0        3\n",
      "7   Alemanha  1954.0        4\n",
      "8     França  1998.0        2\n",
      "\n"
     ]
    }
   ],
   "source": [
    "# 5 primeiras Linhas.\n",
    "\n",
    "print(dados.head())\n",
    "print()\n",
    "# 5 últimas Linhas.\n",
    "print(dados.tail())\n",
    "print()\n"
   ]
  },
  {
   "cell_type": "code",
   "execution_count": null,
   "id": "0ef01143-3fed-4e16-9317-2e0c07ae8c74",
   "metadata": {},
   "outputs": [],
   "source": [
    "Podemos alterar a ordem das colunas passando como parâmetro ao método .DataFrame() uma lista de valores a serem usados como cabeçalho:"
   ]
  },
  {
   "cell_type": "code",
   "execution_count": 21,
   "id": "169bc350-cd64-458b-b55c-af1263c11d0c",
   "metadata": {},
   "outputs": [
    {
     "name": "stdout",
     "output_type": "stream",
     "text": [
      "   Títulos        País     Ano\n",
      "0        5      Brasil  1958.0\n",
      "1        2     Uruguai  1930.0\n",
      "2        1  Inglaterra  1966.0\n",
      "3        1     Espanha  2010.0\n",
      "4        0     Holanda     NaN\n",
      "5        4      Itália  1934.0\n",
      "6        3   Argentina  1978.0\n",
      "7        4    Alemanha  1954.0\n",
      "8        2      França  1998.0\n"
     ]
    }
   ],
   "source": [
    "# Alterar ordem das colunas:\n",
    "\n",
    "dados = pd.DataFrame(dados, columns=['Títulos', 'País', 'Ano'])\n",
    "print(dados)\n",
    "                   "
   ]
  },
  {
   "cell_type": "code",
   "execution_count": null,
   "id": "2a07b1c6-728e-4358-92e8-b1bdf1d66e09",
   "metadata": {},
   "outputs": [],
   "source": [
    "Para vê apenas os nome das colunas constituintes do df:"
   ]
  },
  {
   "cell_type": "code",
   "execution_count": 22,
   "id": "8177c9a6-8348-4022-91d1-8eed7c7f4780",
   "metadata": {},
   "outputs": [
    {
     "name": "stdout",
     "output_type": "stream",
     "text": [
      "Index(['Títulos', 'País', 'Ano'], dtype='object')\n"
     ]
    }
   ],
   "source": [
    "# Ver nomes das colunas:\n",
    "print(dados.columns)"
   ]
  },
  {
   "cell_type": "code",
   "execution_count": null,
   "id": "1017199b-120f-4143-b08f-71f5f80f103c",
   "metadata": {},
   "outputs": [],
   "source": [
    "Para imprimir colunas individuais (em vez do DataFrame completo) podemos passar o nome da coluna desejada como valor de índice (entre colchetes), ou então chamar a coluna pelo seu nome como uma propriedade (precedida de um ponto):"
   ]
  },
  {
   "cell_type": "code",
   "execution_count": 26,
   "id": "1ec8a8de-85e4-48f9-9cea-e1b58521d44f",
   "metadata": {},
   "outputs": [
    {
     "name": "stdout",
     "output_type": "stream",
     "text": [
      "Países:\n",
      "0        Brasil\n",
      "1       Uruguai\n",
      "2    Inglaterra\n",
      "3       Espanha\n",
      "4       Holanda\n",
      "5        Itália\n",
      "6     Argentina\n",
      "7      Alemanha\n",
      "8        França\n",
      "Name: País, dtype: object\n",
      "\n",
      "Anos:\n",
      "0    1958.0\n",
      "1    1930.0\n",
      "2    1966.0\n",
      "3    2010.0\n",
      "4       NaN\n",
      "5    1934.0\n",
      "6    1978.0\n",
      "7    1954.0\n",
      "8    1998.0\n",
      "Name: Ano, dtype: float64\n"
     ]
    }
   ],
   "source": [
    "print('Países:')\n",
    "print(dados['País'])\n",
    "print('\\nAnos:')\n",
    "print(dados.Ano)\n"
   ]
  },
  {
   "cell_type": "code",
   "execution_count": null,
   "id": "e8c2b1c9-a5e1-4e92-a1d3-f13e32a9479f",
   "metadata": {},
   "outputs": [],
   "source": [
    "Podemos imprimir mais de uma coluna(em vez do DataFrame completo) passando os nomes das colunas desejadas como valor de índice dentro de uma lista."
   ]
  },
  {
   "cell_type": "code",
   "execution_count": 30,
   "id": "ea9e2dac-edad-4c67-b846-87879506a8f5",
   "metadata": {},
   "outputs": [
    {
     "name": "stdout",
     "output_type": "stream",
     "text": [
      "Países e Títulos:\n",
      "         País  Títulos\n",
      "0      Brasil        5\n",
      "1     Uruguai        2\n",
      "2  Inglaterra        1\n",
      "3     Espanha        1\n",
      "4     Holanda        0\n",
      "5      Itália        4\n",
      "6   Argentina        3\n",
      "7    Alemanha        4\n",
      "8      França        2\n"
     ]
    }
   ],
   "source": [
    "\n",
    "print('Países e Títulos:')\n",
    "\n",
    "print(dados[['País', 'Títulos']])"
   ]
  },
  {
   "cell_type": "code",
   "execution_count": null,
   "id": "448759a8-517c-4683-9c36-415452753ff2",
   "metadata": {},
   "outputs": [],
   "source": [
    "Acrescentar colunas:\n",
    "Adicionamos uma nova coluna ao DF simplesplemente passando seu nome entre colchetes, e atribuindo valoresw a partir de uma sequência, como uma lsita. Podemos inicializar a coluna com um único valor também (mesmo valor em todas as linhas),como por exemplo o valor 0:"
   ]
  },
  {
   "cell_type": "code",
   "execution_count": 32,
   "id": "e1c0daa9-63d0-436a-99bb-3407f5e0af68",
   "metadata": {},
   "outputs": [
    {
     "name": "stdout",
     "output_type": "stream",
     "text": [
      "   Títulos        País     Ano  Participações; \n",
      "0        5      Brasil  1958.0                0\n",
      "1        2     Uruguai  1930.0                0\n",
      "2        1  Inglaterra  1966.0                0\n",
      "3        1     Espanha  2010.0                0\n",
      "4        0     Holanda     NaN                0\n",
      "5        4      Itália  1934.0                0\n",
      "6        3   Argentina  1978.0                0\n",
      "7        4    Alemanha  1954.0                0\n",
      "8        2      França  1998.0                0\n"
     ]
    }
   ],
   "source": [
    "# Acrescentar uma coluna ao DataFrame:\n",
    "\n",
    "dados['Participações; '] = 0\n",
    "print(dados)"
   ]
  },
  {
   "cell_type": "code",
   "execution_count": null,
   "id": "ed06e738-d9f6-4fd4-8047-b658ac1dd563",
   "metadata": {},
   "outputs": [],
   "source": [
    "E podemos preencher essa nova coluna com valores oriundo de uma lista>"
   ]
  },
  {
   "cell_type": "code",
   "execution_count": 38,
   "id": "e1446146-9000-4fda-94d9-7a1d7b381901",
   "metadata": {},
   "outputs": [
    {
     "name": "stdout",
     "output_type": "stream",
     "text": [
      "   Títulos        País     Ano  Participações\n",
      "0        5      Brasil  1958.0             22\n",
      "1        2     Uruguai  1930.0             14\n",
      "2        1  Inglaterra  1966.0             16\n",
      "3        1     Espanha  2010.0             16\n",
      "4        0     Holanda     NaN             11\n",
      "5        4      Itália  1934.0             18\n",
      "6        3   Argentina  1978.0             18\n",
      "7        4    Alemanha  1954.0             20\n",
      "8        2      França  1998.0             16\n"
     ]
    }
   ],
   "source": [
    "# Preencher a coluna com valores de uma Lista:\n",
    "\n",
    "part = [22,14,16,16,11,18,18,20,16]\n",
    "dados['Participações'] = part\n",
    "print(dados)\n"
   ]
  },
  {
   "cell_type": "code",
   "execution_count": null,
   "id": "5d95b223-91b0-4060-a307-4f02f34ac3c1",
   "metadata": {},
   "outputs": [],
   "source": [
    "Excluir colunas:\n",
    "Para excluir uma coluna da DataFrame empregamos a função del:"
   ]
  },
  {
   "cell_type": "code",
   "execution_count": 39,
   "id": "4a123d73-9886-4c8a-bcb1-6dd6080df170",
   "metadata": {},
   "outputs": [
    {
     "name": "stdout",
     "output_type": "stream",
     "text": [
      "   Títulos        País     Ano\n",
      "0        5      Brasil  1958.0\n",
      "1        2     Uruguai  1930.0\n",
      "2        1  Inglaterra  1966.0\n",
      "3        1     Espanha  2010.0\n",
      "4        0     Holanda     NaN\n",
      "5        4      Itália  1934.0\n",
      "6        3   Argentina  1978.0\n",
      "7        4    Alemanha  1954.0\n",
      "8        2      França  1998.0\n"
     ]
    }
   ],
   "source": [
    "# Excluir coluna \"Participações\".\n",
    "\n",
    "del dados['Participações']\n",
    "print(dados)\n",
    "\n",
    "\n"
   ]
  },
  {
   "cell_type": "code",
   "execution_count": null,
   "id": "ab56eebd-b8ff-4531-b460-598cd5790498",
   "metadata": {},
   "outputs": [],
   "source": [
    "Excluir linha;\n",
    "é possível excluir uma linha usando o método \"drop\", passando o número da linha a excluir como um valor de índice. No exmplo a seguir vamos criar um novo DataFrame a partir do atual, exluindo nele a linha 4:"
   ]
  },
  {
   "cell_type": "code",
   "execution_count": 42,
   "id": "af544b7c-48fa-4941-85ab-c708399b030a",
   "metadata": {},
   "outputs": [
    {
     "name": "stdout",
     "output_type": "stream",
     "text": [
      "   Títulos        País     Ano\n",
      "0        5      Brasil  1958.0\n",
      "1        2     Uruguai  1930.0\n",
      "2        1  Inglaterra  1966.0\n",
      "3        1     Espanha  2010.0\n",
      "5        4      Itália  1934.0\n",
      "6        3   Argentina  1978.0\n",
      "7        4    Alemanha  1954.0\n",
      "8        2      França  1998.0\n"
     ]
    }
   ],
   "source": [
    "# Excluir a linha 4 (Holanda)\n",
    "\n",
    "dados2 = dados.drop([4])\n",
    "print(dados2)\n"
   ]
  },
  {
   "cell_type": "code",
   "execution_count": null,
   "id": "d83d020e-eec6-4ad1-afbd-f6dcd5fac8b5",
   "metadata": {},
   "outputs": [],
   "source": [
    "# Para excluir várias linhas de um só vez, basta passsar uma lista com seus números de índice ( não precisa está em ordem)."
   ]
  },
  {
   "cell_type": "code",
   "execution_count": 44,
   "id": "32357caa-8605-4c8a-8359-93d4d652c03f",
   "metadata": {},
   "outputs": [
    {
     "name": "stdout",
     "output_type": "stream",
     "text": [
      "   Títulos        País     Ano\n",
      "0        5      Brasil  1958.0\n",
      "1        2     Uruguai  1930.0\n",
      "2        1  Inglaterra  1966.0\n",
      "6        3   Argentina  1978.0\n",
      "7        4    Alemanha  1954.0\n",
      "8        2      França  1998.0\n"
     ]
    }
   ],
   "source": [
    "# Excluir as linhas 3,4 e 5 de uma vez.\n",
    "dados2 = dados.drop([4,3,5])\n",
    "print(dados2)"
   ]
  },
  {
   "cell_type": "code",
   "execution_count": null,
   "id": "3aa7c206-9b56-4c11-8335-42f920ba05a8",
   "metadata": {},
   "outputs": [],
   "source": [
    "Para excluir uma linha no próprio DataFrame em si, sem precisar criar uma cópia dele, usamos o parâmetro inplace=True:"
   ]
  },
  {
   "cell_type": "code",
   "execution_count": 47,
   "id": "fda32b55-37d5-4007-89a6-4ef50fc688d1",
   "metadata": {},
   "outputs": [
    {
     "name": "stdout",
     "output_type": "stream",
     "text": [
      "   Títulos        País     Ano\n",
      "0        5      Brasil  1958.0\n",
      "1        2     Uruguai  1930.0\n",
      "2        1  Inglaterra  1966.0\n",
      "3        1     Espanha  2010.0\n",
      "5        4      Itália  1934.0\n",
      "6        3   Argentina  1978.0\n",
      "7        4    Alemanha  1954.0\n",
      "8        2      França  1998.0\n"
     ]
    }
   ],
   "source": [
    "# Excluir linhas in loco.\n",
    "\n",
    "dados.drop(4, inplace=True)\n",
    "print(dados)"
   ]
  },
  {
   "cell_type": "code",
   "execution_count": null,
   "id": "3f293cd6-b44b-4e47-b9eb-9720a1d18c62",
   "metadata": {},
   "outputs": [],
   "source": [
    "Podemos retornar um conjunto de linhas passando seus índices, imclusive usando fatiamento (slicing):"
   ]
  },
  {
   "cell_type": "code",
   "execution_count": 49,
   "id": "90095323-d0eb-483b-ae1c-d0eb6d79bacd",
   "metadata": {},
   "outputs": [
    {
     "name": "stdout",
     "output_type": "stream",
     "text": [
      "   Títulos        País     Ano\n",
      "1        2     Uruguai  1930.0\n",
      "2        1  Inglaterra  1966.0\n",
      "3        1     Espanha  2010.0\n",
      "5        4      Itália  1934.0\n"
     ]
    }
   ],
   "source": [
    "# Retornar linhas de 1 a 5:\n",
    "print(dados[1:5])"
   ]
  },
  {
   "cell_type": "code",
   "execution_count": null,
   "id": "bd650533-1f68-49f7-a222-30cb6b261f5e",
   "metadata": {},
   "outputs": [],
   "source": [
    "# Também é possível realizar essa operação usando rótulos em vez de números de índice:"
   ]
  },
  {
   "cell_type": "code",
   "execution_count": 51,
   "id": "3e34b923-a055-456f-ac24-e3e5bff7ce29",
   "metadata": {},
   "outputs": [
    {
     "name": "stdout",
     "output_type": "stream",
     "text": [
      "         País     Ano  Títulos\n",
      "a      Brasil  1958.0        5\n",
      "b     Uruguai  1930.0        2\n",
      "c  Inglaterra  1966.0        1\n",
      "d     Espanha  2010.0        1\n",
      "e     Holanda     NaN        0\n",
      "f      Itália  1934.0        4\n",
      "g   Argentina  1978.0        3\n",
      "h    Alemanha  1954.0        4\n",
      "i      França  1998.0        2 \n",
      "\n",
      "         País     Ano  Títulos\n",
      "c  Inglaterra  1966.0        1\n",
      "d     Espanha  2010.0        1\n",
      "e     Holanda     NaN        0\n",
      "f      Itália  1934.0        4\n"
     ]
    }
   ],
   "source": [
    "# Fatiamento com rótulos:\n",
    "\n",
    "dicionario={'País':['Brasil', 'Uruguai', 'Inglaterra', 'Espanha', 'Holanda', 'Itália', 'Argentina', 'Alemanha', 'França'],\n",
    "            'Ano':[1958,1930,1966,2010,None,1934,1978,1954,1998],\n",
    "            'Títulos':[5,2,1,1,0,4,3,4,2]\n",
    "}\n",
    "dados = pd.DataFrame(dicionario, index=['a','b','c','d','e','f','g','h','i'])\n",
    "# Mostra df completo.\n",
    "print(dados, '\\n')\n",
    "print(dados['c':'f'])\n",
    "                     "
   ]
  },
  {
   "cell_type": "code",
   "execution_count": null,
   "id": "4d4f8424-5f18-422f-a253-f868509f3660",
   "metadata": {},
   "outputs": [],
   "source": [
    "Podemos realizar indexação com método .loc, retornando linhas e colunas especificadas apenas por meio de rótulos:"
   ]
  },
  {
   "cell_type": "code",
   "execution_count": 59,
   "id": "7dd9c3c8-cafc-494b-94b9-0c4d1ad34e01",
   "metadata": {},
   "outputs": [
    {
     "name": "stdout",
     "output_type": "stream",
     "text": [
      "País       Uruguai\n",
      "Títulos          2\n",
      "Name: b, dtype: object\n",
      "a    1958.0\n",
      "b    1930.0\n",
      "c    1966.0\n",
      "d    2010.0\n",
      "Name: Ano, dtype: float64\n"
     ]
    }
   ],
   "source": [
    "# Indexação com Loc\n",
    "# Linha b, colunas de País e Títulos\n",
    "print(dados.loc['b',['País', 'Títulos']]) # Especifica a linha através de rótulos, 'b' e as colunas 'País' e 'Títulos'.\n",
    "\n",
    "# Linhas de a a d, coluna de Ano:\n",
    "print(dados.loc[:'d', 'Ano'])  # Utilizar o fatiamento.\n"
   ]
  },
  {
   "cell_type": "code",
   "execution_count": null,
   "id": "d06b6762-8433-48ff-9b8c-1a9f028eca9d",
   "metadata": {},
   "outputs": [],
   "source": [
    "Ou ainda indexar com o método '.iloc' que retorna as linhas e colunas especificadas de acordo com números de índices(números):"
   ]
  },
  {
   "cell_type": "code",
   "execution_count": 62,
   "id": "75901713-be85-4c7b-8aaf-c862845b1637",
   "metadata": {},
   "outputs": [
    {
     "name": "stdout",
     "output_type": "stream",
     "text": [
      "País       Uruguai\n",
      "Títulos          2\n",
      "Name: b, dtype: object\n"
     ]
    }
   ],
   "source": [
    "# Indexação co iloc\n",
    "print(dados.iloc[1,[0,2]])  # Linha 1 e colunas 0 e 2."
   ]
  },
  {
   "cell_type": "code",
   "execution_count": null,
   "id": "2c8128f8-d84d-482a-954a-bc2e4807645a",
   "metadata": {},
   "outputs": [],
   "source": [
    "Podemos exibir os dados ordenados por índices tanto em ordem crescente quanto decrescente com método \"sort_index\":"
   ]
  },
  {
   "cell_type": "code",
   "execution_count": 64,
   "id": "1216158b-7385-4de5-9d89-785a9ba4c388",
   "metadata": {},
   "outputs": [
    {
     "name": "stdout",
     "output_type": "stream",
     "text": [
      "         País     Ano  Títulos\n",
      "a      Brasil  1958.0        5\n",
      "b     Uruguai  1930.0        2\n",
      "c  Inglaterra  1966.0        1\n",
      "d     Espanha  2010.0        1\n",
      "e     Holanda     NaN        0\n",
      "f      Itália  1934.0        4\n",
      "g   Argentina  1978.0        3\n",
      "h    Alemanha  1954.0        4\n",
      "i      França  1998.0        2\n",
      "\n",
      "         País     Ano  Títulos\n",
      "i      França  1998.0        2\n",
      "h    Alemanha  1954.0        4\n",
      "g   Argentina  1978.0        3\n",
      "f      Itália  1934.0        4\n",
      "e     Holanda     NaN        0\n",
      "d     Espanha  2010.0        1\n",
      "c  Inglaterra  1966.0        1\n",
      "b     Uruguai  1930.0        2\n",
      "a      Brasil  1958.0        5\n"
     ]
    }
   ],
   "source": [
    "# Ordenação por índice\n",
    "print(dados.sort_index())\n",
    "print()\n",
    "\n",
    "# Ordenação por índice em ordem inversa\n",
    "\n",
    "print(dados.sort_index(ascending=False))\n"
   ]
  },
  {
   "cell_type": "code",
   "execution_count": null,
   "id": "ea4f8dd5-ddce-4e06-8656-35d77eef3208",
   "metadata": {},
   "outputs": [],
   "source": [
    "Para ordenar os dados pelos valores de uma coluna específica usamos o método \"sort_values()\", pssando os nomes das colunas na ordem em que s=desejamos a ordenação."
   ]
  },
  {
   "cell_type": "code",
   "execution_count": 67,
   "id": "7edbf55e-012c-4001-be13-aacddd8ceca9",
   "metadata": {},
   "outputs": [
    {
     "name": "stdout",
     "output_type": "stream",
     "text": [
      "         País     Ano  Títulos\n",
      "h    Alemanha  1954.0        4\n",
      "g   Argentina  1978.0        3\n",
      "a      Brasil  1958.0        5\n",
      "d     Espanha  2010.0        1\n",
      "i      França  1998.0        2\n",
      "e     Holanda     NaN        0\n",
      "c  Inglaterra  1966.0        1\n",
      "f      Itália  1934.0        4\n",
      "b     Uruguai  1930.0        2\n"
     ]
    }
   ],
   "source": [
    "# Ordenar por colunas: ordem alfabética de país\n",
    "print(dados.sort_values(by=['País']))\n",
    "                        "
   ]
  },
  {
   "cell_type": "code",
   "execution_count": 68,
   "id": "5f2484f1-df3d-4ac0-81f6-7a056a047e9d",
   "metadata": {},
   "outputs": [
    {
     "name": "stdout",
     "output_type": "stream",
     "text": [
      "         País     Ano  Títulos\n",
      "b     Uruguai  1930.0        2\n",
      "f      Itália  1934.0        4\n",
      "c  Inglaterra  1966.0        1\n",
      "e     Holanda     NaN        0\n",
      "i      França  1998.0        2\n",
      "d     Espanha  2010.0        1\n",
      "a      Brasil  1958.0        5\n",
      "g   Argentina  1978.0        3\n",
      "h    Alemanha  1954.0        4\n"
     ]
    }
   ],
   "source": [
    "# Ordem inversa\n",
    "print(dados.sort_values(by='País', ascending=False))"
   ]
  },
  {
   "cell_type": "code",
   "execution_count": 69,
   "id": "99588294-7be7-469c-a02d-a780d838e6f2",
   "metadata": {},
   "outputs": [
    {
     "name": "stdout",
     "output_type": "stream",
     "text": [
      "         País     Ano  Títulos\n",
      "e     Holanda     NaN        0\n",
      "d     Espanha  2010.0        1\n",
      "c  Inglaterra  1966.0        1\n",
      "i      França  1998.0        2\n",
      "b     Uruguai  1930.0        2\n",
      "g   Argentina  1978.0        3\n",
      "h    Alemanha  1954.0        4\n",
      "f      Itália  1934.0        4\n",
      "a      Brasil  1958.0        5\n"
     ]
    }
   ],
   "source": [
    "# Ordenação por várias colunas: ordem crescente de títulos e alfabética de países:\n",
    "\n",
    "print(dados.sort_values(by=['Títulos','País']))"
   ]
  },
  {
   "cell_type": "code",
   "execution_count": 71,
   "id": "9467d793-ffff-475e-82a2-4b2972742717",
   "metadata": {},
   "outputs": [
    {
     "name": "stdout",
     "output_type": "stream",
     "text": [
      "         País     Ano  Títulos\n",
      "a      Brasil  1958.0        5\n",
      "h    Alemanha  1954.0        4\n",
      "f      Itália  1934.0        4\n",
      "g   Argentina  1978.0        3\n",
      "i      França  1998.0        2\n",
      "b     Uruguai  1930.0        2\n",
      "d     Espanha  2010.0        1\n",
      "c  Inglaterra  1966.0        1\n",
      "e     Holanda     NaN        0\n"
     ]
    }
   ],
   "source": [
    "# Ou ainda ordem decrescente de títulos e alfabética de países\n",
    "# Ordenação por várias colunas\n",
    "\n",
    "print(dados.sort_values(by=['Títulos', 'País'], ascending = [False, True]))"
   ]
  },
  {
   "cell_type": "code",
   "execution_count": 73,
   "id": "fd2ad90c-8782-4123-9271-9d250907c63b",
   "metadata": {},
   "outputs": [
    {
     "data": {
      "image/png": "[encoded data removed]",
      "text/plain": [
       "<Figure size 640x480 with 1 Axes>"
      ]
     },
     "metadata": {},
     "output_type": "display_data"
    },
    {
     "data": {
      "image/png": "[encoded data removed]",
      "text/plain": [
       "<Figure size 640x480 with 1 Axes>"
      ]
     },
     "metadata": {},
     "output_type": "display_data"
    }
   ],
   "source": [
    "import matplotlib.pyplot as plt\n",
    "\n",
    "x = [1, 2, 3, 4, 5]\n",
    "y = [2, 4, 6, 8, 10]\n",
    "\n",
    "plt.plot(x, y)\n",
    "plt.title('Gráfico de Linha')\n",
    "plt.xlabel('Eixo X')\n",
    "plt.ylabel('Eixo Y')\n",
    "plt.show()\n",
    "\n",
    "# Gráfico de Barras\n",
    "\n",
    "import matplotlib.pyplot as plt\n",
    "\n",
    "x = [1, 2, 3, 4, 5]\n",
    "y = [2, 4, 6, 8, 10]\n",
    "\n",
    "plt.bar(x, y)\n",
    "plt.title('Gráfico de Barras')\n",
    "plt.xlabel('Eixo X')\n",
    "plt.ylabel('Eixo Y')\n",
    "plt.show()\n"
   ]
  },
  {
   "cell_type": "code",
   "execution_count": 74,
   "id": "d3601ba4-eac5-4a84-ae0f-071f83c7d5ca",
   "metadata": {},
   "outputs": [
    {
     "data": {
      "image/png": "[encoded data removed]",
      "text/plain": [
       "<Figure size 640x480 with 1 Axes>"
      ]
     },
     "metadata": {},
     "output_type": "display_data"
    },
    {
     "data": {
      "image/png": "[encoded data removed]",
      "text/plain": [
       "<Figure size 640x480 with 1 Axes>"
      ]
     },
     "metadata": {},
     "output_type": "display_data"
    }
   ],
   "source": [
    "import matplotlib.pyplot as plt\n",
    "\n",
    "labels = ['A', 'B', 'C', 'D']\n",
    "sizes = [15, 30, 45, 10]\n",
    "\n",
    "plt.pie(sizes, labels=labels, autopct='%1.1f%%')\n",
    "plt.title('Gráfico de Pizza')\n",
    "plt.show()\n",
    "\n",
    "\n",
    "# Gráfico de Dispersão\n",
    "\n",
    "import matplotlib.pyplot as plt\n",
    "\n",
    "x = [1, 2, 3, 4, 5]\n",
    "y = [2, 4, 6, 8, 10]\n",
    "\n",
    "plt.scatter(x, y)\n",
    "plt.title('Gráfico de Dispersão')\n",
    "plt.xlabel('Eixo X')\n",
    "plt.ylabel('Eixo Y')\n",
    "plt.show()\n",
    "\n"
   ]
  },
  {
   "cell_type": "code",
   "execution_count": null,
   "id": "118a0ec6-9877-4d74-b57f-44ed6b694118",
   "metadata": {},
   "outputs": [],
   "source": []
  }
 ],
 "metadata": {
  "kernelspec": {
   "display_name": "Python 3 (ipykernel)",
   "language": "python",
   "name": "python3"
  },
  "language_info": {
   "codemirror_mode": {
    "name": "ipython",
    "version": 3
   },
   "file_extension": ".py",
   "mimetype": "text/x-python",
   "name": "python",
   "nbconvert_exporter": "python",
   "pygments_lexer": "ipython3",
   "version": "3.12.9"
  }
 },
 "nbformat": 4,
 "nbformat_minor": 5
}
