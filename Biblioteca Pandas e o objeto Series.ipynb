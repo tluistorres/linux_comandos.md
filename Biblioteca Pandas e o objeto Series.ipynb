{
 "cells": [
  {
   "cell_type": "markdown",
   "id": "8f4facc9-9e49-4184-9a47-057560c91cce",
   "metadata": {},
   "source": [
    "Pandas é uma biblioteca de softwere livre para a linguagem Python, empregada em análise e manutenção de dados.\n",
    "Traz estruturas de dados especializadas para a realização de operações com tabelas numéricas e séries temporais.\n",
    "O nome pandas vem da expressão \"panel dada\", termo da ciência da econometria que se refere a conjuntos de dados tais como obsrvações em múltiplos períodos de tempo.\n",
    "As principais funcionalidades do pandas incluem:\n",
    "        . Manipular dados com indexação personalizada\n",
    "        . Ler e escrever dados em diversos tipos de estruturas de dados e formatos de qrquivos, como CSV, eXCEL, JSON, SQL,etc.\n",
    "        . Manipular dados ausentes e efetuar limpeza de dados\n",
    "        . Unir e fundir conjuntos de dados\n",
    "        . Aplicar funções de séries temporais\n",
    "        . Agrupar e filtrar dados\n",
    "Entre outras.\n"
   ]
  },
  {
   "cell_type": "code",
   "execution_count": null,
   "id": "b5ad8a84-5a3a-496b-88bb-707d6839e68e",
   "metadata": {},
   "outputs": [],
   "source": [
    "# Importar o módulo pandas\n",
    "import pandas as pd"
   ]
  },
  {
   "cell_type": "code",
   "execution_count": null,
   "id": "22433915-c766-40c4-8a0b-406ba945cfc8",
   "metadata": {},
   "outputs": [],
   "source": [
    "Objetos Series\n",
    "Array de uma dimensão, nomeado, que pode armazenar qualquer tipo de dado. É, basicamente, uma \"array melhorado\", com suporte a indexação\n",
    "personalizada, incluindo índices de strings. Também tolera dados ausentes, e possui a capacidade de ignorar dados ausentes em operações sobre dados.\n",
    "\n",
    "Por padrão, os índices em um objeto Series são numerados sequencialmente a partir do 0."
   ]
  },
  {
   "cell_type": "code",
   "execution_count": null,
   "id": "9b8de78b-905a-4340-b745-7b2550d2d16f",
   "metadata": {},
   "outputs": [],
   "source": [
    "Criar objeto Séries\n",
    "\n",
    "Sintaxe:\n",
    "\n",
    "pd.Series([lista_valores], index=[lista_indices], name='Nome para o objeto')\n",
    "\n",
    "Os argumentos index e name são opcionais. A lista de valores pode ser, na verdade, uma lista, uma tupla, umarray, um dicionário ou até mesmo outro objeto \n",
    "series.\n",
    "\n",
    "Os dados de uma Series são exibidos em duas colunas, com os índices alinhados à esquerda na coluna da esquerda, e os daddos alinhados á direita na coluna\n",
    "da direita. Logo após mostrar os elementos, é exibido o tipo de dado(dttype) do array de origem.\n"
   ]
  },
  {
   "cell_type": "code",
   "execution_count": 10,
   "id": "d4e4961d-b34e-480c-9c35-e28701598b9b",
   "metadata": {
    "scrolled": true
   },
   "outputs": [
    {
     "name": "stdout",
     "output_type": "stream",
     "text": [
      "Mo      Morango\n",
      "Ma         Maçã\n",
      "U           Uva\n",
      "Pe     Pêsseugo\n",
      "C     Carambola\n",
      "Li       Lichia\n",
      "Name: Frutas, dtype: object\n",
      "Números de Frutas:  6\n",
      "Mo      MORANGO\n",
      "Ma         MAÇÃ\n",
      "U           UVA\n",
      "Pe     PÊSSEUGO\n",
      "C     CARAMBOLA\n",
      "Li       LICHIA\n",
      "Name: Frutas, dtype: object\n"
     ]
    }
   ],
   "source": [
    "import pandas as pd\n",
    "\n",
    "lista = ['Morango', 'Maçã', 'Uva', 'Pêsseugo', 'Carambola', 'Lichia']\n",
    "# s1 = pd.Series(lista, name='Frutas')\n",
    "\n",
    "indices = ['Mo', 'Ma', 'U', 'Pe', 'C', 'Li']\n",
    "s1 = pd.Series(lista, index=indices, name='Frutas')\n",
    "print(s1)\n",
    "# print(type(s1))\n",
    "# s1[2] usar a sintaxe nova: \n",
    "# print(s1.iloc[2]) # Saída: Uva - os índices ficam alinhados à esquerda.\n",
    "print('Números de Frutas: ',s1.count())\n",
    "print(s1.str.upper())"
   ]
  },
  {
   "cell_type": "code",
   "execution_count": 11,
   "id": "675abafd-d14a-4520-977c-afdadcd8af73",
   "metadata": {},
   "outputs": [
    {
     "data": {
      "text/plain": [
       "0    32.65\n",
       "1    32.65\n",
       "2    32.65\n",
       "3    32.65\n",
       "4    32.65\n",
       "5    32.65\n",
       "6    32.65\n",
       "7    32.65\n",
       "8    32.65\n",
       "9    32.65\n",
       "dtype: float64"
      ]
     },
     "execution_count": 11,
     "metadata": {},
     "output_type": "execute_result"
    }
   ],
   "source": [
    "pd.Series(32.65, range(10))  # Cria uma série de dez números iguaais."
   ]
  },
  {
   "cell_type": "code",
   "execution_count": 12,
   "id": "7272981c-5f62-4348-9cef-e0663038cf34",
   "metadata": {},
   "outputs": [
    {
     "data": {
      "text/plain": [
       "0    32\n",
       "1    32\n",
       "2    32\n",
       "3    32\n",
       "4    32\n",
       "5    32\n",
       "6    32\n",
       "7    32\n",
       "8    32\n",
       "9    32\n",
       "dtype: int64"
      ]
     },
     "execution_count": 12,
     "metadata": {},
     "output_type": "execute_result"
    }
   ],
   "source": [
    "pd.Series(32, range(10))"
   ]
  },
  {
   "cell_type": "code",
   "execution_count": 30,
   "id": "fd764e9c-2a0a-4c24-b1cb-e1000c502d78",
   "metadata": {},
   "outputs": [
    {
     "data": {
      "text/plain": [
       "count      6.000000\n",
       "mean      83.537333\n",
       "std       82.088122\n",
       "min        4.003000\n",
       "25%       25.122500\n",
       "50%       61.874000\n",
       "75%      119.419250\n",
       "max      222.000000\n",
       "dtype: float64"
      ]
     },
     "execution_count": 30,
     "metadata": {},
     "output_type": "execute_result"
    }
   ],
   "source": [
    "gasesNobresA = pd.Series([4.003,20.180,39.95,83.798,131.293,222]) # Ao rodar cria a lista.\n",
    "\n",
    "# gasesNobresA.mean()\n",
    "# gasesNobresA.max()\n",
    "# gasesNobresA.min()\n",
    "# gasesNobresA.std()   # Desvio padrão.\n",
    "gasesNobresA.describe()"
   ]
  },
  {
   "cell_type": "code",
   "execution_count": null,
   "id": "38667ee8-93b1-46ed-bc4a-8f607da0c6c4",
   "metadata": {},
   "outputs": [],
   "source": [
    "O método describe()!\n",
    "\n",
    "O método describe() é um método útil em pandas que fornece uma visão geral estatística dos dados em uma série ou dataframe.\n",
    "\n",
    "Quando você chama o método describe() em uma série ou dataframe, ele retorna uma tabela com várias estatísticas descritivas, incluindo:\n",
    "\n",
    "- count: O número de valores não nulos na série ou coluna.\n",
    "- mean: A média dos valores na série ou coluna.\n",
    "- std: O desvio padrão dos valores na série ou coluna.\n",
    "- min: O valor mínimo na série ou coluna.\n",
    "- 25%: O quartil inferior (25% dos valores).\n",
    "- 50%: A mediana (50% dos valores).\n",
    "- 75%: O quartil superior (75% dos valores).\n",
    "- max: O valor máximo na série ou coluna.\n",
    "\n",
    "Vamos ver um exemplo:\n"
   ]
  },
  {
   "cell_type": "code",
   "execution_count": 31,
   "id": "164c4e86-f9bb-4ed7-a50b-91889b46a95d",
   "metadata": {},
   "outputs": [
    {
     "name": "stdout",
     "output_type": "stream",
     "text": [
      "count      6.000000\n",
      "mean      83.537333\n",
      "std       82.088122\n",
      "min        4.003000\n",
      "25%       25.122500\n",
      "50%       61.874000\n",
      "75%      119.419250\n",
      "max      222.000000\n",
      "dtype: float64\n"
     ]
    }
   ],
   "source": [
    "import pandas as pd\n",
    "\n",
    "gasesNobresA = pd.Series([4.003, 20.180, 39.95, 83.798, 131.293, 222])\n",
    "\n",
    "print(gasesNobresA.describe())\n"
   ]
  },
  {
   "cell_type": "code",
   "execution_count": 32,
   "id": "471e52de-e9e2-4c29-935a-515bacfbcd0f",
   "metadata": {},
   "outputs": [
    {
     "name": "stdout",
     "output_type": "stream",
     "text": [
      "4.003 8.006\n",
      "20.18 40.36\n",
      "39.95 79.9\n",
      "83.798 167.596\n",
      "131.293 262.586\n",
      "222.0 444.0\n"
     ]
    }
   ],
   "source": [
    "\n",
    "for item in gasesNobresA:\n",
    "    print(item, item * 2)\n"
   ]
  },
  {
   "cell_type": "code",
   "execution_count": null,
   "id": "3b3ba909-78ae-4a94-ba47-70a0d62259c7",
   "metadata": {},
   "outputs": [],
   "source": [
    "Um DataFrame representa uma tabela de dados retangular e contém uma coleção ordenada de colunas, em que cada uma\n",
    "pode ter um tipo de valor diferente(numérico, string, boleano etc.).\n",
    "Trata-se de uma estrutura de dados bidimensional semelhante a uma tabela de v=banco de dados ou uma planilha do Excel.\n",
    "São altamente versáteis e frequentemente usados para representar conjuntos de dados completos.\n",
    "\n",
    "O DataFrame é uma estrutura de dados fundamental no Pandas, uma biblioteca popular para análise de dados em Python.\n",
    "\n",
    "Um DataFrame é uma tabela de dados com linhas e colunas, semelhante a uma planilha do Excel ou uma tabela de banco de dados.\n",
    "\n",
    "Aqui estão algumas características principais do DataFrame:\n",
    "\n",
    "- Linhas e Colunas: Um DataFrame tem linhas e colunas, onde cada linha representa um registro de dados e cada coluna representa um campo ou variável.\n",
    "- Índices: Cada linha e coluna tem um índice único, que pode ser usado para acessar e manipular os dados.\n",
    "- Tipos de Dados: Um DataFrame pode conter diferentes tipos de dados, como números inteiros, números decimais, strings, datas, etc.\n",
    "\n",
    "Alguns exemplos de operações que você pode realizar em um DataFrame incluem:\n",
    "\n",
    "- Filtrar dados: Selecionar linhas ou colunas específicas com base em condições.\n",
    "- Ordenar dados: Organizar as linhas do DataFrame em ordem crescente ou decrescente com base em uma ou mais colunas.\n",
    "- Agrupar dados: Agrupar as linhas do DataFrame com base em uma ou mais colunas e realizar operações de agregação (como soma, média, contagem, etc.).\n",
    "- Juntar dados: Combinar dois ou mais DataFrames com base em uma ou mais colunas comuns.\n",
    "\n",
    "A análise de séries temporais é uma área importante da estatística e do aprendizado de máquina (Machine Learning), pois permite:\n",
    "\n",
    "1. Previsão: Prever valores futuros com base em padrões históricos.\n",
    "2. Análise de tendências: Identificar tendências e padrões nos dados.\n",
    "3. Detecção de anomalias: Detectar valores anormais ou fora do padrão.\n",
    "\n",
    "Algumas técnicas estatísticas comuns para análise de séries temporais incluem:\n",
    "\n",
    "1. Média móvel: Calcula a média de um conjunto de valores em uma janela de tempo.\n",
    "2. Exponencialmente ponderada: Atribui pesos decrescentes aos valores anteriores.\n",
    "3. ARIMA (AutoRegressivo Integrado Média Móvel): Modelo que combina componentes autoregressivos, de diferença e de média móvel.\n",
    "\n",
    "Já o Machine Learning oferece técnicas mais avançadas para análise de séries temporais, como:\n",
    "\n",
    "1. Redes neurais recorrentes (RNNs): Modelos que processam sequências de dados.\n",
    "2. Long Short-Term Memory (LSTM): Tipo de RNN que lida com dependências de longo prazo.\n",
    "3. Transformadores: Modelos que usam atenção para processar sequências de dados.\n",
    "\n",
    "Algumas bibliotecas populares para análise de séries temporais em Python incluem:\n",
    "\n",
    "1. Statsmodels: Biblioteca estatística que inclui modelos para séries temporais.\n",
    "2. Pandas: Biblioteca para manipulação de dados que inclui ferramentas para séries temporais.\n",
    "3. TensorFlow e PyTorch: Bibliotecas de Machine Learning que incluem ferramentas para séries temporais.\n",
    "\n",
    "A validação cruzada é uma técnica estatística usada para avaliar o desempenho de um modelo de Machine Learning em conjuntos de dados independentes.\n",
    "\n",
    "A ideia é dividir o conjunto de dados em subconjuntos menores, treinar o modelo em um subconjunto e testá-lo em outro subconjunto.\n",
    "\n",
    "Existem várias maneiras de dividir os dados para validação cruzada, incluindo:\n",
    "\n",
    "1. Validação cruzada simples: Divide o conjunto de dados em dois subconjuntos, um para treinamento e outro para teste.\n",
    "2. Validação cruzada k-fold: Divide o conjunto de dados em k subconjuntos, treina o modelo em k-1 subconjuntos e testa em um subconjunto.\n",
    "3. Validação cruzada estratificada: Divide o conjunto de dados em subconjuntos mantendo a proporção de classes.\n",
    "\n",
    "Algumas medidas estatísticas descritivas comuns incluem:\n",
    "\n",
    "1. Média: A média é a soma de todos os valores dividida pelo número de valores.\n",
    "2. Mediana: A mediana é o valor médio quando os dados estão ordenados.\n",
    "3. Moda: A moda é o valor que aparece com mais frequência.\n",
    "4. Desvio padrão: O desvio padrão é uma medida da variabilidade dos dados.\n",
    "5. Variância: A variância é a média dos quadrados das diferenças entre os valores e a média.\n",
    "6. Percentil: O percentil é um valor que divide os dados em percentuais específicos.\n",
    "7. Intervalo: O intervalo é a diferença entre o maior e o menor valor.\n",
    "\n",
    "Além disso, existem também medidas de tendência central e dispersão:\n",
    "\n",
    "1. Tendência central: Média, mediana e moda.\n",
    "2. Dispersão: Desvio padrão, variância e intervalo.\n",
    "\n",
    "Séries Temporais de Preços de Ações\n",
    "As séries temporais de preços de ações são uma área importante de estudo em finanças.\n",
    "\n",
    "Elas envolvem a análise de preços de ações ao longo do tempo para identificar padrões, tendências e correlações.\n",
    "\n",
    "Algumas técnicas comuns usadas para analisar séries temporais de preços de ações incluem:\n",
    "\n",
    "- Análise de tendência\n",
    "- Análise de volatilidade\n",
    "- Análise de correlação\n",
    "- Modelagem de séries temporais (ARIMA, SARIMA, etc.)\n",
    "\n",
    "Dados Climáticos\n",
    "Os dados climáticos são uma área importante de estudo em ciências ambientais.\n",
    "\n",
    "Eles envolvem a análise de variáveis climáticas como temperatura, precipitação, umidade, etc. ao longo do tempo.\n",
    "\n",
    "Algumas técnicas comuns usadas para analisar dados climáticos incluem:\n",
    "\n",
    "- Análise de tendência\n",
    "- Análise de variabilidade\n",
    "- Análise de correlação\n",
    "- Modelagem de séries temporais (ARIMA, SARIMA, etc.)\n",
    "\n",
    "Reamostragem\n",
    "A reamostragem é uma técnica estatística usada para avaliar a estabilidade de um modelo ou estimativa.\n",
    "\n",
    "Ela envolve a criação de novas amostras a partir da amostra original, geralmente por meio de bootstrap ou jackknife.\n",
    "\n",
    "A reamostragem pode ser usada para:\n",
    "\n",
    "- Avaliar a precisão de uma estimativa\n",
    "- Avaliar a estabilidade de um modelo\n",
    "- Identificar a importância de variáveis individuais\n",
    "\n",
    "Algumas técnicas de reamostragem incluem:\n",
    "\n",
    "- Bootstrap\n",
    "- Jackknife\n",
    "- Reamostragem por substituição\n",
    "\n",
    "Em Python, existem várias bibliotecas que podem ser usadas para análise de séries temporais e reamostragem, incluindo:\n",
    "\n",
    "- Pandas\n",
    "- NumPy\n",
    "- Scikit-learn\n",
    "- Statsmodels\n"
   ]
  },
  {
   "cell_type": "code",
   "execution_count": 33,
   "id": "4d8af2a7-3a5d-4d58-8e4d-0baccca0a4ac",
   "metadata": {},
   "outputs": [
    {
     "name": "stdout",
     "output_type": "stream",
     "text": [
      "    Nome  Idade          Cidade\n",
      "0   João     25       São Paulo\n",
      "1  Maria     31  Rio de Janeiro\n",
      "2  Pedro     42  Belo Horizonte\n"
     ]
    }
   ],
   "source": [
    "import pandas as pd\n",
    "\n",
    "# Dados\n",
    "dados = {\n",
    "    'Nome': ['João', 'Maria', 'Pedro'],\n",
    "    'Idade': [25, 31, 42],\n",
    "    'Cidade': ['São Paulo', 'Rio de Janeiro', 'Belo Horizonte']\n",
    "}\n",
    "\n",
    "# Criar DataFrame\n",
    "df = pd.DataFrame(dados)\n",
    "\n",
    "# Imprimir DataFrame\n",
    "print(df)\n"
   ]
  },
  {
   "cell_type": "code",
   "execution_count": null,
   "id": "a537e9f5-709a-4083-b03c-5453ed0a076a",
   "metadata": {},
   "outputs": [],
   "source": [
    "Como criar uma DataFrame\n",
    "Vamos começar criando um DataFrame de exemplo a partir de um dicionário de dados:"
   ]
  },
  {
   "cell_type": "code",
   "execution_count": 34,
   "id": "41fe2b92-2733-4d82-81f0-a6d59d34ba59",
   "metadata": {},
   "outputs": [
    {
     "name": "stdout",
     "output_type": "stream",
     "text": [
      "Média: 3.0\n",
      "Mediana: 3.0\n",
      "Desvio padrão: 1.5811388300841898\n"
     ]
    }
   ],
   "source": [
    "import pandas as pd\n",
    "\n",
    "# Criar um DataFrame\n",
    "df = pd.DataFrame({'Valor': [1, 2, 3, 4, 5]})\n",
    "\n",
    "# Calcular a média\n",
    "media = df['Valor'].mean()\n",
    "\n",
    "# Calcular a mediana\n",
    "mediana = df['Valor'].median()\n",
    "\n",
    "# Calcular o desvio padrão\n",
    "desvio_padrao = df['Valor'].std()\n",
    "\n",
    "print(f\"Média: {media}\")\n",
    "print(f\"Mediana: {mediana}\")\n",
    "print(f\"Desvio padrão: {desvio_padrao}\")"
   ]
  },
  {
   "cell_type": "code",
   "execution_count": 41,
   "id": "a0715df3-8559-4af8-b854-8650c48f4e81",
   "metadata": {},
   "outputs": [
    {
     "ename": "OSError",
     "evalue": "[Errno 22] Invalid argument: 'C:\\\\Users\\\\luist\\\\OneDrive\\\\C:\\\\Users\\\\luist\\\\OneDrive\\\\Documentos\\\\precos_acoes.csv'",
     "output_type": "error",
     "traceback": [
      "\u001b[1;31m---------------------------------------------------------------------------\u001b[0m",
      "\u001b[1;31mOSError\u001b[0m                                   Traceback (most recent call last)",
      "Cell \u001b[1;32mIn[41], line 4\u001b[0m\n\u001b[0;32m      1\u001b[0m \u001b[38;5;28;01mimport\u001b[39;00m \u001b[38;5;21;01mpandas\u001b[39;00m \u001b[38;5;28;01mas\u001b[39;00m \u001b[38;5;21;01mpd\u001b[39;00m\n\u001b[0;32m      3\u001b[0m \u001b[38;5;66;03m# Carregar os dados\u001b[39;00m\n\u001b[1;32m----> 4\u001b[0m df \u001b[38;5;241m=\u001b[39m pd\u001b[38;5;241m.\u001b[39mread_csv(\u001b[38;5;124mr\u001b[39m\u001b[38;5;124m'\u001b[39m\u001b[38;5;124mC:\u001b[39m\u001b[38;5;124m\\\u001b[39m\u001b[38;5;124mUsers\u001b[39m\u001b[38;5;124m\\\u001b[39m\u001b[38;5;124mluist\u001b[39m\u001b[38;5;124m\\\u001b[39m\u001b[38;5;124mOneDrive\u001b[39m\u001b[38;5;124m\\\u001b[39m\u001b[38;5;124mC:\u001b[39m\u001b[38;5;124m\\\u001b[39m\u001b[38;5;124mUsers\u001b[39m\u001b[38;5;124m\\\u001b[39m\u001b[38;5;124mluist\u001b[39m\u001b[38;5;124m\\\u001b[39m\u001b[38;5;124mOneDrive\u001b[39m\u001b[38;5;124m\\\u001b[39m\u001b[38;5;124mDocumentos\u001b[39m\u001b[38;5;124m\\\u001b[39m\u001b[38;5;124mprecos_acoes.csv\u001b[39m\u001b[38;5;124m'\u001b[39m, \n\u001b[0;32m      5\u001b[0m                    index_col\u001b[38;5;241m=\u001b[39m\u001b[38;5;124m'\u001b[39m\u001b[38;5;124mData\u001b[39m\u001b[38;5;124m'\u001b[39m, \n\u001b[0;32m      6\u001b[0m                    parse_dates\u001b[38;5;241m=\u001b[39m[\u001b[38;5;124m'\u001b[39m\u001b[38;5;124mData\u001b[39m\u001b[38;5;124m'\u001b[39m])\n\u001b[0;32m      8\u001b[0m \u001b[38;5;66;03m# Visualizar os dados\u001b[39;00m\n\u001b[0;32m      9\u001b[0m df\u001b[38;5;241m.\u001b[39mplot()\n",
      "File \u001b[1;32m~\\miniconda3\\Lib\\site-packages\\pandas\\io\\parsers\\readers.py:1026\u001b[0m, in \u001b[0;36mread_csv\u001b[1;34m(filepath_or_buffer, sep, delimiter, header, names, index_col, usecols, dtype, engine, converters, true_values, false_values, skipinitialspace, skiprows, skipfooter, nrows, na_values, keep_default_na, na_filter, verbose, skip_blank_lines, parse_dates, infer_datetime_format, keep_date_col, date_parser, date_format, dayfirst, cache_dates, iterator, chunksize, compression, thousands, decimal, lineterminator, quotechar, quoting, doublequote, escapechar, comment, encoding, encoding_errors, dialect, on_bad_lines, delim_whitespace, low_memory, memory_map, float_precision, storage_options, dtype_backend)\u001b[0m\n\u001b[0;32m   1013\u001b[0m kwds_defaults \u001b[38;5;241m=\u001b[39m _refine_defaults_read(\n\u001b[0;32m   1014\u001b[0m     dialect,\n\u001b[0;32m   1015\u001b[0m     delimiter,\n\u001b[1;32m   (...)\u001b[0m\n\u001b[0;32m   1022\u001b[0m     dtype_backend\u001b[38;5;241m=\u001b[39mdtype_backend,\n\u001b[0;32m   1023\u001b[0m )\n\u001b[0;32m   1024\u001b[0m kwds\u001b[38;5;241m.\u001b[39mupdate(kwds_defaults)\n\u001b[1;32m-> 1026\u001b[0m \u001b[38;5;28;01mreturn\u001b[39;00m _read(filepath_or_buffer, kwds)\n",
      "File \u001b[1;32m~\\miniconda3\\Lib\\site-packages\\pandas\\io\\parsers\\readers.py:620\u001b[0m, in \u001b[0;36m_read\u001b[1;34m(filepath_or_buffer, kwds)\u001b[0m\n\u001b[0;32m    617\u001b[0m _validate_names(kwds\u001b[38;5;241m.\u001b[39mget(\u001b[38;5;124m\"\u001b[39m\u001b[38;5;124mnames\u001b[39m\u001b[38;5;124m\"\u001b[39m, \u001b[38;5;28;01mNone\u001b[39;00m))\n\u001b[0;32m    619\u001b[0m \u001b[38;5;66;03m# Create the parser.\u001b[39;00m\n\u001b[1;32m--> 620\u001b[0m parser \u001b[38;5;241m=\u001b[39m TextFileReader(filepath_or_buffer, \u001b[38;5;241m*\u001b[39m\u001b[38;5;241m*\u001b[39mkwds)\n\u001b[0;32m    622\u001b[0m \u001b[38;5;28;01mif\u001b[39;00m chunksize \u001b[38;5;129;01mor\u001b[39;00m iterator:\n\u001b[0;32m    623\u001b[0m     \u001b[38;5;28;01mreturn\u001b[39;00m parser\n",
      "File \u001b[1;32m~\\miniconda3\\Lib\\site-packages\\pandas\\io\\parsers\\readers.py:1620\u001b[0m, in \u001b[0;36mTextFileReader.__init__\u001b[1;34m(self, f, engine, **kwds)\u001b[0m\n\u001b[0;32m   1617\u001b[0m     \u001b[38;5;28mself\u001b[39m\u001b[38;5;241m.\u001b[39moptions[\u001b[38;5;124m\"\u001b[39m\u001b[38;5;124mhas_index_names\u001b[39m\u001b[38;5;124m\"\u001b[39m] \u001b[38;5;241m=\u001b[39m kwds[\u001b[38;5;124m\"\u001b[39m\u001b[38;5;124mhas_index_names\u001b[39m\u001b[38;5;124m\"\u001b[39m]\n\u001b[0;32m   1619\u001b[0m \u001b[38;5;28mself\u001b[39m\u001b[38;5;241m.\u001b[39mhandles: IOHandles \u001b[38;5;241m|\u001b[39m \u001b[38;5;28;01mNone\u001b[39;00m \u001b[38;5;241m=\u001b[39m \u001b[38;5;28;01mNone\u001b[39;00m\n\u001b[1;32m-> 1620\u001b[0m \u001b[38;5;28mself\u001b[39m\u001b[38;5;241m.\u001b[39m_engine \u001b[38;5;241m=\u001b[39m \u001b[38;5;28mself\u001b[39m\u001b[38;5;241m.\u001b[39m_make_engine(f, \u001b[38;5;28mself\u001b[39m\u001b[38;5;241m.\u001b[39mengine)\n",
      "File \u001b[1;32m~\\miniconda3\\Lib\\site-packages\\pandas\\io\\parsers\\readers.py:1880\u001b[0m, in \u001b[0;36mTextFileReader._make_engine\u001b[1;34m(self, f, engine)\u001b[0m\n\u001b[0;32m   1878\u001b[0m     \u001b[38;5;28;01mif\u001b[39;00m \u001b[38;5;124m\"\u001b[39m\u001b[38;5;124mb\u001b[39m\u001b[38;5;124m\"\u001b[39m \u001b[38;5;129;01mnot\u001b[39;00m \u001b[38;5;129;01min\u001b[39;00m mode:\n\u001b[0;32m   1879\u001b[0m         mode \u001b[38;5;241m+\u001b[39m\u001b[38;5;241m=\u001b[39m \u001b[38;5;124m\"\u001b[39m\u001b[38;5;124mb\u001b[39m\u001b[38;5;124m\"\u001b[39m\n\u001b[1;32m-> 1880\u001b[0m \u001b[38;5;28mself\u001b[39m\u001b[38;5;241m.\u001b[39mhandles \u001b[38;5;241m=\u001b[39m get_handle(\n\u001b[0;32m   1881\u001b[0m     f,\n\u001b[0;32m   1882\u001b[0m     mode,\n\u001b[0;32m   1883\u001b[0m     encoding\u001b[38;5;241m=\u001b[39m\u001b[38;5;28mself\u001b[39m\u001b[38;5;241m.\u001b[39moptions\u001b[38;5;241m.\u001b[39mget(\u001b[38;5;124m\"\u001b[39m\u001b[38;5;124mencoding\u001b[39m\u001b[38;5;124m\"\u001b[39m, \u001b[38;5;28;01mNone\u001b[39;00m),\n\u001b[0;32m   1884\u001b[0m     compression\u001b[38;5;241m=\u001b[39m\u001b[38;5;28mself\u001b[39m\u001b[38;5;241m.\u001b[39moptions\u001b[38;5;241m.\u001b[39mget(\u001b[38;5;124m\"\u001b[39m\u001b[38;5;124mcompression\u001b[39m\u001b[38;5;124m\"\u001b[39m, \u001b[38;5;28;01mNone\u001b[39;00m),\n\u001b[0;32m   1885\u001b[0m     memory_map\u001b[38;5;241m=\u001b[39m\u001b[38;5;28mself\u001b[39m\u001b[38;5;241m.\u001b[39moptions\u001b[38;5;241m.\u001b[39mget(\u001b[38;5;124m\"\u001b[39m\u001b[38;5;124mmemory_map\u001b[39m\u001b[38;5;124m\"\u001b[39m, \u001b[38;5;28;01mFalse\u001b[39;00m),\n\u001b[0;32m   1886\u001b[0m     is_text\u001b[38;5;241m=\u001b[39mis_text,\n\u001b[0;32m   1887\u001b[0m     errors\u001b[38;5;241m=\u001b[39m\u001b[38;5;28mself\u001b[39m\u001b[38;5;241m.\u001b[39moptions\u001b[38;5;241m.\u001b[39mget(\u001b[38;5;124m\"\u001b[39m\u001b[38;5;124mencoding_errors\u001b[39m\u001b[38;5;124m\"\u001b[39m, \u001b[38;5;124m\"\u001b[39m\u001b[38;5;124mstrict\u001b[39m\u001b[38;5;124m\"\u001b[39m),\n\u001b[0;32m   1888\u001b[0m     storage_options\u001b[38;5;241m=\u001b[39m\u001b[38;5;28mself\u001b[39m\u001b[38;5;241m.\u001b[39moptions\u001b[38;5;241m.\u001b[39mget(\u001b[38;5;124m\"\u001b[39m\u001b[38;5;124mstorage_options\u001b[39m\u001b[38;5;124m\"\u001b[39m, \u001b[38;5;28;01mNone\u001b[39;00m),\n\u001b[0;32m   1889\u001b[0m )\n\u001b[0;32m   1890\u001b[0m \u001b[38;5;28;01massert\u001b[39;00m \u001b[38;5;28mself\u001b[39m\u001b[38;5;241m.\u001b[39mhandles \u001b[38;5;129;01mis\u001b[39;00m \u001b[38;5;129;01mnot\u001b[39;00m \u001b[38;5;28;01mNone\u001b[39;00m\n\u001b[0;32m   1891\u001b[0m f \u001b[38;5;241m=\u001b[39m \u001b[38;5;28mself\u001b[39m\u001b[38;5;241m.\u001b[39mhandles\u001b[38;5;241m.\u001b[39mhandle\n",
      "File \u001b[1;32m~\\miniconda3\\Lib\\site-packages\\pandas\\io\\common.py:873\u001b[0m, in \u001b[0;36mget_handle\u001b[1;34m(path_or_buf, mode, encoding, compression, memory_map, is_text, errors, storage_options)\u001b[0m\n\u001b[0;32m    868\u001b[0m \u001b[38;5;28;01melif\u001b[39;00m \u001b[38;5;28misinstance\u001b[39m(handle, \u001b[38;5;28mstr\u001b[39m):\n\u001b[0;32m    869\u001b[0m     \u001b[38;5;66;03m# Check whether the filename is to be opened in binary mode.\u001b[39;00m\n\u001b[0;32m    870\u001b[0m     \u001b[38;5;66;03m# Binary mode does not support 'encoding' and 'newline'.\u001b[39;00m\n\u001b[0;32m    871\u001b[0m     \u001b[38;5;28;01mif\u001b[39;00m ioargs\u001b[38;5;241m.\u001b[39mencoding \u001b[38;5;129;01mand\u001b[39;00m \u001b[38;5;124m\"\u001b[39m\u001b[38;5;124mb\u001b[39m\u001b[38;5;124m\"\u001b[39m \u001b[38;5;129;01mnot\u001b[39;00m \u001b[38;5;129;01min\u001b[39;00m ioargs\u001b[38;5;241m.\u001b[39mmode:\n\u001b[0;32m    872\u001b[0m         \u001b[38;5;66;03m# Encoding\u001b[39;00m\n\u001b[1;32m--> 873\u001b[0m         handle \u001b[38;5;241m=\u001b[39m \u001b[38;5;28mopen\u001b[39m(\n\u001b[0;32m    874\u001b[0m             handle,\n\u001b[0;32m    875\u001b[0m             ioargs\u001b[38;5;241m.\u001b[39mmode,\n\u001b[0;32m    876\u001b[0m             encoding\u001b[38;5;241m=\u001b[39mioargs\u001b[38;5;241m.\u001b[39mencoding,\n\u001b[0;32m    877\u001b[0m             errors\u001b[38;5;241m=\u001b[39merrors,\n\u001b[0;32m    878\u001b[0m             newline\u001b[38;5;241m=\u001b[39m\u001b[38;5;124m\"\u001b[39m\u001b[38;5;124m\"\u001b[39m,\n\u001b[0;32m    879\u001b[0m         )\n\u001b[0;32m    880\u001b[0m     \u001b[38;5;28;01melse\u001b[39;00m:\n\u001b[0;32m    881\u001b[0m         \u001b[38;5;66;03m# Binary mode\u001b[39;00m\n\u001b[0;32m    882\u001b[0m         handle \u001b[38;5;241m=\u001b[39m \u001b[38;5;28mopen\u001b[39m(handle, ioargs\u001b[38;5;241m.\u001b[39mmode)\n",
      "\u001b[1;31mOSError\u001b[0m: [Errno 22] Invalid argument: 'C:\\\\Users\\\\luist\\\\OneDrive\\\\C:\\\\Users\\\\luist\\\\OneDrive\\\\Documentos\\\\precos_acoes.csv'"
     ]
    }
   ],
   "source": [
    "import pandas as pd\n",
    "\n",
    "# Carregar os dados\n",
    "df = pd.read_csv(r'C:\\Users\\luist\\OneDrive\\C:\\Users\\luist\\OneDrive\\Documentos\\precos_acoes.csv', \n",
    "                   index_col='Data', \n",
    "                   parse_dates=['Data'])\n",
    "\n",
    "# Visualizar os dados\n",
    "df.plot()\n",
    "\n",
    "# Realizar análise de tendência\n",
    "tendencia = df.rolling(window=30).mean()\n",
    "\n",
    "# Visualizar a tendência\n",
    "tendencia.plot()"
   ]
  },
  {
   "cell_type": "code",
   "execution_count": null,
   "id": "dfe3b4b7-a4e0-4eb4-adb5-17f6144f33a5",
   "metadata": {},
   "outputs": [],
   "source": []
  }
 ],
 "metadata": {
  "kernelspec": {
   "display_name": "Python 3 (ipykernel)",
   "language": "python",
   "name": "python3"
  },
  "language_info": {
   "codemirror_mode": {
    "name": "ipython",
    "version": 3
   },
   "file_extension": ".py",
   "mimetype": "text/x-python",
   "name": "python",
   "nbconvert_exporter": "python",
   "pygments_lexer": "ipython3",
   "version": "3.12.9"
  }
 },
 "nbformat": 4,
 "nbformat_minor": 5
}
