{
 "cells": [
  {
   "cell_type": "code",
   "execution_count": 5,
   "id": "4a513d0d-de7d-4f5b-8a74-95565efa8f45",
   "metadata": {},
   "outputs": [
    {
     "name": "stdout",
     "output_type": "stream",
     "text": [
      "Tempo de execução: 4.128464937210083 segundos\n",
      "Tempo de execução: 0.17331862449645996 segundos\n"
     ]
    }
   ],
   "source": [
    "import xlwings as xw\n",
    "import numpy as np\n",
    "\n",
    "app = xw.App(visible=False)\n",
    "book = xw.Book()\n",
    "sheet2 = book.sheets.add()\n",
    "sheet2[\"A1\"].value = np.arange(150).reshape(30,5)\n",
    "\n",
    "# Loop para adicionar 1 a cada célula\n",
    "import time\n",
    "start_time = time.time()\n",
    "for cell in sheet2[\"A1:E30\"]:\n",
    "    cell.value += 1\n",
    "end_time = time.time()\n",
    "print(f\"Tempo de execução: {end_time - start_time} segundos\")\n",
    "\n",
    "# Usando options para adicionar 1 a cada célula\n",
    "start_time = time.time()\n",
    "values = sheet2[\"A1:E30\"].options(np.array).value\n",
    "sheet2[\"A1\"].value = values + 1\n",
    "end_time = time.time()\n",
    "print(f\"Tempo de execução: {end_time - start_time} segundos\")"
   ]
  },
  {
   "cell_type": "code",
   "execution_count": null,
   "id": "020cc6fc-bcd4-400d-84fa-1716199cef3c",
   "metadata": {},
   "outputs": [],
   "source": [
    "# - O uso da opção options para adicionar 1 a cada célula foi significativamente mais rápido do que o loop.\n",
    "# - Isso ocorre porque a opção options permite que o xlwings trabalhe com arrays do NumPy, o que é mais eficiente do que iterar sobre células individuais."
   ]
  },
  {
   "cell_type": "code",
   "execution_count": 7,
   "id": "1b9ee04f-70ba-49c2-822d-d969447aae6c",
   "metadata": {},
   "outputs": [
    {
     "name": "stdout",
     "output_type": "stream",
     "text": [
      "[[  0   1   2   3   4]\n",
      " [  5   6   7   8   9]\n",
      " [ 10  11  12  13  14]\n",
      " [ 15  16  17  18  19]\n",
      " [ 20  21  22  23  24]\n",
      " [ 25  26  27  28  29]\n",
      " [ 30  31  32  33  34]\n",
      " [ 35  36  37  38  39]\n",
      " [ 40  41  42  43  44]\n",
      " [ 45  46  47  48  49]\n",
      " [ 50  51  52  53  54]\n",
      " [ 55  56  57  58  59]\n",
      " [ 60  61  62  63  64]\n",
      " [ 65  66  67  68  69]\n",
      " [ 70  71  72  73  74]\n",
      " [ 75  76  77  78  79]\n",
      " [ 80  81  82  83  84]\n",
      " [ 85  86  87  88  89]\n",
      " [ 90  91  92  93  94]\n",
      " [ 95  96  97  98  99]\n",
      " [100 101 102 103 104]\n",
      " [105 106 107 108 109]\n",
      " [110 111 112 113 114]\n",
      " [115 116 117 118 119]\n",
      " [120 121 122 123 124]\n",
      " [125 126 127 128 129]\n",
      " [130 131 132 133 134]\n",
      " [135 136 137 138 139]\n",
      " [140 141 142 143 144]\n",
      " [145 146 147 148 149]]\n"
     ]
    }
   ],
   "source": [
    "import numpy as np\n",
    "\n",
    "array = np.arange(150).reshape(30, 5)\n",
    "print(array)\n"
   ]
  },
  {
   "cell_type": "code",
   "execution_count": 21,
   "id": "1d4ccadd-528f-40ac-97fe-c847b8449e15",
   "metadata": {},
   "outputs": [],
   "source": [
    "import xlwings as xw\n",
    "import numpy as np\n",
    "\n",
    "app = xw.App(visible=False)\n",
    "wb = xw.Book()\n",
    "sheet2 = wb.sheets.add()\n",
    "sheet2[\"A1\"].value = np.arange(150).reshape(30,5)\n",
    "wb.save(\"C:\\\\Users\\\\luist\\\\Documents\\\\planilha.xlsx\")\n",
    "app.quit()\n"
   ]
  },
  {
   "cell_type": "code",
   "execution_count": null,
   "id": "7a91cd87-8a43-4c57-be9d-41d4e322d6b8",
   "metadata": {},
   "outputs": [],
   "source": [
    "# O que está acontecendo:\n",
    "# - np.arange(100) cria um array com 100 elementos.\n",
    "# - reshape(30, 6) tenta reorganizar esses 100 elementos em uma matriz com 30 linhas e 6 colunas.\n",
    "# - No entanto, 30 linhas e 6 colunas dariam um total de 180 elementos (30 x 6 = 180), o que não é compatível com os 100 elementos do array original.\n"
   ]
  },
  {
   "cell_type": "code",
   "execution_count": 25,
   "id": "8be16be8-11d9-4a68-80da-a2d36ecbfb6e",
   "metadata": {},
   "outputs": [],
   "source": [
    "import xlwings as xw\n",
    "import numpy as np\n",
    "\n",
    "app = xw.App(visible=False)\n",
    "wb = xw.Book()\n",
    "sheet = wb.sheets[0]\n",
    "array = np.arange(100).reshape(10, 10)\n",
    "sheet[\"A1\"].value = array\n",
    "nome_arquivo = \"planilha\"\n",
    "numero = 2\n",
    "wb.save(\"C:\\\\Users\\\\luist\\\\Documents\\\\planilha.xlsx\")\n",
    "wb.save(f\"{nome_arquivo}_{numero}.xlsx\")  # Salva com um nome diferente\n",
    "app.quit()\n"
   ]
  },
  {
   "cell_type": "code",
   "execution_count": null,
   "id": "2be9dba8-eed5-44cf-8f41-a0f323b967df",
   "metadata": {},
   "outputs": [],
   "source": [
    "Comandos que mencionei anteriormente (cd, dir, start) são usados para verificar e manipular arquivos e pastas no prompt do Anaconda (ou no cmd do Windows).\n",
    "\n",
    "Comandos para verificar arquivos e pastas:\n",
    "- cd: Muda para um diretório específico.\n",
    "- dir: Lista os arquivos e pastas no diretório atual.\n",
    "- ls: Lista os arquivos e pastas no diretório atual (similar ao dir, mas com mais opções).\n",
    "- pwd: Mostra o caminho do diretório atual.\n",
    "\n",
    "Comandos para manipular arquivos e pastas:\n",
    "- mkdir: Cria uma nova pasta.\n",
    "- rmdir: Remove uma pasta vazia.\n",
    "- del: Remove um arquivo.\n",
    "- copy: Copia um arquivo.\n",
    "- move: Move um arquivo ou pasta.\n",
    "- rename: Renomeia um arquivo ou pasta.\n",
    "\n",
    "Comandos para abrir arquivos:\n",
    "- start: Abre um arquivo com o programa associado.\n"
   ]
  },
  {
   "cell_type": "code",
   "execution_count": null,
   "id": "b693ddeb-e23e-4303-af51-9a4204c28350",
   "metadata": {},
   "outputs": [],
   "source": [
    "Para localizar a planilha criada no prompt do Anaconda, você pode seguir os passos abaixo:\n",
    "\n",
    "Passos:\n",
    "1. Abra o prompt do Anaconda.\n",
    "2. Digite o comando cd seguido do caminho onde você salvou a planilha. Por exemplo: cd C:\\Users\\luist\\Documents\n",
    "3. Pressione Enter para mudar para o diretório especificado.\n",
    "4. Digite o comando dir para listar os arquivos no diretório atual.\n",
    "5. Procure pelo nome da planilha que você criou (por exemplo, \"planilha_2.xlsx\").\n",
    "\n",
    "Exemplo:\n",
    "\n",
    "C:\\Users\\luist>cd C:\\Users\\luist\\Documents\n",
    "C:\\Users\\luist\\Documents>dir\n",
    " Volume in drive C has no label.\n",
    " Volume serial number is 12345678\n",
    "\n",
    " Directory of C:\\Users\\luist\\Documents\n",
    "\n",
    "02/02/2023  10:00 AM    <DIR>          .\n",
    "02/02/2023  10:00 AM    <DIR>          ..\n",
    "02/02/2023  10:00 AM               123 planilha_2.xlsx\n",
    "               1 File(s)            123 bytes\n",
    "               2 Dir(s)  123456789 bytes free\n",
    "\n",
    "\n",
    "Ou, se você quiser abrir a planilha diretamente do prompt do Anaconda:\n",
    "1. Digite o comando start seguido do nome da planilha. Por exemplo: start planilha_2.xlsx\n",
    "2. Pressione Enter para abrir a planilha no Excel.\n",
    "\n",
    "Exemplo:\n",
    "\n",
    "C:\\Users\\luist\\Documents>start planilha_2.xlsx"
   ]
  },
  {
   "cell_type": "code",
   "execution_count": 28,
   "id": "f5163ff7-327a-4f52-994c-70ff50d4882b",
   "metadata": {},
   "outputs": [],
   "source": [
    "import xlwings as xw\n",
    "import numpy as np\n",
    "\n",
    "app = xw.App(visible=False)\n",
    "wb = xw.Book()\n",
    "\n",
    "# Cria as planilhas\n",
    "\n",
    "shapes = [(10, 10), (5, 10), (20, 10)]\n",
    "for i, shape in enumerate(shapes):\n",
    "    sheet = wb.sheets.add()\n",
    "    sheet.name = f\"Planilha {i+1}\"\n",
    "    array = np.arange(shape[0]*shape[1]).reshape(shape)\n",
    "    sheet[\"A1\"].value = array\n",
    "\n",
    "wb.save(\"planilha.xlsx\")\n",
    "app.quit()\n"
   ]
  },
  {
   "cell_type": "code",
   "execution_count": null,
   "id": "9db9d6f9-88d9-47e7-9a02-6640f90bba9d",
   "metadata": {},
   "outputs": [],
   "source": [
    "Aqui está o código equivalente usando o pandas:\n",
    "\n",
    "Exemplo:\n",
    "\n",
    "import pandas as pd\n",
    "import numpy as np\n",
    "\n",
    "# Cria as planilhas\n",
    "\n",
    "shapes = [(10, 10), (5, 10), (20, 10)]\n",
    "with pd.ExcelWriter(\"planilha.xlsx\") as writer:\n",
    "    for i, shape in enumerate(shapes):\n",
    "        array = np.arange(shape[0]*shape[1]).reshape(shape)\n",
    "        df = pd.DataFrame(array)\n",
    "        df.to_excel(writer, sheet_name=f\"Planilha {i+1}\", index=False)\n",
    "\n",
    "\n",
    "Nesse exemplo, estamos usando o pd.ExcelWriter para criar um arquivo de Excel e escrever as planilhas nele. Cada planilha é criada a partir de um DataFrame do pandas, que é gerado a partir do array numpy.\n",
    "\n",
    "Observações:\n",
    "- O pd.ExcelWriter é usado para criar um arquivo de Excel e escrever as planilhas nele.\n",
    "- O df.to_excel é usado para escrever o DataFrame no arquivo de Excel.\n",
    "- O sheet_name é usado para especificar o nome da planilha.\n",
    "- O index=False é usado para não incluir o índice do DataFrame na planilha.\n",
    "\n",
    "Esse código é mais conciso e fácil de ler do que o código original, e também é mais eficiente porque não requer a criação de um objeto xlwings.App."
   ]
  },
  {
   "cell_type": "code",
   "execution_count": 36,
   "id": "ddcfc5d5-f7e7-4b36-a17a-cad2a6f25ffb",
   "metadata": {},
   "outputs": [],
   "source": [
    "import pandas as pd\n",
    "import numpy as np\n",
    "\n",
    "# Cria as planilhas\n",
    "shapes = [(10, 10), (5, 10), (20, 10)]\n",
    "with pd.ExcelWriter(\"planilhas.xlsx\") as writer:\n",
    "    for i, shape in enumerate(shapes):\n",
    "        array = np.arange(shape[0]*shape[1]).reshape(shape)\n",
    "        df = pd.DataFrame(array)\n",
    "        df.to_excel(writer, sheet_name=f\"Planilhas {i+1}\", index=False)\n",
    "        "
   ]
  },
  {
   "cell_type": "code",
   "execution_count": null,
   "id": "5e7d2450-553e-4b1c-8e40-8dca08133436",
   "metadata": {},
   "outputs": [],
   "source": []
  },
  {
   "cell_type": "code",
   "execution_count": null,
   "id": "5067a310-9f06-45fe-aa2d-ff21a74756e5",
   "metadata": {},
   "outputs": [],
   "source": []
  }
 ],
 "metadata": {
  "kernelspec": {
   "display_name": "Python 3 (ipykernel)",
   "language": "python",
   "name": "python3"
  },
  "language_info": {
   "codemirror_mode": {
    "name": "ipython",
    "version": 3
   },
   "file_extension": ".py",
   "mimetype": "text/x-python",
   "name": "python",
   "nbconvert_exporter": "python",
   "pygments_lexer": "ipython3",
   "version": "3.12.9"
  }
 },
 "nbformat": 4,
 "nbformat_minor": 5
}
