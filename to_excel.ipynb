{
 "cells": [
  {
   "cell_type": "code",
   "execution_count": 5,
   "id": "eb4c41c0-1454-45d4-975c-a421c4625bc4",
   "metadata": {
    "collapsed": true,
    "jupyter": {
     "outputs_hidden": true
    }
   },
   "outputs": [
    {
     "name": "stdout",
     "output_type": "stream",
     "text": [
      "                    Dates  Floats  Integers  Booleans\n",
      "index                                                \n",
      "0     2020-01-01 10:13:00  2222.0         1      True\n",
      "1     2020-01-02 00:00:00     NaN         2     False\n",
      "2     2020-01-02 00:00:00     inf         3      True\n"
     ]
    }
   ],
   "source": [
    "import numpy as np\n",
    "import pandas as pd\n",
    "import datetime as dt\n",
    "\n",
    "# Crie uma lista de dados\n",
    "\n",
    "data = [\n",
    "    [dt.datetime(2020, 1, 1, 10, 13), 2222, 1, True],\n",
    "    [dt.datetime(2020, 1, 2), np.nan, 2, False],\n",
    "    [dt.datetime(2020, 1, 2), np.inf, 3, True]\n",
    "]\n",
    "\n",
    "# Crie um DataFrame\n",
    "\n",
    "df = pd.DataFrame(\n",
    "    data=data,\n",
    "    columns=[\"Dates\", \"Floats\", \"Integers\", \"Booleans\"]\n",
    ")\n",
    "\n",
    "# Defina o nome do índice\n",
    "\n",
    "df.index.name = \"index\"\n",
    "\n",
    "# Exiba o DataFrame\n",
    "\n",
    "print(df)"
   ]
  },
  {
   "cell_type": "code",
   "execution_count": null,
   "id": "b48716fe-e063-4c51-adb4-e7645763be69",
   "metadata": {},
   "outputs": [],
   "source": []
  },
  {
   "cell_type": "code",
   "execution_count": 8,
   "id": "ec26b802-a716-4715-b7e7-2fb09559262f",
   "metadata": {},
   "outputs": [],
   "source": [
    "df.to_excel(\n",
    "    \"written_with_pandas.xlsx\",\n",
    "    sheet_name=\"Output\",\n",
    "    startrow=1,\n",
    "    startcol=1,\n",
    "    index=True,\n",
    "    header=True,\n",
    "    na_rep=\"<NA>\",\n",
    "    inf_rep=\"<INF>\"\n",
    ")\n"
   ]
  },
  {
   "cell_type": "code",
   "execution_count": null,
   "id": "dd23deae-80ee-4501-aa2f-2a2dbd6258f2",
   "metadata": {},
   "outputs": [],
   "source": [
    "# Esse código salvará o DataFrame df em um arquivo Excel chamado \"written_with_pandas.xlsx\" com as seguintes configurações:\n",
    "\n",
    "# - sheet_name=\"Output\": O nome da planilha no arquivo Excel será \"Output\".\n",
    "# - startrow=1 e startcol=1: O DataFrame será escrito começando da segunda linha e segunda coluna da planilha.\n",
    "# - index=True: O índice do DataFrame será incluído no arquivo Excel.\n",
    "# - header=True: Os nomes das colunas do DataFrame serão incluídos no arquivo Excel.\n",
    "# - na_rep=\"<NA>\": Os valores ausentes (NaN) serão representados como \"<NA>\" no arquivo Excel.\n",
    "# - inf_rep=\"<INF>\": Os valores infinitos serão representados como \"<INF>\" no arquivo Excel.\n"
   ]
  },
  {
   "cell_type": "code",
   "execution_count": 9,
   "id": "7be5744b-28ba-4d8c-9e86-20bf1e62afad",
   "metadata": {},
   "outputs": [
    {
     "name": "stdout",
     "output_type": "stream",
     "text": [
      "Diretório atual: C:\\Users\\luist\n"
     ]
    }
   ],
   "source": [
    "import os\n",
    "\n",
    "# Salva o arquivo Excel\n",
    "\n",
    "df.to_excel(\"arquivo.xlsx\")\n",
    "\n",
    "# Verifica o diretório atual\n",
    "\n",
    "print(\"Diretório atual:\", os.getcwd())\n"
   ]
  },
  {
   "cell_type": "code",
   "execution_count": null,
   "id": "8e14c835-aa5f-476a-8efa-30e97b6ad07a",
   "metadata": {},
   "outputs": [],
   "source": [
    "# Trazer um arquivo do excel para o pandas:\n"
   ]
  },
  {
   "cell_type": "code",
   "execution_count": 14,
   "id": "5119be25-48c9-40a6-81da-29c96112f9ab",
   "metadata": {},
   "outputs": [
    {
     "name": "stdout",
     "output_type": "stream",
     "text": [
      "C:\\Users\\luist\n",
      "         NOME  ID-REGISTRO DATA-ADMISSÃO       CARGO  SALÁRIO  \\\n",
      "0     Rodrigo  755/-A-/877    2006-01-06    Auxiliar   1820.8   \n",
      "1      Agatha  611/-C-/683    2005-10-24    Analista   3182.1   \n",
      "2      Felipe  769/-B-/203    1997-05-08    Auxiliar   2177.6   \n",
      "3     Vitória  446/-C-/984    2015-05-08  Supervisor   4962.5   \n",
      "4    Benjamin  562/-B-/476    1998-07-23  Supervisor   5484.5   \n",
      "..        ...          ...           ...         ...      ...   \n",
      "194     Clara  538/-B-/189    1997-08-20    Auxiliar   1827.4   \n",
      "195  Isabelly  853/-A-/302    2015-09-18  Presidente  27618.0   \n",
      "196    Nicole  591/-C-/230    2008-12-17    Auxiliar   2055.8   \n",
      "197  Benjamin  539/-A-/940    2014-03-12  Assistente   2448.0   \n",
      "198   Cecília  447/-A-/120    2019-04-20  Assistente   2276.0   \n",
      "\n",
      "                CIDADE-ATUAÇÃO      LOJA  \n",
      "0             LOJA 004 - CEARÁ  LOJA 004  \n",
      "1    LOJA 003 - RIO DE JANEIRO  LOJA 003  \n",
      "2         LOJA 001 - SÃO PAULO  LOJA 001  \n",
      "3    LOJA 003 - RIO DE JANEIRO  LOJA 003  \n",
      "4         LOJA 001 - SÃO PAULO  LOJA 001  \n",
      "..                         ...       ...  \n",
      "194       LOJA 001 - SÃO PAULO  LOJA 001  \n",
      "195           LOJA 004 - CEARÁ  LOJA 004  \n",
      "196    LOJA 002 - MINAS GERAIS  LOJA 002  \n",
      "197  LOJA 003 - RIO DE JANEIRO  LOJA 003  \n",
      "198       LOJA 001 - SÃO PAULO  LOJA 001  \n",
      "\n",
      "[199 rows x 7 columns]\n"
     ]
    }
   ],
   "source": [
    "import pandas as pd\n",
    "import os\n",
    "\n",
    "# Verifica o diretório atual\n",
    "print(os.getcwd())\n",
    "\n",
    "# Carrega o arquivo Excel\n",
    "df = pd.read_excel('C:/Users/luist/OneDrive/Documentos/banco_de_dados.xlsx')\n",
    "\n",
    "# Exibe o DataFrame\n",
    "print(df)"
   ]
  },
  {
   "cell_type": "code",
   "execution_count": null,
   "id": "74f4ccb5-d5d2-4118-b7e4-d366155ae4ae",
   "metadata": {},
   "outputs": [],
   "source": [
    "# - Filtar os dados por cargo ou loja\n",
    "# - Agrupar os dados por cidade ou loja\n",
    "# - Calcular estatísticas descritivas, como média salarial por cargo\n",
    "# - Criar visualizações de dados, como gráficos de barras ou scatter plots"
   ]
  },
  {
   "cell_type": "code",
   "execution_count": 16,
   "id": "36dbeb80-5e09-4a62-b31d-56dddf8052c9",
   "metadata": {},
   "outputs": [
    {
     "name": "stdout",
     "output_type": "stream",
     "text": [
      "        CARGO    SALÁRIO\n",
      "0    Analista   30871.20\n",
      "1  Assistente  117841.75\n",
      "2    Auxiliar  198310.00\n",
      "3         CEO  383720.00\n",
      "4     Diretor   81196.00\n",
      "5     Gerente  119895.00\n",
      "6  Presidente  123180.00\n",
      "7  Supervisor   96298.00\n"
     ]
    }
   ],
   "source": [
    "#  - Filtar os dados por cargo ou loja:\n",
    "\n",
    "# Filtra os dados para mostrar o salário total por cargo\n",
    "\n",
    "salarios_por_cargo = df.groupby('CARGO')['SALÁRIO'].sum().reset_index()\n",
    "print(salarios_por_cargo)\n",
    "\n",
    "\n"
   ]
  },
  {
   "cell_type": "code",
   "execution_count": 19,
   "id": "6fe4c948-ce5c-49b1-babe-f935b35a8709",
   "metadata": {},
   "outputs": [
    {
     "name": "stdout",
     "output_type": "stream",
     "text": [
      "Salário total: R$ 1151311.95\n"
     ]
    }
   ],
   "source": [
    "# Calcula o salário total de todos os funcionários\n",
    "\n",
    "salario_total = df['SALÁRIO'].sum()\n",
    "print(f\"Salário total: R$ {salario_total:.2f}\")\n"
   ]
  },
  {
   "cell_type": "code",
   "execution_count": 20,
   "id": "0f9adffb-8dd7-4550-805b-544482f6b1fe",
   "metadata": {},
   "outputs": [
    {
     "name": "stdout",
     "output_type": "stream",
     "text": [
      "       LOJA      SALÁRIO\n",
      "0  LOJA 001  6605.120455\n",
      "1  LOJA 002  5602.750000\n",
      "2  LOJA 003  5159.727778\n",
      "3  LOJA 004  5913.973077\n"
     ]
    }
   ],
   "source": [
    "# Calcula a média salarial por loja\n",
    "\n",
    "media_salarial_por_loja = df.groupby('LOJA')['SALÁRIO'].mean().reset_index()\n",
    "print(media_salarial_por_loja)\n"
   ]
  },
  {
   "cell_type": "code",
   "execution_count": 21,
   "id": "bb102e73-81a0-422e-a02e-4fcd22bbcd06",
   "metadata": {},
   "outputs": [
    {
     "name": "stdout",
     "output_type": "stream",
     "text": [
      "       LOJA      SALÁRIO\n",
      "0  LOJA 001  6605.120455\n",
      "3  LOJA 004  5913.973077\n",
      "1  LOJA 002  5602.750000\n",
      "2  LOJA 003  5159.727778\n"
     ]
    }
   ],
   "source": [
    "# Caso queira ordenar os resultados por média salarial, pode adicionar o método sort_values():\n",
    "\n",
    "\n",
    "media_salarial_por_loja = df.groupby('LOJA')['SALÁRIO'].mean().reset_index().sort_values('SALÁRIO', ascending=False)\n",
    "print(media_salarial_por_loja)\n"
   ]
  },
  {
   "cell_type": "code",
   "execution_count": 22,
   "id": "f23a356f-137a-4e23-8529-92607eefe479",
   "metadata": {},
   "outputs": [
    {
     "name": "stdout",
     "output_type": "stream",
     "text": [
      "Maior salário:\n",
      "NOME           Theo\n",
      "SALÁRIO    100710.0\n",
      "Name: 184, dtype: object\n",
      "\n",
      "Menor salário:\n",
      "NOME       Emanuel\n",
      "SALÁRIO     1808.2\n",
      "Name: 183, dtype: object\n"
     ]
    }
   ],
   "source": [
    "# Encontra o maior salário com o nome correspondente:\n",
    "\n",
    "maior_salario = df.loc[df['SALÁRIO'].idxmax()]\n",
    "print(\"Maior salário:\")\n",
    "print(maior_salario[['NOME', 'SALÁRIO']])\n",
    "\n",
    "# Encontra o menor salário com o nome correspondente\n",
    "\n",
    "menor_salario = df.loc[df['SALÁRIO'].idxmin()]\n",
    "print(\"\\nMenor salário:\")\n",
    "print(menor_salario[['NOME', 'SALÁRIO']])\n"
   ]
  },
  {
   "cell_type": "code",
   "execution_count": 24,
   "id": "0b29c513-4623-421e-8315-476f57f282e7",
   "metadata": {},
   "outputs": [
    {
     "name": "stdout",
     "output_type": "stream",
     "text": [
      "CIDADE-ATUAÇÃO\n",
      "LOJA 001 - SÃO PAULO         44\n",
      "LOJA 002 - MINAS GERAIS      49\n",
      "LOJA 003 - RIO DE JANEIRO    54\n",
      "LOJA 004 - CEARÁ             52\n",
      "dtype: int64\n"
     ]
    }
   ],
   "source": [
    "# Agrupa os dados por cidades\n",
    "\n",
    "dados_por_cidade = df.groupby('CIDADE-ATUAÇÃO')\n",
    "print(dados_por_cidade.size())\n"
   ]
  },
  {
   "cell_type": "code",
   "execution_count": 25,
   "id": "bf59493d-ae57-4792-b85a-92f3f4c8e706",
   "metadata": {},
   "outputs": [
    {
     "name": "stdout",
     "output_type": "stream",
     "text": [
      "                           count         mean           std     min      25%  \\\n",
      "CIDADE-ATUAÇÃO                                                                 \n",
      "LOJA 001 - SÃO PAULO        44.0  6605.120455  15449.194617  1827.4  2069.00   \n",
      "LOJA 002 - MINAS GERAIS     49.0  5602.750000  13559.863451  1821.4  2139.20   \n",
      "LOJA 003 - RIO DE JANEIRO   54.0  5159.727778  14081.188904  1808.2  1876.40   \n",
      "LOJA 004 - CEARÁ            52.0  5913.973077  12927.697469  1808.6  2019.35   \n",
      "\n",
      "                               50%       75%       max  \n",
      "CIDADE-ATUAÇÃO                                          \n",
      "LOJA 001 - SÃO PAULO       2180.80  4594.625  100110.0  \n",
      "LOJA 002 - MINAS GERAIS    2342.75  2705.000   91510.0  \n",
      "LOJA 003 - RIO DE JANEIRO  2047.20  2621.375  100710.0  \n",
      "LOJA 004 - CEARÁ           2425.75  4755.625   91390.0  \n"
     ]
    }
   ],
   "source": [
    "# Agrupa os dados por cidades e calcula estatísticas descritivas:\n",
    "\n",
    "dados_por_cidade = df.groupby('CIDADE-ATUAÇÃO')['SALÁRIO'].describe()\n",
    "print(dados_por_cidade)\n"
   ]
  },
  {
   "cell_type": "code",
   "execution_count": 27,
   "id": "95ea9add-900c-4737-8c46-dcbf155c7d0b",
   "metadata": {},
   "outputs": [
    {
     "name": "stdout",
     "output_type": "stream",
     "text": [
      "CARGO\n",
      "Analista       3087.120000\n",
      "Assistente     2507.271277\n",
      "Auxiliar       2003.131313\n",
      "CEO           95930.000000\n",
      "Diretor       20299.000000\n",
      "Gerente        9991.250000\n",
      "Presidente    30795.000000\n",
      "Supervisor     5068.315789\n",
      "Name: SALÁRIO, dtype: float64\n",
      "            count          mean          std       min        25%       50%  \\\n",
      "CARGO                                                                         \n",
      "Analista     10.0   3087.120000   160.673097   2855.10   2937.675   3152.25   \n",
      "Assistente   47.0   2507.271277   150.500017   2255.75   2372.625   2519.75   \n",
      "Auxiliar     99.0   2003.131313   122.493659   1808.20   1882.400   2020.20   \n",
      "CEO           4.0  95930.000000  5179.086148  91390.00  91480.000  95810.00   \n",
      "Diretor       4.0  20299.000000  1493.700996  18124.00  19963.000  20809.00   \n",
      "Gerente      12.0   9991.250000   539.458841   9168.00   9738.000   9983.00   \n",
      "Presidente    4.0  30795.000000  2184.103020  27618.00  30360.750  31500.00   \n",
      "Supervisor   19.0   5068.315789   336.632639   4511.00   4827.000   5169.00   \n",
      "\n",
      "                   75%       max  \n",
      "CARGO                             \n",
      "Analista      3202.350    3268.8  \n",
      "Assistente    2643.375    2717.5  \n",
      "Auxiliar      2117.500    2188.0  \n",
      "CEO         100260.000  100710.0  \n",
      "Diretor      21145.000   21454.0  \n",
      "Gerente      10263.000   10991.0  \n",
      "Presidente   31934.250   32562.0  \n",
      "Supervisor    5350.000    5484.5  \n"
     ]
    }
   ],
   "source": [
    "# Calcula a média salarial por cargo\n",
    "\n",
    "media_salarial_por_cargo = df.groupby('CARGO')['SALÁRIO'].mean()\n",
    "print(media_salarial_por_cargo)\n",
    "\n",
    "# Calcula estatísticas descritivas para o salário por cargo\n",
    "\n",
    "estatisticas_por_cargo = df.groupby('CARGO')['SALÁRIO'].describe()\n",
    "print(estatisticas_por_cargo)"
   ]
  },
  {
   "cell_type": "code",
   "execution_count": 44,
   "id": "2f3ea59d-a4f3-45ae-865b-2cd422098cf0",
   "metadata": {},
   "outputs": [
    {
     "data": {
      "image/png": "[encoded data removed]",
      "text/plain": [
       "<Figure size 1000x600 with 1 Axes>"
      ]
     },
     "metadata": {},
     "output_type": "display_data"
    },
    {
     "data": {
      "image/png": "[encoded data removed]",
      "text/plain": [
       "<Figure size 1000x600 with 1 Axes>"
      ]
     },
     "metadata": {},
     "output_type": "display_data"
    }
   ],
   "source": [
    "import matplotlib.pyplot as plt\n",
    "import seaborn as sns\n",
    "\n",
    "# Cria um gráfico de barras para mostrar a média salarial por cargo\n",
    "plt.figure(figsize=(10, 6))\n",
    "sns.barplot(x=df['CARGO'], y=df['SALÁRIO'])\n",
    "plt.title('Média Salarial por Cargo')\n",
    "plt.xlabel('Cargo')\n",
    "plt.ylabel('Salário')\n",
    "plt.show()\n",
    "\n",
    "# Cria uma nova coluna com o tempo de serviço\n",
    "from datetime import date\n",
    "df['DATA-ADMISSÃO'] = pd.to_datetime(df['DATA-ADMISSÃO'])\n",
    "df['TEMPO DE SERVIÇO'] = (date.today() - df['DATA-ADMISSÃO'].dt.date).apply(lambda x: x.days)\n",
    "\n",
    "# Cria um scatter plot para mostrar a relação entre salário e tempo de serviço\n",
    "plt.figure(figsize=(10, 6))\n",
    "sns.scatterplot(x=df['TEMPO DE SERVIÇO'], y=df['SALÁRIO'])\n",
    "plt.title('Relação entre Salário e Tempo de Serviço')\n",
    "plt.xlabel('Tempo de Serviço')\n",
    "plt.ylabel('Salário')\n",
    "plt.show()\n",
    "\n"
   ]
  },
  {
   "cell_type": "code",
   "execution_count": 40,
   "id": "6b6c1a9f-a89b-4c75-8b89-783a34900f24",
   "metadata": {},
   "outputs": [
    {
     "name": "stdout",
     "output_type": "stream",
     "text": [
      "Index(['NOME', 'ID-REGISTRO', 'DATA-ADMISSÃO', 'CARGO', 'SALÁRIO',\n",
      "       'CIDADE-ATUAÇÃO', 'LOJA'],\n",
      "      dtype='object')\n"
     ]
    }
   ],
   "source": [
    "# Verifica se a coluna existe no DataFrame\n",
    "print(df.columns)\n",
    "\n",
    "# Renomeia a coluna para o nome correto\n",
    "df = df.rename(columns={'TEMPO_DE_SERVICO': 'TEMPO DE SERVIÇO'})\n",
    "\n"
   ]
  },
  {
   "cell_type": "code",
   "execution_count": 45,
   "id": "9cdcaac4-e067-4595-8e12-9b876786db90",
   "metadata": {},
   "outputs": [
    {
     "name": "stdout",
     "output_type": "stream",
     "text": [
      "                    Dates  Floats  Integers  Booleans\n",
      "index                                                \n",
      "0     2020-01-01 10:13:00  2222.0         1      True\n",
      "1     2020-01-02 00:00:00     NaN         2     False\n",
      "2     2020-01-02 00:00:00     inf         3      True\n"
     ]
    }
   ],
   "source": [
    "import numpy as np\n",
    "import pandas as pd\n",
    "import datetime as dt\n",
    "\n",
    "# Crie uma lista de dados\n",
    "\n",
    "data = [\n",
    "    [dt.datetime(2020, 1, 1, 10, 13), 2222, 1, True],\n",
    "    [dt.datetime(2020, 1, 2), np.nan, 2, False],\n",
    "    [dt.datetime(2020, 1, 2), np.inf, 3, True]\n",
    "]\n",
    "\n",
    "# Crie um DataFrame\n",
    "\n",
    "df = pd.DataFrame(\n",
    "    data=data,\n",
    "    columns=[\"Dates\", \"Floats\", \"Integers\", \"Booleans\"]\n",
    ")\n",
    "\n",
    "# Defina o nome do índice\n",
    "\n",
    "df.index.name = \"index\"\n",
    "\n",
    "# Exiba o DataFrame\n",
    "\n",
    "print(df)"
   ]
  },
  {
   "cell_type": "code",
   "execution_count": 6,
   "id": "efacbde5-8616-4339-96cd-4d2dd9edf8df",
   "metadata": {},
   "outputs": [
    {
     "name": "stdout",
     "output_type": "stream",
     "text": [
      "Nenhum arquivo Excel encontrado.\n"
     ]
    }
   ],
   "source": [
    "import pandas as pd\n",
    "from pathlib import Path\n",
    "import os\n",
    "\n",
    "# Obtém o diretório atual\n",
    "this_dir = Path(os.getcwd())\n",
    "\n",
    "# Define a pasta onde os arquivos Excel estão localizados\n",
    "data_dir = this_dir / \"sales_data\"\n",
    "\n",
    "# Cria uma lista vazia para armazenar os dados\n",
    "parts = []\n",
    "\n",
    "# Lê os arquivos Excel\n",
    "for path in data_dir.rglob(\"*xls*\"):\n",
    "    print(f'Reading {path.name}')\n",
    "    try:\n",
    "        part = pd.read_excel(path, index_col=\"transaction_id\")\n",
    "        parts.append(part)\n",
    "    except Exception as e:\n",
    "        print(f'Erro ao ler {path.name}: {str(e)}')\n",
    "\n",
    "# Verifica se a lista parts não está vazia\n",
    "if parts:\n",
    "    # Concatena os dados\n",
    "    df = pd.concat(parts)\n",
    "\n",
    "    # Cria a tabela pivot\n",
    "    pivot = pd.pivot_table(df, index=\"transaction_date\", columns=\"store\", values=\"amount\", aggfunc=\"sum\")\n",
    "\n",
    "    # Resample e soma os dados\n",
    "    summary = pivot.resample(\"M\").sum()\n",
    "\n",
    "    # Renomeia o índice\n",
    "    summary.index.name = \"Month\"\n",
    "\n",
    "    # Salva o resultado em um arquivo Excel\n",
    "    summary.to_excel(this_dir / \"sales_report_pandas.xlsx\")\n",
    "else:\n",
    "    print(\"Nenhum arquivo Excel encontrado.\")"
   ]
  },
  {
   "cell_type": "code",
   "execution_count": null,
   "id": "89112482-d569-4767-92e7-54dc209f6637",
   "metadata": {},
   "outputs": [],
   "source": []
  }
 ],
 "metadata": {
  "kernelspec": {
   "display_name": "Python 3 (ipykernel)",
   "language": "python",
   "name": "python3"
  },
  "language_info": {
   "codemirror_mode": {
    "name": "ipython",
    "version": 3
   },
   "file_extension": ".py",
   "mimetype": "text/x-python",
   "name": "python",
   "nbconvert_exporter": "python",
   "pygments_lexer": "ipython3",
   "version": "3.12.9"
  }
 },
 "nbformat": 4,
 "nbformat_minor": 5
}
