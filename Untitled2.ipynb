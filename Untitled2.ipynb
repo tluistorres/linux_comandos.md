{
 "cells": [
  {
   "cell_type": "code",
   "execution_count": null,
   "id": "cbe4c04c-e6d0-4df7-be67-3c8a84a12f5c",
   "metadata": {},
   "outputs": [],
   "source": []
  }
 ],
 "metadata": {
  "kernelspec": {
   "display_name": "",
   "name": ""
  },
  "language_info": {
   "name": ""
  }
 },
 "nbformat": 4,
 "nbformat_minor": 5
}
