{
  "nbformat": 4,
  "nbformat_minor": 0,
  "metadata": {
    "colab": {
      "provenance": [],
      "authorship_tag": "ABX9TyPU0os0SsFRVAfVlXi8B7RS",
      "include_colab_link": true
    },
    "kernelspec": {
      "name": "python3",
      "display_name": "Python 3"
    },
    "language_info": {
      "name": "python"
    }
  },
  "cells": [
    {
      "cell_type": "markdown",
      "metadata": {
        "id": "view-in-github",
        "colab_type": "text"
      },
      "source": [
        "<a href=\"https://colab.research.google.com/github/tluistorres/linux_comandos.md/blob/main/Comandos_linux.ipynb\" target=\"_parent\"><img src=\"https://colab.research.google.com/assets/colab-badge.svg\" alt=\"Open In Colab\"/></a>"
      ]
    },
    {
      "cell_type": "code",
      "source": [
        "import pandas as pd\n",
        "from tabulate import tabulate\n",
        "\n",
        "# ====================================================================\n",
        "# DEFINIÇÃO DOS DADOS\n",
        "# ====================================================================\n",
        "\n",
        "tema = [\"Histórico\", \"Histórico\", \"Node.js\", \"Node.js\", \"Node.js\", \"Node.js\", \"Node.js\", \"Node.js\", \"cURL\", \"cURL\", \"cURL\", \"Utilitário\", \"OpenSSL\", \"OpenSSL\", \"OpenSSL\", \"Apache/Nginx\", \"Apache/Nginx\", \"Apache/Nginx\", \"Apache/Nginx\", \"Apache/Nginx\", \"Apache/Nginx\", \"Apache/Nginx\", \"Apache/Nginx\", \"Apache/Nginx\", \"Apache/Nginx\", \"Apache/Nginx\", \"PHP/MySQL\", \"PHP/MySQL\", \"PHP/MySQL\", \"PHP/MySQL\", \"WordPress\", \"WordPress\", \"WordPress\", \"Git Setup\", \"Git\", \"Git Setup\", \"Git Setup\", \"Git\", \"Git Config\", \"Git Config\", \"Scripts/Backup\", \"Scripts/Backup\", \"Scripts/Backup\", \"Scripts/Backup\", \"Crontab\", \"Crontab\", \"Crontab\", \"Monitoramento\", \"Monitoramento\", \"Monitoramento\", \"Monitoramento\", \"Sistema\", \"Sistema\", \"Sistema\", \"Sistema\", \"Sistema\", \"Sistema\", \"Sistema\", \"Sistema\", \"Sistema\", \"Rede\", \"Rede\", \"Rede\"]\n",
        "comando = [\"history -r\", \"history > ~/backup_history.txt\", \"npm install\", \"npm install jsonwebtoken\", \"npm install json-server --save\", \"node servidor.js\", \"npm run start-auth\", \"npx json-server --watch database.json --https --port 8000 --key server.key --cert server.crt\", \"curl -X POST -H \\\"Content-Type: application/json\\\" -d '{\\\"email\\\":\\\"lcs@alura.com\\\",\\\"senha\\\":\\\"123\\\"}' http://localhost:8000/public/login\", \"curl http://localhost:8000\", \"curl http://localhost:3000/livros\", \"sudo lsof -i :8000\", \"openssl req -x509 -sha256 -nodes -days 365 -newkey rsa:2048 -keyout server.key -out server.crt\", \"openssl x509 -in server.crt -text -noout\", \"openssl rsa -in server.key -check\", \"sudo apt update\", \"sudo apt install apache2 -y\", \"sudo service apache2 start\", \"sudo systemctl restart apache2\", \"sudo systemctl status apache2\", \"sudo apache2ctl configtest\", \"sudo nano /etc/apache2/sites-available/000-default.conf\", \"sudo a2ensite meu-site.conf\", \"sudo systemctl reload apache2\", \"sudo apt install nginx -y\", \"sudo systemctl status nginx\", \"sudo apt install php libapache2-mod-php php-mysql -y\", \"php -v\", \"sudo apt install mysql-server -y\", \"sudo mysql -u root -p\", \"sudo wget https://wordpress.org/latest.tar.gz\", \"sudo tar -xzvf latest.tar.gz\", \"sudo chown -R www-data:www-data /var/www/html\", \"git init\", \"git add .\", \"git remote add origin https://github.com/tluistorres/meu-site.git\", \"git branch -M main\", \"git push -u origin main\", \"git config --global user.name \\\"Torres Camoes\\\"\", \"git config --global credential.helper store\", \"mkdir -p ~/relatorio && touch ~/relatorio/processos.txt\", \"ps aux > ~/relatorio/processos.txt\", \"chmod +x ~/relatorio/primeiro_programa.sh\", \"sudo tar -czf /backup/$(date +%d%m%Y-%H%M)-home.tar.gz -C /home torres_camoes\", \"crontab -e\", \"crontab -l\", \"grep CRON /var/log/syslog | tail -n 20\", \"htop\", \"ps aux | grep apache2\", \"sudo killall -STOP apache2\", \"sudo renice -19 <PID>\", \"pwd\", \"whoami\", \"ls -la\", \"echo \\\"Primeira linha\\\" > myfile.txt\", \"echo \\\"Segunda linha\\\" >> myfile.txt\", \"cat myfile.txt\", \"wc -l myfile.txt\", \"mv ~/arquivos_teste ~/exemplos_praticos\", \"hostname -I\", \"ip a | grep inet\", \"ping google.com\"]\n",
        "descricao = [\"Recarrega o histórico do Bash\", \"Salva o histórico de comandos em um arquivo de backup\", \"Instala dependências listadas no package.json\", \"Instala a biblioteca para trabalhar com JSON Web Tokens (JWT)\", \"Instala o json-server localmente no projeto\", \"Executa um servidor Node.js\", \"Executa um script de inicialização definido no package.json\", \"Inicia o json-server usando HTTPS e certificados\", \"Faz uma requisição POST de login\", \"Faz uma requisição GET ao servidor local\", \"Faz uma requisição GET a uma rota específica\", \"Verifica qual processo está usando a porta 8000\", \"Gera um certificado SSL/TLS autoassinado\", \"Mostra os detalhes e informações do certificado\", \"Verifica a integridade da chave privada\", \"Atualiza a lista de pacotes disponíveis\", \"Instala o servidor web Apache\", \"Inicia o serviço do Apache\", \"Reinicia o serviço do Apache\", \"Mostra o status atual do serviço do Apache\", \"Testa a sintaxe dos arquivos de configuração do Apache\", \"Edita o arquivo de configuração de um Virtual Host\", \"Habilita um site virtual no Apache\", \"Aplica as alterações de configuração sem derrubar o serviço\", \"Instala o servidor web Nginx\", \"Mostra o status atual do serviço do Nginx\", \"Instala PHP e módulos comuns\", \"Verifica a versão do PHP instalada\", \"Instala o servidor MySQL\", \"Acessa o MySQL como usuário root\", \"Baixa a versão mais recente do WordPress\", \"Descompacta o arquivo baixado\", \"Define o usuário www-data como proprietário dos arquivos\", \"Inicializa um novo repositório Git na pasta atual\", \"Adiciona todos os arquivos novos e modificados à área de staging\", \"Conecta o repositório local a um repositório remoto\", \"Renomeia a branch atual para main\", \"Envia o histórico local para o GitHub\", \"Configura o nome do autor para todos os commits\", \"Configura o Git para armazenar credenciais\", \"Cria a pasta relatorio e o arquivo processos.txt\", \"Salva a lista de todos os processos em um arquivo\", \"Torna um script executável\", \"Cria um arquivo .tar.gz de backup do diretório do usuário\", \"Abre o editor para agendar tarefas\", \"Lista as tarefas agendadas\", \"Mostra as últimas entradas de log do CRON\", \"Monitora processos e uso de recursos\", \"Monitora processos do Apache\", \"Pausa todos os processos do Apache\", \"Aumenta a prioridade de um processo\", \"Mostra o diretório de trabalho atual\", \"Mostra o nome do usuário logado\", \"Lista todos os arquivos e diretórios\", \"Cria um arquivo com o texto\", \"Anexa uma linha ao final do arquivo\", \"Exibe o conteúdo completo do arquivo\", \"Conta o número de linhas no arquivo\", \"Move ou renomeia um diretório\", \"Mostra o endereço IP local\", \"Mostra os endereços IP locais\", \"Testa a conectividade de rede\"]\n",
        "\n",
        "# NOVA COLUNA: Resumo Sucinto\n",
        "resumo_sucinto = [\n",
        "    \"Recarrega Histórico\", \"Salva Histórico\", \"Instala Dependências\", \"Instala JWT\", \"Instala JSON Server\", \"Executa Servidor Node\", \"Inicia Servidor (Script)\", \"Inicia JSON Server (HTTPS)\",\n",
        "    \"Login POST (cURL)\", \"GET Servidor Local (cURL)\", \"GET Rota Específica (cURL)\", \"Checa Porta (8000)\", \"Gera Certificado SSL\", \"Verifica Detalhes Certificado\", \"Checa Chave Privada\",\n",
        "    \"Atualiza Pacotes\", \"Instala Apache\", \"Inicia Apache\", \"Reinicia Apache\", \"Status Apache\", \"Testa Configuração Apache\", \"Edita Configuração Site\", \"Habilita Site Virtual\",\n",
        "    \"Aplica Configuração Apache\", \"Instala Nginx\", \"Status Nginx\", \"Instala PHP e Módulos\", \"Checa Versão PHP\", \"Instala MySQL\", \"Acessa MySQL (Root)\", \"Baixa WordPress\",\n",
        "    \"Descompacta WordPress\", \"Ajusta Permissões WP\", \"Inicializa Repositório\", \"Adiciona para Commit\", \"Define Repositório Remoto\", \"Renomeia Branch (main)\", \"Envia para o GitHub\",\n",
        "    \"Configura Nome Global\", \"Armazena Credenciais\", \"Cria Pasta/Arquivo Log\", \"Salva Lista de Processos\", \"Torna Script Executável\", \"Cria Backup (Tar.gz)\", \"Edita Tarefas Agendadas\",\n",
        "    \"Lista Tarefas Agendadas\", \"Checa Logs do CRON\", \"Monitoramento Interativo\", \"Filtra Processos Apache\", \"Suspende Processos\", \"Prioriza Processo (+/-)\", \"Diretório Atual (Path)\",\n",
        "    \"Usuário Atual\", \"Lista Detalhada\", \"Cria/Sobrescreve Arquivo\", \"Anexa Linha ao Arquivo\", \"Exibe Conteúdo\", \"Conta Linhas\", \"Renomeia Pasta\", \"Mostra IP Local\", \"Filtra Endereços IP\", \"Testa Conectividade (Ping)\"\n",
        "]\n",
        "\n",
        "# ====================================================================\n",
        "# CRIAÇÃO E EXIBIÇÃO DA TABELA\n",
        "# ====================================================================\n",
        "\n",
        "# Ajusta o comprimento das listas para evitar erros de índice (boa prática)\n",
        "min_len = min(len(tema), len(comando), len(descricao), len(resumo_sucinto))\n",
        "tema = tema[:min_len]\n",
        "comando = comando[:min_len]\n",
        "descricao = descricao[:min_len]\n",
        "resumo_sucinto = resumo_sucinto[:min_len]\n",
        "\n",
        "# Cria o DataFrame com a nova coluna\n",
        "df = pd.DataFrame({\n",
        "    'Tema': tema,\n",
        "    'Comando': comando,\n",
        "    'Descrição': descricao,\n",
        "    'Resumo Sucinto': resumo_sucinto  # Nova coluna adicionada\n",
        "})\n",
        "\n",
        "# Imprime a tabela usando tabulate no formato de tabela PostgreSQL (psql)\n",
        "print(\"\\n--- Tabela de Comandos Linux, Git e DevOps ---\\n\")\n",
        "print(tabulate(df, headers='keys', tablefmt='psql', showindex=False))"
      ],
      "metadata": {
        "colab": {
          "base_uri": "https://localhost:8080/"
        },
        "id": "MxR4VI_M07Pj",
        "outputId": "890fa4cc-9e50-4e84-b487-a111243f715e"
      },
      "execution_count": null,
      "outputs": [
        {
          "output_type": "stream",
          "name": "stdout",
          "text": [
            "\n",
            "--- Tabela de Comandos Linux, Git e DevOps ---\n",
            "\n",
            "+----------------+----------------------------------------------------------------------------------------------------------------------------------+------------------------------------------------------------------+-------------------------------+\n",
            "| Tema           | Comando                                                                                                                          | Descrição                                                        | Resumo Sucinto                |\n",
            "|----------------+----------------------------------------------------------------------------------------------------------------------------------+------------------------------------------------------------------+-------------------------------|\n",
            "| Histórico      | history -r                                                                                                                       | Recarrega o histórico do Bash                                    | Recarrega Histórico           |\n",
            "| Histórico      | history > ~/backup_history.txt                                                                                                   | Salva o histórico de comandos em um arquivo de backup            | Salva Histórico               |\n",
            "| Node.js        | npm install                                                                                                                      | Instala dependências listadas no package.json                    | Instala Dependências          |\n",
            "| Node.js        | npm install jsonwebtoken                                                                                                         | Instala a biblioteca para trabalhar com JSON Web Tokens (JWT)    | Instala JWT                   |\n",
            "| Node.js        | npm install json-server --save                                                                                                   | Instala o json-server localmente no projeto                      | Instala JSON Server           |\n",
            "| Node.js        | node servidor.js                                                                                                                 | Executa um servidor Node.js                                      | Executa Servidor Node         |\n",
            "| Node.js        | npm run start-auth                                                                                                               | Executa um script de inicialização definido no package.json      | Inicia Servidor (Script)      |\n",
            "| Node.js        | npx json-server --watch database.json --https --port 8000 --key server.key --cert server.crt                                     | Inicia o json-server usando HTTPS e certificados                 | Inicia JSON Server (HTTPS)    |\n",
            "| cURL           | curl -X POST -H \"Content-Type: application/json\" -d '{\"email\":\"lcs@alura.com\",\"senha\":\"123\"}' http://localhost:8000/public/login | Faz uma requisição POST de login                                 | Login POST (cURL)             |\n",
            "| cURL           | curl http://localhost:8000                                                                                                       | Faz uma requisição GET ao servidor local                         | GET Servidor Local (cURL)     |\n",
            "| cURL           | curl http://localhost:3000/livros                                                                                                | Faz uma requisição GET a uma rota específica                     | GET Rota Específica (cURL)    |\n",
            "| Utilitário     | sudo lsof -i :8000                                                                                                               | Verifica qual processo está usando a porta 8000                  | Checa Porta (8000)            |\n",
            "| OpenSSL        | openssl req -x509 -sha256 -nodes -days 365 -newkey rsa:2048 -keyout server.key -out server.crt                                   | Gera um certificado SSL/TLS autoassinado                         | Gera Certificado SSL          |\n",
            "| OpenSSL        | openssl x509 -in server.crt -text -noout                                                                                         | Mostra os detalhes e informações do certificado                  | Verifica Detalhes Certificado |\n",
            "| OpenSSL        | openssl rsa -in server.key -check                                                                                                | Verifica a integridade da chave privada                          | Checa Chave Privada           |\n",
            "| Apache/Nginx   | sudo apt update                                                                                                                  | Atualiza a lista de pacotes disponíveis                          | Atualiza Pacotes              |\n",
            "| Apache/Nginx   | sudo apt install apache2 -y                                                                                                      | Instala o servidor web Apache                                    | Instala Apache                |\n",
            "| Apache/Nginx   | sudo service apache2 start                                                                                                       | Inicia o serviço do Apache                                       | Inicia Apache                 |\n",
            "| Apache/Nginx   | sudo systemctl restart apache2                                                                                                   | Reinicia o serviço do Apache                                     | Reinicia Apache               |\n",
            "| Apache/Nginx   | sudo systemctl status apache2                                                                                                    | Mostra o status atual do serviço do Apache                       | Status Apache                 |\n",
            "| Apache/Nginx   | sudo apache2ctl configtest                                                                                                       | Testa a sintaxe dos arquivos de configuração do Apache           | Testa Configuração Apache     |\n",
            "| Apache/Nginx   | sudo nano /etc/apache2/sites-available/000-default.conf                                                                          | Edita o arquivo de configuração de um Virtual Host               | Edita Configuração Site       |\n",
            "| Apache/Nginx   | sudo a2ensite meu-site.conf                                                                                                      | Habilita um site virtual no Apache                               | Habilita Site Virtual         |\n",
            "| Apache/Nginx   | sudo systemctl reload apache2                                                                                                    | Aplica as alterações de configuração sem derrubar o serviço      | Aplica Configuração Apache    |\n",
            "| Apache/Nginx   | sudo apt install nginx -y                                                                                                        | Instala o servidor web Nginx                                     | Instala Nginx                 |\n",
            "| Apache/Nginx   | sudo systemctl status nginx                                                                                                      | Mostra o status atual do serviço do Nginx                        | Status Nginx                  |\n",
            "| PHP/MySQL      | sudo apt install php libapache2-mod-php php-mysql -y                                                                             | Instala PHP e módulos comuns                                     | Instala PHP e Módulos         |\n",
            "| PHP/MySQL      | php -v                                                                                                                           | Verifica a versão do PHP instalada                               | Checa Versão PHP              |\n",
            "| PHP/MySQL      | sudo apt install mysql-server -y                                                                                                 | Instala o servidor MySQL                                         | Instala MySQL                 |\n",
            "| PHP/MySQL      | sudo mysql -u root -p                                                                                                            | Acessa o MySQL como usuário root                                 | Acessa MySQL (Root)           |\n",
            "| WordPress      | sudo wget https://wordpress.org/latest.tar.gz                                                                                    | Baixa a versão mais recente do WordPress                         | Baixa WordPress               |\n",
            "| WordPress      | sudo tar -xzvf latest.tar.gz                                                                                                     | Descompacta o arquivo baixado                                    | Descompacta WordPress         |\n",
            "| WordPress      | sudo chown -R www-data:www-data /var/www/html                                                                                    | Define o usuário www-data como proprietário dos arquivos         | Ajusta Permissões WP          |\n",
            "| Git Setup      | git init                                                                                                                         | Inicializa um novo repositório Git na pasta atual                | Inicializa Repositório        |\n",
            "| Git            | git add .                                                                                                                        | Adiciona todos os arquivos novos e modificados à área de staging | Adiciona para Commit          |\n",
            "| Git Setup      | git remote add origin https://github.com/tluistorres/meu-site.git                                                                | Conecta o repositório local a um repositório remoto              | Define Repositório Remoto     |\n",
            "| Git Setup      | git branch -M main                                                                                                               | Renomeia a branch atual para main                                | Renomeia Branch (main)        |\n",
            "| Git            | git push -u origin main                                                                                                          | Envia o histórico local para o GitHub                            | Envia para o GitHub           |\n",
            "| Git Config     | git config --global user.name \"Torres Camoes\"                                                                                    | Configura o nome do autor para todos os commits                  | Configura Nome Global         |\n",
            "| Git Config     | git config --global credential.helper store                                                                                      | Configura o Git para armazenar credenciais                       | Armazena Credenciais          |\n",
            "| Scripts/Backup | mkdir -p ~/relatorio && touch ~/relatorio/processos.txt                                                                          | Cria a pasta relatorio e o arquivo processos.txt                 | Cria Pasta/Arquivo Log        |\n",
            "| Scripts/Backup | ps aux > ~/relatorio/processos.txt                                                                                               | Salva a lista de todos os processos em um arquivo                | Salva Lista de Processos      |\n",
            "| Scripts/Backup | chmod +x ~/relatorio/primeiro_programa.sh                                                                                        | Torna um script executável                                       | Torna Script Executável       |\n",
            "| Scripts/Backup | sudo tar -czf /backup/$(date +%d%m%Y-%H%M)-home.tar.gz -C /home torres_camoes                                                    | Cria um arquivo .tar.gz de backup do diretório do usuário        | Cria Backup (Tar.gz)          |\n",
            "| Crontab        | crontab -e                                                                                                                       | Abre o editor para agendar tarefas                               | Edita Tarefas Agendadas       |\n",
            "| Crontab        | crontab -l                                                                                                                       | Lista as tarefas agendadas                                       | Lista Tarefas Agendadas       |\n",
            "| Crontab        | grep CRON /var/log/syslog | tail -n 20                                                                                           | Mostra as últimas entradas de log do CRON                        | Checa Logs do CRON            |\n",
            "| Monitoramento  | htop                                                                                                                             | Monitora processos e uso de recursos                             | Monitoramento Interativo      |\n",
            "| Monitoramento  | ps aux | grep apache2                                                                                                            | Monitora processos do Apache                                     | Filtra Processos Apache       |\n",
            "| Monitoramento  | sudo killall -STOP apache2                                                                                                       | Pausa todos os processos do Apache                               | Suspende Processos            |\n",
            "| Monitoramento  | sudo renice -19 <PID>                                                                                                            | Aumenta a prioridade de um processo                              | Prioriza Processo (+/-)       |\n",
            "| Sistema        | pwd                                                                                                                              | Mostra o diretório de trabalho atual                             | Diretório Atual (Path)        |\n",
            "| Sistema        | whoami                                                                                                                           | Mostra o nome do usuário logado                                  | Usuário Atual                 |\n",
            "| Sistema        | ls -la                                                                                                                           | Lista todos os arquivos e diretórios                             | Lista Detalhada               |\n",
            "| Sistema        | echo \"Primeira linha\" > myfile.txt                                                                                               | Cria um arquivo com o texto                                      | Cria/Sobrescreve Arquivo      |\n",
            "| Sistema        | echo \"Segunda linha\" >> myfile.txt                                                                                               | Anexa uma linha ao final do arquivo                              | Anexa Linha ao Arquivo        |\n",
            "| Sistema        | cat myfile.txt                                                                                                                   | Exibe o conteúdo completo do arquivo                             | Exibe Conteúdo                |\n",
            "| Sistema        | wc -l myfile.txt                                                                                                                 | Conta o número de linhas no arquivo                              | Conta Linhas                  |\n",
            "| Sistema        | mv ~/arquivos_teste ~/exemplos_praticos                                                                                          | Move ou renomeia um diretório                                    | Renomeia Pasta                |\n",
            "| Sistema        | hostname -I                                                                                                                      | Mostra o endereço IP local                                       | Mostra IP Local               |\n",
            "| Rede           | ip a | grep inet                                                                                                                 | Mostra os endereços IP locais                                    | Filtra Endereços IP           |\n",
            "| Rede           | ping google.com                                                                                                                  | Testa a conectividade de rede                                    | Testa Conectividade (Ping)    |\n",
            "+----------------+----------------------------------------------------------------------------------------------------------------------------------+------------------------------------------------------------------+-------------------------------+\n"
          ]
        }
      ]
    },
    {
      "cell_type": "markdown",
      "source": [
        "**Para comprimir diretamente para um arquivo chamado backup.tar, basta:**"
      ],
      "metadata": {
        "id": "zBP0J5LN_VYP"
      }
    },
    {
      "cell_type": "code",
      "source": [
        "tar -cvf backup.tar agenda.txt notas.txt novo.txt saudacao.txt\n"
      ],
      "metadata": {
        "id": "Xe3N36vy_b0A"
      },
      "execution_count": null,
      "outputs": []
    },
    {
      "cell_type": "markdown",
      "source": [
        "**Quando cria primeiro o backup.tar e depois gera o backup.tar.gz, os dois passam a existir independentes no diretório.**"
      ],
      "metadata": {
        "id": "br4XHRzC_CQk"
      }
    },
    {
      "cell_type": "code",
      "source": [
        "# 1. Cria o tar sem compressão\n",
        "tar -cvf backup.tar agenda.txt notas.txt novo.txt saudacao.txt\n",
        "\n",
        "# 2. Gera a versão comprimida em gzip\n",
        "gzip -c backup.tar > backup.tar.gz\n"
      ],
      "metadata": {
        "id": "UemSi9Ci-dP3"
      },
      "execution_count": null,
      "outputs": []
    },
    {
      "cell_type": "markdown",
      "source": [
        "**Você criou a pasta backup/ e entrou nela. A ideia é guardar dentro dela os arquivos .txt escolhidos e gerar o backup de forma limpa.**\n",
        "\n",
        "**Aqui vai um passo a passo bem organizado:**\n",
        "\n",
        "1️⃣ Voltar para a pasta onde estão os .txt\n",
        "\n",
        "**Supondo que eles estão no seu home:**\n",
        "\n",
        "cd ~\n",
        "\n",
        "2️⃣ Copiar só os arquivos desejados para a pasta backup/\n",
        "cp agenda.txt notas.txt novo.txt saudacao.txt backup/\n",
        "\n",
        "3️⃣ Entrar na pasta backup/\n",
        "cd backup\n",
        "\n",
        "**Se quiser, confira com:**\n",
        "\n",
        "ls -lh\n",
        "\n",
        "4️⃣ Criar o backup.tar com os arquivos\n",
        "tar -cvf backup.tar agenda.txt notas.txt novo.txt saudacao.txt\n",
        "\n",
        "5️⃣ (Opcional) Criar também a versão comprimida\n",
        "\n",
        "**Se quiser manter os dois (não substituir):**\n",
        "\n",
        "gzip -c backup.tar > backup.tar.gz\n",
        "\n",
        "**Se quiser só a versão comprimida (e apagar o .tar automaticamente):**\n",
        "\n",
        "gzip backup.tar\n",
        "\n",
        "**👉 Assim você controla se terá os dois arquivos (.tar + .tar.gz) ou apenas o comprimido.**"
      ],
      "metadata": {
        "id": "DuKUOUi2Bsj3"
      }
    },
    {
      "cell_type": "markdown",
      "source": [
        "**👉 Depois de criar os arquivos de backup, você pode inspecionar:**\n",
        "\n",
        "**Para listar o conteúdo do backup.tar:**\n",
        "\n",
        "tar -tvf backup.tar\n",
        "\n",
        "**Para listar o conteúdo do backup.tar.gz:**\n",
        "\n",
        "tar -tzvf backup.tar.gz\n",
        "\n",
        "**📌 Diferença entre eles:**\n",
        "\n",
        "-t → lista o conteúdo do arquivo tar (não extrai).\n",
        "\n",
        "-v → mostra em formato detalhado (permissões, datas, tamanho).\n",
        "\n",
        "-f → especifica o arquivo.\n",
        "\n",
        "-z → necessário no caso do .tar.gz porque o arquivo está comprimido com gzip."
      ],
      "metadata": {
        "id": "NgWb_PFgCWax"
      }
    },
    {
      "cell_type": "markdown",
      "source": [
        "**Observações.:**\n",
        "\n",
        "tar -cf backup.tar *.txt\n",
        "→ Cria um arquivo tar não comprimido com todos os .txt do diretório.\n",
        "\n",
        "tar -zcvf backup.tar.gz *.txt\n",
        "→ Cria um tar já comprimido com gzip contendo todos os .txt do diretório.\n",
        "\n",
        "**Por que eu não sugeri logo esses?**\n",
        "\n",
        "Porque você tinha dito que queria apenas alguns arquivos específicos (agenda.txt, notas.txt, novo.txt, saudacao.txt).\n",
        "\n",
        "Se usarmos *.txt, ele vai pegar todos os arquivos de texto — inclusive os que você não queria no início (arquivo_2.txt, backup_history.txt, etc.).\n",
        "\n",
        "**📌 Resumindo:**\n",
        "\n",
        "Se você quiser backup de todos os .txt → use *.txt.\n",
        "\n",
        "Se você quiser backup só de arquivos escolhidos → liste-os explicitamente no comando."
      ],
      "metadata": {
        "id": "uebeD6C1FmVq"
      }
    },
    {
      "cell_type": "markdown",
      "source": [
        "**Quando você faz algo como:**\n",
        "\n",
        "tar -cvf backup.tar agenda.txt notas.txt novo.txt saudacao.txt\n",
        "\n",
        "ou\n",
        "\n",
        "tar -czvf backup.tar.gz agenda.txt notas.txt novo.txt saudacao.txt\n",
        "\n",
        "\n",
        "➡️ você já está criando o arquivo de backup contendo somente os arquivos que listou explicitamente.\n",
        "\n",
        "Não é necessário nenhum passo anterior para “marcá-los” ou “prepará-los” — o tar já empacota diretamente os arquivos que você indicar.\n",
        "\n",
        "**📌 Diferença para o *.txt:**\n",
        "\n",
        "*.txt → pega todos os .txt do diretório.\n",
        "\n",
        "lista explícita → pega somente os arquivos que você escreveu no comando."
      ],
      "metadata": {
        "id": "dAoRAo2bGgBK"
      }
    },
    {
      "cell_type": "markdown",
      "source": [
        "**Vamos organizar os comandos usando todos os arquivos .txt do diretório:**"
      ],
      "metadata": {
        "id": "paltG2qKIf1I"
      }
    },
    {
      "cell_type": "markdown",
      "source": [
        "1️⃣ Criar um .tar não comprimido com todos os .txt:\n",
        "tar -cvf backup.tar *.txt\n",
        "\n",
        "**Explicação:**\n",
        "\n",
        "-c → cria o tar\n",
        "\n",
        "-v → mostra o que está sendo adicionado\n",
        "\n",
        "-f backup.tar → nome do arquivo de saída\n",
        "\n",
        "*.txt → pega todos os arquivos .txt do diretório atual\n",
        "\n",
        "2️⃣ Criar um .tar.gz (comprimido) com todos os .txt:\n",
        "tar -czvf backup.tar.gz *.txt\n",
        "\n",
        "**Explicação:**\n",
        "\n",
        "-z → comprime usando gzip\n",
        "\n",
        "-c → cria\n",
        "\n",
        "-v → verbose\n",
        "\n",
        "-f backup.tar.gz → nome do arquivo final\n",
        "\n",
        "*.txt → todos os arquivos .txt do diretório\n",
        "\n",
        "3️⃣ Listar o conteúdo do .tar:\n",
        "\n",
        "tar -tvf backup.tar\n",
        "\n",
        "4️⃣ Listar o conteúdo do .tar.gz:\n",
        "\n",
        "tar -tzvf backup.tar.gz\n",
        "\n",
        "\n",
        "**⚠️ Observações:**\n",
        "\n",
        "Esses comandos pegarão todos os .txt, incluindo arquivos que você talvez não queira no backup.\n",
        "\n",
        "Se algum .txt for muito grande ou você quiser excluir alguns, dá para usar --exclude=nome.txt junto com *.txt."
      ],
      "metadata": {
        "id": "o6Y_JoiVI46E"
      }
    },
    {
      "cell_type": "markdown",
      "source": [
        "**O que você fez:**\n",
        "\n",
        "tar -vf backup.tar *.txt\n",
        "\n",
        "**tem alguns detalhes importantes:**\n",
        "\n",
        "1️⃣ Sobre a opção -v\n",
        "\n",
        "-v → verbose, ou seja, mostra no terminal quais arquivos estão sendo adicionados ou listados.\n",
        "\n",
        "Se você não usar -v, o tar ainda funciona normalmente, só não mostra os nomes dos arquivos enquanto processa.\n",
        "\n",
        "2️⃣ Sobre a ordem e a função de cada letra\n",
        "\n",
        "**No seu comando:**\n",
        "\n",
        "tar -vf backup.tar *.txt\n",
        "\n",
        "-f backup.tar → correto, especifica o arquivo de saída\n",
        "\n",
        "-v → opcional, apenas para ver a lista\n",
        "\n",
        "Mas falta o -c se a intenção era criar o arquivo tar.\n",
        "\n",
        "Então seu comando efetivamente não cria um tar novo; na prática ele tenta abrir backup.tar para ler ou modificar, dependendo do contexto, e pode gerar erro ou comportamento inesperado.\n",
        "\n",
        "**✅ Para criar corretamente:**\n",
        "\n",
        "tar -cvf backup.tar *.txt      \n",
        "\n",
        "**cria tar não comprimido**\n",
        "\n",
        "tar -czvf backup.tar.gz *.txt  \n",
        "\n",
        "**cria tar comprimido com gzip**"
      ],
      "metadata": {
        "id": "_u-6OSuMJ7ae"
      }
    },
    {
      "cell_type": "markdown",
      "source": [
        "**No tar, as opções podem ser escritas de duas formas:**\n",
        "\n",
        "1️⃣ Sem hífen, juntas (czvf)\n",
        "\n",
        "tar czvf backup.tar.gz *.txt\n",
        "\n",
        "\n",
        "**Antiga forma tradicional do tar (compatível desde os primórdios do Unix)**\n",
        "\n",
        "As letras são agregadas, na ordem que você quiser, e o tar entende:\n",
        "\n",
        "c → create (criar tar)\n",
        "\n",
        "z → gzip (comprimir)\n",
        "\n",
        "v → verbose (mostrar arquivos)\n",
        "\n",
        "f → file (especifica o nome do arquivo)\n",
        "\n",
        "Não precisa do - aqui, é só a forma histórica do tar.\n",
        "\n",
        "2️⃣ Com hífen (-czvf)\n",
        "\n",
        "tar -czvf backup.tar.gz *.txt\n",
        "\n",
        "\n",
        "Forma mais moderna e “Unix-like”, usada em praticamente todos os tutoriais atuais\n",
        "\n",
        "**Funciona exatamente igual à forma sem hífen.**\n",
        "\n",
        "Alguns preferem porque fica consistente com outros comandos do Linux (ls -l, grep -i, etc.)\n",
        "\n",
        "**✅ Resumo**\n",
        "\n",
        "**Forma\tFunciona?\tDiferença prática**\n",
        "\n",
        "czvf\tSim\tTradicional, sem hífen\n",
        "\n",
        "-czvf\tSim\tModerna, mais legível, consistente com outros comandos Linux\n",
        "\n",
        "Ou seja, não muda o resultado — é só estilo/compatibilidade."
      ],
      "metadata": {
        "id": "E858Pi2pLP--"
      }
    },
    {
      "cell_type": "markdown",
      "source": [
        "**Compressão bzip2, é feito colocando .bz2 no comando.**\n",
        "\n",
        "Opção -j\n",
        "\n",
        "-j → indica compressão bzip2\n",
        "\n",
        "**Ao usar -j, o arquivo de saída normalmente deve ter extensão .tar.bz.**\n",
        "\n",
        "**Se quiser criar um tar comprimido com bzip2 dos arquivos específicos:**\n",
        "\n",
        "tar -jcvf backup.tar.bz2 agenda.txt notas.txt novo.txt saudacao.txt\n",
        "\n",
        "**Explicando:**\n",
        "\n",
        "-j → usa bzip2\n",
        "\n",
        "-c → cria o arquivo tar\n",
        "\n",
        "-v → mostra os arquivos adicionados\n",
        "\n",
        "-f backup.tar.bz2 → nome do arquivo final\n",
        "\n",
        "agenda.txt notas.txt novo.txt saudacao.txt → arquivos que vão para o backup\n",
        "\n",
        "**📌 Observação:**\n",
        "\n",
        "Para gzip, você usa -z e a extensão .tar.gz"
      ],
      "metadata": {
        "id": "-iU9jT4IOKdE"
      }
    },
    {
      "cell_type": "markdown",
      "source": [
        "**Agora você tem todos os backups no diretório:**\n",
        "\n",
        "backup.tar      → tar simples, não comprimido  \n",
        "backup.tar.gz   → tar + gzip  \n",
        "backup.tar.bz2  → tar + bzip2  \n",
        "\n",
        "**O comando final que você usou:**\n",
        "\n",
        "    tar -jcvf backup.tar.bz2 agenda.txt notas.txt novo.txt saudacao.txt\n",
        "\n",
        "**funcionou corretamente:**\n",
        "\n",
        "-j → compressão bzip2\n",
        "\n",
        "-c → cria o tar\n",
        "\n",
        "-v → mostra os arquivos sendo adicionados\n",
        "\n",
        "-f backup.tar.bz2 → nome do arquivo final\n",
        "\n",
        "**Observação sobre os tamanhos**\n",
        "\n",
        "Você viu que todos ficaram com 4.0K no du -h?\n",
        "\n",
        "Isso acontece porque os arquivos .txt que você adicionou são muito pequenos, então a compressão não reduz quase nada.\n",
        "\n",
        "Para arquivos maiores, a diferença entre .tar, .tar.gz e .tar.bz2 fica mais evidente"
      ],
      "metadata": {
        "id": "yYK9sjCZPXo5"
      }
    },
    {
      "cell_type": "markdown",
      "source": [
        "### **🗂️ Guia rápido de tar no WSL**\n",
        "\n",
        "| Tipo de backup                 | Comando                                                               | Observações                                           |\n",
        "| ------------------------------ | --------------------------------------------------------------------- | ----------------------------------------------------- |\n",
        "| Tar simples (não comprimido)   | `tar -cvf backup.tar agenda.txt notas.txt novo.txt saudacao.txt`      | `-c` cria, `-v` mostra arquivos, `-f` nome do arquivo |\n",
        "| Tar + gzip (compressão rápida) | `tar -czvf backup.tar.gz agenda.txt notas.txt novo.txt saudacao.txt`  | `-z` gzip                                             |\n",
        "| Tar + bzip2 (compressão maior) | `tar -jcvf backup.tar.bz2 agenda.txt notas.txt novo.txt saudacao.txt` | `-j` bzip2                                            |\n",
        "| Todos `.txt` do diretório      | `tar -cvf backup.tar *.txt` ou `tar -czvf backup.tar.gz *.txt`        | Inclui todos os `.txt`                                |\n",
        "\n",
        "**2️⃣ Listar conteúdo dos backups**\n",
        "\n",
        "| Tipo        | Comando                    | Observações         |\n",
        "| ----------- | -------------------------- | ------------------- |\n",
        "| Tar simples | `tar -tvf backup.tar`      | `-t` lista conteúdo |\n",
        "| Tar + gzip  | `tar -tzvf backup.tar.gz`  | `-z` indica gzip    |\n",
        "| Tar + bzip2 | `tar -tjvf backup.tar.bz2` | `-j` indica bzip2   |\n",
        "\n",
        "**3️⃣ Extrair arquivos**\n",
        "\n",
        "| Tipo        | Todos arquivos             | Arquivo específico (`notas.txt`)     |\n",
        "| ----------- | -------------------------- | ------------------------------------ |\n",
        "| Tar simples | `tar -xvf backup.tar`      | `tar -xvf backup.tar notas.txt`      |\n",
        "| Tar + gzip  | `tar -xzvf backup.tar.gz`  | `tar -xzvf backup.tar.gz notas.txt`  |\n",
        "| Tar + bzip2 | `tar -xjvf backup.tar.bz2` | `tar -xjvf backup.tar.bz2 notas.txt` |\n",
        "\n",
        "**4️⃣ Dicas rápidas**\n",
        "\n",
        "Se quiser criar backup de todos os .txt exceto alguns, use --exclude:\n",
        "\n",
        "    tar -czvf backup.tar.gz *.txt --exclude=arquivo_2.txt\n",
        "\n",
        "\n",
        "**Para ver tamanho do tar:**\n",
        "\n",
        "    du -h backup.tar*\n",
        "\n",
        "\n",
        "Para manter .tar e .tar.gz ao mesmo tempo, não use gzip backup.tar sozinho; use gzip -c backup.tar > backup.tar.gz"
      ],
      "metadata": {
        "id": "3rWJGj1dPrqX"
      }
    },
    {
      "cell_type": "markdown",
      "source": [
        "**1️⃣ Criar o backup com bzip2:**"
      ],
      "metadata": {
        "id": "cA3Oo_W9Tg7m"
      }
    },
    {
      "cell_type": "markdown",
      "source": [
        "    tar -jcvf backup.tar.bz2 agenda.txt notas.txt novo.txt saudacao.txt\n"
      ],
      "metadata": {
        "id": "nCqzXuk8Tj0i"
      }
    },
    {
      "cell_type": "markdown",
      "source": [
        "-j → compressão bzip2\n",
        "\n",
        "-c → cria o tar\n",
        "\n",
        "-v → mostra os arquivos sendo adicionados\n",
        "\n",
        "-f backup.tar.bz2 → nome do arquivo final\n",
        "\n",
        "Depois de rodar, você viu no terminal:"
      ],
      "metadata": {
        "id": "9beV-EHlTqdv"
      }
    },
    {
      "cell_type": "markdown",
      "source": [
        "agenda.txt\n",
        "\n",
        "notas.txt,\n",
        "\n",
        "novo.txt\n",
        "\n",
        "saudacao.txt\n"
      ],
      "metadata": {
        "id": "izDi2uyxTxEK"
      }
    },
    {
      "cell_type": "markdown",
      "source": [
        "Isso é o verbose mostrando os arquivos incluídos.\n",
        "\n",
        "**2️⃣ Extrair o backup:**"
      ],
      "metadata": {
        "id": "gR6JAS1HKYTN"
      }
    },
    {
      "cell_type": "markdown",
      "source": [
        "    tar -jxvf backup.tar.bz2\n"
      ],
      "metadata": {
        "id": "IMGAKMQoT83F"
      }
    },
    {
      "cell_type": "markdown",
      "source": [
        "-x → extrai os arquivos\n",
        "\n",
        "-j → usa bzip2\n",
        "\n",
        "-v → mostra os arquivos extraídos\n",
        "\n",
        "-f → indica o arquivo tar\n",
        "\n",
        "No terminal você viu:"
      ],
      "metadata": {
        "id": "a23ow5EyUDDn"
      }
    },
    {
      "cell_type": "markdown",
      "source": [
        "agenda.txt\n",
        "\n",
        "notas.txt\n",
        "\n",
        "novo.txt\n",
        "\n",
        "saudacao.txt\n"
      ],
      "metadata": {
        "id": "33PfyYOuUHMj"
      }
    },
    {
      "cell_type": "markdown",
      "source": [
        "Isso indica que todos os arquivos foram extraídos com sucesso no diretório atual.\n",
        "\n",
        "**✅ Resultado:**\n",
        "\n",
        "Arquivo backup.tar.bz2 criado com sucesso.\n",
        "\n",
        "Arquivos podem ser extraídos totalmente e individualmente."
      ],
      "metadata": {
        "id": "IImzs5fyUNlf"
      }
    },
    {
      "cell_type": "markdown",
      "source": [
        "### **1️⃣ Uso do gzip direto**"
      ],
      "metadata": {
        "id": "bupoTx7BUVDk"
      }
    },
    {
      "cell_type": "markdown",
      "source": [
        "**gzip -c -r agenda.txt notas.txt novo.txt saudacao.txt > backup.gz**\n"
      ],
      "metadata": {
        "id": "wQwlwptfW8sq"
      }
    },
    {
      "cell_type": "markdown",
      "source": [
        "c → escreve o resultado no stdout (não substitui os arquivos originais)\n",
        "\n",
        "-r → recursivo (útil para diretórios; para arquivos individuais não faz diferença)\n",
        "\n",
        "**> backup.gz** → redireciona a saída para o arquivo backup.gz\n",
        "\n",
        "**✅ Isso cria apenas um arquivo gzip com todos os arquivos concatenados.**\n",
        "\n",
        "Depois você fez:"
      ],
      "metadata": {
        "id": "Ly8GMV0zXFmb"
      }
    },
    {
      "cell_type": "markdown",
      "source": [
        "    gunzip backup.gz\n"
      ],
      "metadata": {
        "id": "RogiYjMiXgVh"
      }
    },
    {
      "cell_type": "markdown",
      "source": [
        "Isso descomprime o backup.gz e substitui o arquivo por volta do conteúdo original (os arquivos originais não eram tar, então eles voltaram juntos como um fluxo único).\n",
        "\n",
        "**⚠️ Observação: usar gzip sozinho não mantém a estrutura de múltiplos arquivos, diferente do tar.gz. Por isso normalmente combinamos tar + gzip para backups de múltiplos arquivos.**\n",
        "\n",
        "**2️⃣ Uso do zip**\n",
        "\n",
        "Você tentou:"
      ],
      "metadata": {
        "id": "Xmsi6IbHXlI0"
      }
    },
    {
      "cell_type": "markdown",
      "source": [
        "    zip backup.zip agenda.txt notas.txt novo.txt saudacao.txt\n"
      ],
      "metadata": {
        "id": "Xy6ge2w_X1tP"
      }
    },
    {
      "cell_type": "markdown",
      "source": [
        "Recebeu a mensagem que o comando zip não está instalado.\n",
        "\n",
        "Para instalar no WSL:\n"
      ],
      "metadata": {
        "id": "7rBAceQVX_Gs"
      }
    },
    {
      "cell_type": "markdown",
      "source": [
        "    sudo apt update\n",
        "\n",
        "    sudo apt install zip unzip\n"
      ],
      "metadata": {
        "id": "gxsCy7i5YKNq"
      }
    },
    {
      "cell_type": "markdown",
      "source": [
        "Depois poderá criar arquivos .zip e extrair com unzip.\n",
        "\n",
        "**3️⃣ Diferenças importantes**"
      ],
      "metadata": {
        "id": "mJlAq_TtYPHF"
      }
    },
    {
      "cell_type": "markdown",
      "source": [
        "| Comando                       | Formato    | Vantagem                                     | Observação                                                             |\n",
        "| ----------------------------- | ---------- | -------------------------------------------- | ---------------------------------------------------------------------- |\n",
        "| `tar -czvf backup.tar.gz ...` | tar + gzip | mantém múltiplos arquivos e pastas           | ideal para backups                                                     |\n",
        "| `gzip -c ... > backup.gz`     | gzip puro  | rápido                                       | **não preserva múltiplos arquivos separados**, eles ficam concatenados |\n",
        "| `zip backup.zip ...`          | zip        | multiplataforma, fácil de extrair no Windows | precisa instalar `zip/unzip` no WSL                                    |\n"
      ],
      "metadata": {
        "id": "Hseipg2MYXg_"
      }
    },
    {
      "cell_type": "markdown",
      "source": [
        "**1️⃣ Listar os arquivos de backup no diretório**"
      ],
      "metadata": {
        "id": "gjCUDDoWZ1V5"
      }
    },
    {
      "cell_type": "markdown",
      "source": [
        "    ls -lh backup.*\n"
      ],
      "metadata": {
        "id": "-e8s0q-NZ4Hk"
      }
    },
    {
      "cell_type": "markdown",
      "source": [
        "Mostra todos os arquivos que começam com backup. (como backup.tar, backup.tar.gz, backup.tar.bz2, backup.gz, etc.)\n",
        "\n",
        "-l → formato detalhado (permissões, tamanho)\n",
        "\n",
        "-h → tamanhos “human readable” (KB, MB, etc.)"
      ],
      "metadata": {
        "id": "sDN4vyATaCIy"
      }
    },
    {
      "cell_type": "markdown",
      "source": [
        "**2️⃣ Listar o conteúdo dos backups**"
      ],
      "metadata": {
        "id": "Z0j3qyvYaD8z"
      }
    },
    {
      "cell_type": "markdown",
      "source": [
        "| Formato                 | Comando para listar conteúdo |\n",
        "| ----------------------- | ---------------------------- |\n",
        "| `.tar` (não comprimido) | `tar -tvf backup.tar`        |\n",
        "| `.tar.gz` (gzip)        | `tar -tzvf backup.tar.gz`    |\n",
        "| `.tar.bz2` (bzip2)      | `tar -tjvf backup.tar.bz2`   |\n",
        "| `.gz` (gzip puro)       | `gzip -l backup.gz`          |\n",
        "| `.zip`                  | `unzip -l backup.zip`        |\n"
      ],
      "metadata": {
        "id": "RU2fNhrnaPhy"
      }
    },
    {
      "cell_type": "markdown",
      "source": [
        "**Explicação:**\n",
        "\n",
        "tar -t → lista arquivos dentro do tar\n",
        "\n",
        "-v → verbose (detalhes)\n",
        "\n",
        "-z → gzip\n",
        "\n",
        "-j → bzip2\n",
        "\n",
        "gzip -l → mostra informações do arquivo .gz (tamanho original e comprimido)\n",
        "\n",
        "unzip -l → lista o conteúdo de um zip sem extrair"
      ],
      "metadata": {
        "id": "sn0vjuZ6aZLv"
      }
    },
    {
      "cell_type": "markdown",
      "source": [
        "**1️⃣ Criar arquivos de teste maiores**"
      ],
      "metadata": {
        "id": "gB86zX7Tfemy"
      }
    },
    {
      "cell_type": "markdown",
      "source": [
        "    cd ~/backup\n",
        "\n",
        "# Arquivos de 5 MB cada\n",
        "\n",
        "    dd if=/dev/zero of=arquivo1.txt bs=1M count=5\n",
        "\n",
        "    dd if=/dev/zero of=arquivo2.txt bs=1M count=5\n",
        "\n",
        "    dd if=/dev/zero of=arquivo3.txt bs=1M count=5\n"
      ],
      "metadata": {
        "id": "iIwEZV15fhb3"
      }
    },
    {
      "cell_type": "markdown",
      "source": [
        "**Explicação:**\n",
        "\n",
        "    dd → cria arquivos com tamanho controlado\n",
        "\n",
        "    if=/dev/zero → preenche com zeros\n",
        "\n",
        "    bs=1M count=5 → bloco de 1 MB, 5 blocos → 5 MB cada\n",
        "\n",
        "**2️⃣ Criar backups**"
      ],
      "metadata": {
        "id": "45GWzepRf30b"
      }
    },
    {
      "cell_type": "markdown",
      "source": [
        "**a) Tar simples**"
      ],
      "metadata": {
        "id": "tyxC1ks1gOj8"
      }
    },
    {
      "cell_type": "markdown",
      "source": [
        "    tar -cvf backup_test.tar arquivo1.txt arquivo2.txt arquivo3.txt\n"
      ],
      "metadata": {
        "id": "4s1hxqE2gI5B"
      }
    },
    {
      "cell_type": "markdown",
      "source": [
        "**b) Tar + gzip**"
      ],
      "metadata": {
        "id": "Z17_yd75gVTm"
      }
    },
    {
      "cell_type": "markdown",
      "source": [
        "    tar -czvf backup_test.tar.gz arquivo1.txt arquivo2.txt arquivo3.txt\n"
      ],
      "metadata": {
        "id": "kg7575m_gawo"
      }
    },
    {
      "cell_type": "markdown",
      "source": [
        "**c) Tar + bzip2**"
      ],
      "metadata": {
        "id": "kDPsHJMFgffN"
      }
    },
    {
      "cell_type": "markdown",
      "source": [
        "    tar -jcvf backup_test.tar.bz2 arquivo1.txt arquivo2.txt arquivo3.txt\n"
      ],
      "metadata": {
        "id": "JZQZdFBFgkSc"
      }
    },
    {
      "cell_type": "markdown",
      "source": [
        "**d) Gzip puro (cada arquivo separado)**"
      ],
      "metadata": {
        "id": "POYa_rikgonp"
      }
    },
    {
      "cell_type": "markdown",
      "source": [
        "    gzip -c arquivo1.txt > arquivo1.txt.gz\n",
        "\n",
        "    gzip -c arquivo2.txt > arquivo2.txt.gz\n",
        "\n",
        "    gzip -c arquivo3.txt > arquivo3.txt.gz\n"
      ],
      "metadata": {
        "id": "qwRs8Bhdg1Zy"
      }
    },
    {
      "cell_type": "markdown",
      "source": [
        "**3️⃣ Listar tamanhos dos arquivos**"
      ],
      "metadata": {
        "id": "s1b3eCrTg8T-"
      }
    },
    {
      "cell_type": "markdown",
      "source": [
        "    ls -lh backup_test.*\n",
        "\n",
        "    ls -lh arquivo*.txt.gz\n"
      ],
      "metadata": {
        "id": "NV1QWIJVhDP-"
      }
    },
    {
      "cell_type": "markdown",
      "source": [
        "Aqui você verá claramente:\n",
        "\n",
        "backup_test.tar → maior, sem compressão\n",
        "\n",
        "backup_test.tar.gz → menor, gzip\n",
        "\n",
        "backup_test.tar.bz2 → ainda menor, bzip2\n",
        "\n",
        "Arquivos .gz individuais → tamanho individual de compressão"
      ],
      "metadata": {
        "id": "7QHwNl7HhJc2"
      }
    },
    {
      "cell_type": "markdown",
      "source": [
        "Aqui está uma tabela de comparação de tamanhos simulando o backup de três arquivos grandes de 5 MB cada, usando os diferentes métodos de compressão no WSL:"
      ],
      "metadata": {
        "id": "tvcSgajAhZWj"
      }
    },
    {
      "cell_type": "markdown",
      "source": [
        "| Arquivo / Backup      | Tamanho aproximado | Observações                                                                |\n",
        "| --------------------- | ------------------ | -------------------------------------------------------------------------- |\n",
        "| `backup_test.tar`     | 15 MB              | Tar **não comprimido**, soma direta dos três arquivos                      |\n",
        "| `backup_test.tar.gz`  | ~2,5–3 MB          | Tar + **gzip**, compressão rápida, boa para textos ou arquivos repetitivos |\n",
        "| `backup_test.tar.bz2` | ~2–2,5 MB          | Tar + **bzip2**, compressão maior, mas mais lenta que gzip                 |\n",
        "| `arquivo1.txt.gz`     | ~0,8–1 MB          | Arquivo gzip individual                                                    |\n",
        "| `arquivo2.txt.gz`     | ~0,8–1 MB          | Arquivo gzip individual                                                    |\n",
        "| `arquivo3.txt.gz`     | ~0,8–1 MB          | Arquivo gzip individual                                                    |\n"
      ],
      "metadata": {
        "id": "PXiVBAphha4h"
      }
    },
    {
      "cell_type": "markdown",
      "source": [
        "**🔹 Observações importantes:**\n",
        "\n",
        "Por que backup_test.tar.gz e .tar.bz2 são menores que o tar simples:\n",
        "\n",
        "Eles comprimem os três arquivos juntos, aproveitando repetições no conteúdo.\n",
        "\n",
        ".tar.bz2 geralmente consegue compressão maior que gzip, mas demora mais.\n",
        "\n",
        "**Arquivos .gz individuais:**\n",
        "\n",
        "Compressão isolada, útil se você não precisa de um arquivo único para todos os arquivos.\n",
        "\n",
        "Cada arquivo comprimido separadamente não aproveita padrões repetidos entre arquivos diferentes.\n",
        "\n",
        "**Quando usar cada formato:**\n",
        "\n",
        ".tar → apenas empacota sem comprimir (rápido, útil para transferência interna)\n",
        "\n",
        ".tar.gz → compressão rápida, compatível com praticamente todos os sistemas\n",
        "\n",
        ".tar.bz2 → compressão máxima, mais lenta, bom para arquivamento\n",
        "\n",
        ".gz individual → útil para arquivos únicos grandes\n",
        "\n",
        ".zip → multiplataforma, fácil no Windows, não precisa de tar"
      ],
      "metadata": {
        "id": "Vhuts1ddhfV2"
      }
    },
    {
      "cell_type": "markdown",
      "source": [
        "**✅ Como visualizar o conteúdo corretamente:**\n",
        "\n",
        "Para ver o conteúdo de um .tar:\n",
        "\n",
        "    tar -tvf backup.tar\n",
        "\n",
        "\n",
        "**Para ver o conteúdo de um .tar.gz:**\n",
        "\n",
        "    tar -tzvf backup_test.tar.gz\n",
        "\n",
        "\n",
        "**Para ver o conteúdo de um .tar.bz2:**\n",
        "\n",
        "    tar -tjvf backup_test.tar.bz2\n",
        "\n",
        "\n",
        "**Para ver o conteúdo de um .zip:**\n",
        "\n",
        "    unzip -l backup.zip\n",
        "\n",
        "\n",
        "**👉 Em resumo:**\n",
        "\n",
        "    cat funciona para arquivos texto.\n",
        "\n",
        "Para arquivos de backup comprimidos/empacotados, você usa o próprio utilitário (tar, unzip, etc.) para listar ou extrair."
      ],
      "metadata": {
        "id": "Ytks02YZnT4j"
      }
    },
    {
      "cell_type": "markdown",
      "source": [
        "**Criar um ficheiro .sh (script de shell) é simples. No Linux/WSL você faz assim:**\n",
        "\n",
        "**✅ Passos para criar um .sh**\n",
        "\n",
        "Criar o arquivo vazio (ou abrir no editor):\n",
        "\n",
        "    nano meu_script.sh\n",
        "\n",
        "\n",
        "ou\n",
        "\n",
        "    touch meu_script.sh\n",
        "\n",
        "\n",
        "Adicionar o conteúdo no arquivo (se usar nano, digite algo como):\n",
        "\n",
        "    #!/bin/bash\n",
        "    # Meu primeiro script\n",
        "\n",
        "    echo \"Olá, Mundo!\"\n",
        "    echo \"Bem-vindo ao Linux\"\n",
        "\n",
        "\n",
        "Salvar e sair (se usar nano: CTRL + O → Enter → CTRL + X).\n",
        "\n",
        "**Dar permissão de execução:**\n",
        "\n",
        "    chmod +x meu_script.sh\n",
        "\n",
        "\n",
        "**Executar o script:**\n",
        "\n",
        "    ./meu_script.sh\n",
        "\n",
        "**📌 Dicas:**\n",
        "\n",
        "A primeira linha #!/bin/bash é chamada shebang, e diz ao sistema que o script deve ser executado com o interpretador bash.\n",
        "\n",
        "O .sh é apenas uma extensão convencional (não obrigatória, mas ajuda a identificar scripts).\n",
        "\n",
        "Você pode colocar qualquer comando Linux dentro dele (exemplo: tar, ls, zip, unzip, etc.)."
      ],
      "metadata": {
        "id": "xegBE4Cct8tQ"
      }
    },
    {
      "cell_type": "markdown",
      "source": [
        "Uma sequência de comandos clássicos para descobrir qual shell está em uso, quais shells existem no sistema e qual é o shell padrão do seu usuário. Vou detalhar cada um:\n",
        "\n",
        "🔹 1. echo $0\n",
        "\n",
        "    echo $0\n",
        "\n",
        "**Mostra o nome do processo atual do shell.**\n",
        "\n",
        "No seu caso: -bash → significa que você está no bash como login shell (o hífen - na frente indica que foi iniciado como login shell).\n",
        "\n",
        "**🔹 2. $SHELL**\n",
        "\n",
        "    $SHELL\n",
        "\n",
        "Quando você digita só $SHELL, o shell tenta executar o comando cujo caminho está na variável de ambiente $SHELL.\n",
        "\n",
        "No seu caso, como não tinha argumentos, não aconteceu nada visível.\n",
        "\n",
        "🔹 3. echo $SHELL\n",
        "\n",
        "    echo $SHELL\n",
        "\n",
        "Mostra o valor da variável de ambiente $SHELL, que indica qual é o shell padrão configurado para seu usuário no /etc/passwd.\n",
        "\n",
        "    Resultado: /bin/bash.\n",
        "\n",
        "Isso significa que o seu shell padrão de login é o bash.\n",
        "\n",
        "🔹 4. ps -p $$ -ocmd=\n",
        "\n",
        "    ps -p $$ -ocmd=\n",
        "\n",
        "\n",
        " - $$ → é o PID do shell atual.\n",
        "\n",
        " - ps -p $$ → mostra informações do processo com esse PID.\n",
        "\n",
        " - -o cmd= → formata a saída exibindo só o comando que iniciou o processo.\n",
        "\n",
        "Resultado: /bin/bash.\n",
        "\n",
        "Isso confirma que seu shell em execução é realmente o bash.\n",
        "\n",
        "🔹 5. cat /etc/shells\n",
        "\n",
        "    cat /etc/shells\n",
        "\n",
        "\n",
        "Mostra todos os shells válidos instalados no sistema.\n",
        "\n",
        "No seu caso tem:\n",
        "\n",
        " - /bin/sh → o shell mais básico (linkado geralmente para dash no Ubuntu)\n",
        "\n",
        " - /bin/bash → o bash\n",
        "\n",
        " - /bin/rbash → bash restrito\n",
        "\n",
        " - /usr/bin/dash → shell leve e rápido, usado em scripts do sistema\n",
        "\n",
        " - /usr/bin/tmux → multiplexador de terminais\n",
        "\n",
        "🔹 6. grep \"^$USER\" /etc/passwd\n",
        "\n",
        "    grep \"^$USER\" /etc/passwd\n",
        "\n",
        " - grep \"^$USER\" → procura a linha do seu usuário no arquivo /etc/passwd.\n",
        "\n",
        "- Esse arquivo guarda informações básicas de cada conta no sistema.\n",
        "\n",
        " - Sua saída:\n",
        "\n",
        "    torres_camoes:x:1000:1000:,,,:/home/torres_camoes:/bin/bash\n",
        "\n",
        "\n",
        "    torres_camoes → login do usuário\n",
        "\n",
        " - x → senha está no /etc/shadow\n",
        "\n",
        " - 1000:1000 → UID e GID\n",
        "\n",
        " - :/home/torres_camoes → diretório HOME\n",
        "\n",
        " - :/bin/bash → shell padrão do usuário\n",
        "\n",
        "**✅ Resumo geral:**\n",
        "\n",
        " - Você confirmou de várias formas que:\n",
        "\n",
        " - eu shell em execução é o bash\n",
        "\n",
        " - Seu shell padrão de login (configurado no sistema) também é o bash\n",
        "\n",
        "O sistema oferece outros shells (sh, dash, rbash, etc.), mas o seu usuário está configurado para sempre usar o bash."
      ],
      "metadata": {
        "id": "OdJyPwEYvTIX"
      }
    },
    {
      "cell_type": "markdown",
      "source": [
        "Vamos montar um script diagnóstico chamado meu_shell.sh que roda todos esses testes de uma vez e te mostra claramente:\n",
        "\n",
        "**📌 Script: meu_shell.sh**\n",
        "\n",
        "#!/bin/bash\n",
        "\n",
        "# Script para diagnosticar qual shell estou usando\n",
        "\n",
        "echo \"=== Diagnóstico de Shell no Linux ===\"\n",
        "\n",
        "echo\n",
        "\n",
        "echo \"1) Shell atual em execução (\\$0):\"\n",
        "\n",
        "echo \"   $0\"\n",
        "\n",
        "echo\n",
        "\n",
        "echo \"2) Valor da variável \\$SHELL:\"\n",
        "\n",
        "echo \"   $SHELL\"\n",
        "\n",
        "echo\n",
        "\n",
        "echo \"3) Comando real do processo do shell (ps -p \\$\\$ -o cmd=):\"\n",
        "\n",
        "ps -p $$ -o cmd=\n",
        "\n",
        "echo\n",
        "\n",
        "echo \"4) Shells válidos no sistema (/etc/shells):\"\n",
        "\n",
        "cat /etc/shells\n",
        "\n",
        "echo\n",
        "\n",
        "echo \"5) Linha do usuário no /etc/passwd (mostra shell padrão):\"\n",
        "\n",
        "grep \"^$USER\" /etc/passwd\n",
        "\n",
        "echo\n",
        "\n",
        "echo \"=== Fim do diagnóstico ===\"\n",
        "\n",
        "**✅ Como usar:**\n",
        "\n",
        "**Crie o arquivo:**\n",
        "\n",
        "    nano meu_shell.sh\n",
        "\n",
        "Cole o conteúdo acima, salve e saia (CTRL+O, ENTER, CTRL+X).\n",
        "\n",
        "**Dá permissão de execução:**\n",
        "\n",
        "    chmod +x meu_shell.sh\n",
        "\n",
        "\n",
        "**Executar:**\n",
        "\n",
        "    ./meu_shell.sh\n",
        "\n",
        "**📊 Saída esperada (no seu caso, usando bash):**\n",
        "\n",
        "=== Diagnóstico de Shell no Linux ===\n",
        "\n",
        "1) Shell atual em execução ($0):\n",
        "\n",
        "   -bash\n",
        "\n",
        "2) Valor da variável $SHELL:\n",
        "\n",
        "   /bin/bash\n",
        "\n",
        "3) Comando real do processo do shell (ps -p $$ -o cmd=):\n",
        "\n",
        "/bin/bash\n",
        "\n",
        "4) Shells válidos no sistema (/etc/shells):\n",
        "\n",
        "/bin/sh\n",
        "\n",
        "/usr/bin/sh\n",
        "\n",
        "/bin/bash\n",
        "\n",
        "/usr/bin/bash\n",
        "\n",
        "/bin/rbash\n",
        "\n",
        "/usr/bin/rbash\n",
        "\n",
        "/usr/bin/dash\n",
        "\n",
        "/usr/bin/tmux\n",
        "\n",
        "5) Linha do usuário no /etc/passwd (mostra shell padrão):\n",
        "\n",
        "torres_camoes:x:1000:1000:,,,:/home/torres_camoes:/bin/bash\n",
        "\n",
        "=== Fim do diagnóstico ==="
      ],
      "metadata": {
        "id": "IbginRfLyeOB"
      }
    },
    {
      "cell_type": "markdown",
      "source": [
        "**1️⃣ Listar todos os discos e partições**\n",
        "\n",
        "a) lsblk – Lista blocos de dispositivos\n",
        "lsblk -f\n",
        "\n",
        "\n",
        " - Mostra todos os discos, partições e sistemas de arquivos.\n",
        "\n",
        " - Exemplo de saída:\n",
        "\n",
        "    NAME   FSTYPE LABEL UUID   MOUNTPOINT\n",
        "\n",
        "    sda   \n",
        "                                            \n",
        "    ├─sda1 ext4         1234abcd-5678-ef90-1234-56789abcdef0 /\n",
        "    ├─sda2 swap         9876abcd-5678-ef90-1234-56789abcdef0 [SWAP]\n",
        "\n",
        "\n",
        " - NAME → dispositivo\n",
        "\n",
        " - FSTYPE → tipo de sistema de arquivos\n",
        "\n",
        " - MOUNTPOINT → onde está montado\n",
        "\n",
        "b) fdisk – Partições detalhadas\n",
        "\n",
        "    sudo fdisk -l\n",
        "\n",
        " - Lista discos físicos, tamanho, tipo de partição.\n",
        "\n",
        " - Precisa de sudo.\n",
        "\n",
        "c) df – Espaço usado em sistemas de arquivos\n",
        "\n",
        "    df -h\n",
        "\n",
        " - Mostra espaço ocupado e disponível em discos montados.\n",
        "\n",
        " - -h → human readable (KB, MB, GB)\n",
        "\n",
        " - Exemplo:\n",
        "\n",
        "    Filesystem      Size  Used Avail Use% Mounted on\n",
        "\n",
        "    /dev/sda1        50G   20G   28G  42% /\n",
        "\n",
        "**2️⃣ Ver memória RAM**\n",
        "\n",
        "a) free – Memória disponível\n",
        "\n",
        "    free -h\n",
        "\n",
        " - Mostra RAM e swap.\n",
        "\n",
        " - Exemplo:\n",
        "\n",
        "| *Tipo* | *Total* | *Usado* | *Livre* | *Compartilhado* | *Buffer/Cache* | *Disponível* |\n",
        "| -------- | --------- | --------- | --------- | ----------------- | ---------------- | --------------- |\n",
        "| Memória (Mem) | 7.7G | 2.1G | 3.9G | 200M | 1.7G | 5.2G |\n",
        "| Swap | 2.0G | 0B | 2.0G | - | - | - |\n",
        "\n",
        "        \n",
        "\n",
        "b) cat /proc/meminfo – Detalhes completos\n",
        "\n",
        "    cat /proc/meminfo\n",
        "\n",
        "\n",
        " - Mostra todos os parâmetros de memória do kernel.\n",
        "\n",
        "**3️⃣ Visualização resumida e combinada**\n",
        "\n",
        "**Para ver discos + partições + memória de forma resumida:**\n",
        "\n",
        "    lsblk -f && echo && free -h"
      ],
      "metadata": {
        "id": "7h3ZVkKPRLCS"
      }
    },
    {
      "cell_type": "code",
      "source": [
        "import pandas as pd\n",
        "\n",
        "# Tabela 1: Discos e Partições\n",
        "discos_particoes = {\n",
        "    'Dispositivo': ['sda', 'sdb', 'sdc', 'sdd'],\n",
        "    'Tipo': ['ext4', 'ext4', 'swap', 'ext4'],\n",
        "    'Sistema de Arquivos': ['1.0', '1.0', '1', '1.0'],\n",
        "    'Montagem': ['—', '—', '[SWAP]', '/, /mnt/wslg/distro'],\n",
        "    'Uso': ['—', '—', '—', '1%']\n",
        "}\n",
        "df_discos_particoes = pd.DataFrame(discos_particoes)\n",
        "\n",
        "# Tabela 2: Discos Físicos\n",
        "discos_fisicos = {\n",
        "    'Disco': ['/dev/sda', '/dev/sdb', '/dev/sdc', '/dev/sdd'],\n",
        "    'Tamanho': ['388.45 MiB', '186.04 MiB', '1 GiB', '1 TiB'],\n",
        "    'Modelo': ['Virtual Disk', 'Virtual Disk', 'Virtual Disk', 'Virtual Disk']\n",
        "}\n",
        "df_discos_fisicos = pd.DataFrame(discos_fisicos)\n",
        "\n",
        "# Tabela 3: Uso de Sistemas de Arquivos\n",
        "uso_arquivos = {\n",
        "    'Filesystem': ['/dev/sdd', 'C:\\\\', 'E:\\\\', 'F:\\\\'],\n",
        "    'Tamanho': ['1007G', '238G', '10T', '10T'],\n",
        "    'Usado': ['9.8G', '183G', '942M', '425M'],\n",
        "    'Disponível': ['946G', '56G', '10T', '10T'],\n",
        "    'Uso%': ['2%', '77%', '1%', '1%'],\n",
        "    'Montagem': ['/', '/mnt/c', '/mnt/e', '/mnt/f']\n",
        "}\n",
        "df_uso_arquivos = pd.DataFrame(uso_arquivos)\n",
        "\n",
        "# Tabela 4: Memória RAM\n",
        "memoria_ram = {\n",
        "    'Tipo': ['RAM', 'Swap'],\n",
        "    'Total': ['3.8Gi', '1.0Gi'],\n",
        "    'Usado': ['919Mi', '0B'],\n",
        "    'Livre': ['2.8Gi', '1.0Gi'],\n",
        "    'Disponível': ['2.9Gi', '—']\n",
        "}\n",
        "df_memoria_ram = pd.DataFrame(memoria_ram)\n",
        "\n",
        "# Tabela 5: Detalhes da Memória\n",
        "detalhes_memoria = {\n",
        "    'Tipo': ['MemTotal', 'MemFree', 'Buffers', 'Cached', 'SwapTotal', 'SwapFree'],\n",
        "    'Valor': ['3.94 GiB', '2.91 GiB', '6.3 MiB', '185 MiB', '1 GiB', '1 GiB']\n",
        "}\n",
        "df_detalhes_memoria = pd.DataFrame(detalhes_memoria)\n",
        "\n",
        "# Exibe as tabelas\n",
        "print(\"Discos e Partições:\")\n",
        "print(df_discos_particoes)\n",
        "print(\"\\nDiscos Físicos:\")\n",
        "print(df_discos_fisicos)\n",
        "print(\"\\nUso de Sistemas de Arquivos:\")\n",
        "print(df_uso_arquivos)\n",
        "print(\"\\nMemória RAM:\")\n",
        "print(df_memoria_ram)\n",
        "print(\"\\nDetalhes da Memória:\")\n",
        "print(df_detalhes_memoria)"
      ],
      "metadata": {
        "id": "hqFWKOpuUYob",
        "outputId": "0c2397fe-91a4-4ca0-f5ed-de118de68256",
        "colab": {
          "base_uri": "https://localhost:8080/"
        }
      },
      "execution_count": 1,
      "outputs": [
        {
          "output_type": "stream",
          "name": "stdout",
          "text": [
            "Discos e Partições:\n",
            "  Dispositivo  Tipo Sistema de Arquivos             Montagem Uso\n",
            "0         sda  ext4                 1.0                    —   —\n",
            "1         sdb  ext4                 1.0                    —   —\n",
            "2         sdc  swap                   1               [SWAP]   —\n",
            "3         sdd  ext4                 1.0  /, /mnt/wslg/distro  1%\n",
            "\n",
            "Discos Físicos:\n",
            "      Disco     Tamanho        Modelo\n",
            "0  /dev/sda  388.45 MiB  Virtual Disk\n",
            "1  /dev/sdb  186.04 MiB  Virtual Disk\n",
            "2  /dev/sdc       1 GiB  Virtual Disk\n",
            "3  /dev/sdd       1 TiB  Virtual Disk\n",
            "\n",
            "Uso de Sistemas de Arquivos:\n",
            "  Filesystem Tamanho Usado Disponível Uso% Montagem\n",
            "0   /dev/sdd   1007G  9.8G       946G   2%        /\n",
            "1        C:\\    238G  183G        56G  77%   /mnt/c\n",
            "2        E:\\     10T  942M        10T   1%   /mnt/e\n",
            "3        F:\\     10T  425M        10T   1%   /mnt/f\n",
            "\n",
            "Memória RAM:\n",
            "   Tipo  Total  Usado  Livre Disponível\n",
            "0   RAM  3.8Gi  919Mi  2.8Gi      2.9Gi\n",
            "1  Swap  1.0Gi     0B  1.0Gi          —\n",
            "\n",
            "Detalhes da Memória:\n",
            "        Tipo     Valor\n",
            "0   MemTotal  3.94 GiB\n",
            "1    MemFree  2.91 GiB\n",
            "2    Buffers   6.3 MiB\n",
            "3     Cached   185 MiB\n",
            "4  SwapTotal     1 GiB\n",
            "5   SwapFree     1 GiB\n"
          ]
        }
      ]
    }
  ]
}