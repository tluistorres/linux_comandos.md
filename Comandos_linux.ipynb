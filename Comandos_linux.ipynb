{
  "nbformat": 4,
  "nbformat_minor": 0,
  "metadata": {
    "colab": {
      "provenance": [],
      "authorship_tag": "ABX9TyNIHnYM5vs3U8lKAIz5Vujg",
      "include_colab_link": true
    },
    "kernelspec": {
      "name": "python3",
      "display_name": "Python 3"
    },
    "language_info": {
      "name": "python"
    }
  },
  "cells": [
    {
      "cell_type": "markdown",
      "metadata": {
        "id": "view-in-github",
        "colab_type": "text"
      },
      "source": [
        "<a href=\"https://colab.research.google.com/github/tluistorres/linux_comandos.md/blob/main/Comandos_linux.ipynb\" target=\"_parent\"><img src=\"https://colab.research.google.com/assets/colab-badge.svg\" alt=\"Open In Colab\"/></a>"
      ]
    },
    {
      "cell_type": "code",
      "source": [
        "import pandas as pd\n",
        "from tabulate import tabulate\n",
        "\n",
        "# ====================================================================\n",
        "# DEFINIÇÃO DOS DADOS\n",
        "# ====================================================================\n",
        "\n",
        "tema = [\"Histórico\", \"Histórico\", \"Node.js\", \"Node.js\", \"Node.js\", \"Node.js\", \"Node.js\", \"Node.js\", \"cURL\", \"cURL\", \"cURL\", \"Utilitário\", \"OpenSSL\", \"OpenSSL\", \"OpenSSL\", \"Apache/Nginx\", \"Apache/Nginx\", \"Apache/Nginx\", \"Apache/Nginx\", \"Apache/Nginx\", \"Apache/Nginx\", \"Apache/Nginx\", \"Apache/Nginx\", \"Apache/Nginx\", \"Apache/Nginx\", \"Apache/Nginx\", \"PHP/MySQL\", \"PHP/MySQL\", \"PHP/MySQL\", \"PHP/MySQL\", \"WordPress\", \"WordPress\", \"WordPress\", \"Git Setup\", \"Git\", \"Git Setup\", \"Git Setup\", \"Git\", \"Git Config\", \"Git Config\", \"Scripts/Backup\", \"Scripts/Backup\", \"Scripts/Backup\", \"Scripts/Backup\", \"Crontab\", \"Crontab\", \"Crontab\", \"Monitoramento\", \"Monitoramento\", \"Monitoramento\", \"Monitoramento\", \"Sistema\", \"Sistema\", \"Sistema\", \"Sistema\", \"Sistema\", \"Sistema\", \"Sistema\", \"Sistema\", \"Sistema\", \"Rede\", \"Rede\", \"Rede\"]\n",
        "comando = [\"history -r\", \"history > ~/backup_history.txt\", \"npm install\", \"npm install jsonwebtoken\", \"npm install json-server --save\", \"node servidor.js\", \"npm run start-auth\", \"npx json-server --watch database.json --https --port 8000 --key server.key --cert server.crt\", \"curl -X POST -H \\\"Content-Type: application/json\\\" -d '{\\\"email\\\":\\\"lcs@alura.com\\\",\\\"senha\\\":\\\"123\\\"}' http://localhost:8000/public/login\", \"curl http://localhost:8000\", \"curl http://localhost:3000/livros\", \"sudo lsof -i :8000\", \"openssl req -x509 -sha256 -nodes -days 365 -newkey rsa:2048 -keyout server.key -out server.crt\", \"openssl x509 -in server.crt -text -noout\", \"openssl rsa -in server.key -check\", \"sudo apt update\", \"sudo apt install apache2 -y\", \"sudo service apache2 start\", \"sudo systemctl restart apache2\", \"sudo systemctl status apache2\", \"sudo apache2ctl configtest\", \"sudo nano /etc/apache2/sites-available/000-default.conf\", \"sudo a2ensite meu-site.conf\", \"sudo systemctl reload apache2\", \"sudo apt install nginx -y\", \"sudo systemctl status nginx\", \"sudo apt install php libapache2-mod-php php-mysql -y\", \"php -v\", \"sudo apt install mysql-server -y\", \"sudo mysql -u root -p\", \"sudo wget https://wordpress.org/latest.tar.gz\", \"sudo tar -xzvf latest.tar.gz\", \"sudo chown -R www-data:www-data /var/www/html\", \"git init\", \"git add .\", \"git remote add origin https://github.com/tluistorres/meu-site.git\", \"git branch -M main\", \"git push -u origin main\", \"git config --global user.name \\\"Torres Camoes\\\"\", \"git config --global credential.helper store\", \"mkdir -p ~/relatorio && touch ~/relatorio/processos.txt\", \"ps aux > ~/relatorio/processos.txt\", \"chmod +x ~/relatorio/primeiro_programa.sh\", \"sudo tar -czf /backup/$(date +%d%m%Y-%H%M)-home.tar.gz -C /home torres_camoes\", \"crontab -e\", \"crontab -l\", \"grep CRON /var/log/syslog | tail -n 20\", \"htop\", \"ps aux | grep apache2\", \"sudo killall -STOP apache2\", \"sudo renice -19 <PID>\", \"pwd\", \"whoami\", \"ls -la\", \"echo \\\"Primeira linha\\\" > myfile.txt\", \"echo \\\"Segunda linha\\\" >> myfile.txt\", \"cat myfile.txt\", \"wc -l myfile.txt\", \"mv ~/arquivos_teste ~/exemplos_praticos\", \"hostname -I\", \"ip a | grep inet\", \"ping google.com\"]\n",
        "descricao = [\"Recarrega o histórico do Bash\", \"Salva o histórico de comandos em um arquivo de backup\", \"Instala dependências listadas no package.json\", \"Instala a biblioteca para trabalhar com JSON Web Tokens (JWT)\", \"Instala o json-server localmente no projeto\", \"Executa um servidor Node.js\", \"Executa um script de inicialização definido no package.json\", \"Inicia o json-server usando HTTPS e certificados\", \"Faz uma requisição POST de login\", \"Faz uma requisição GET ao servidor local\", \"Faz uma requisição GET a uma rota específica\", \"Verifica qual processo está usando a porta 8000\", \"Gera um certificado SSL/TLS autoassinado\", \"Mostra os detalhes e informações do certificado\", \"Verifica a integridade da chave privada\", \"Atualiza a lista de pacotes disponíveis\", \"Instala o servidor web Apache\", \"Inicia o serviço do Apache\", \"Reinicia o serviço do Apache\", \"Mostra o status atual do serviço do Apache\", \"Testa a sintaxe dos arquivos de configuração do Apache\", \"Edita o arquivo de configuração de um Virtual Host\", \"Habilita um site virtual no Apache\", \"Aplica as alterações de configuração sem derrubar o serviço\", \"Instala o servidor web Nginx\", \"Mostra o status atual do serviço do Nginx\", \"Instala PHP e módulos comuns\", \"Verifica a versão do PHP instalada\", \"Instala o servidor MySQL\", \"Acessa o MySQL como usuário root\", \"Baixa a versão mais recente do WordPress\", \"Descompacta o arquivo baixado\", \"Define o usuário www-data como proprietário dos arquivos\", \"Inicializa um novo repositório Git na pasta atual\", \"Adiciona todos os arquivos novos e modificados à área de staging\", \"Conecta o repositório local a um repositório remoto\", \"Renomeia a branch atual para main\", \"Envia o histórico local para o GitHub\", \"Configura o nome do autor para todos os commits\", \"Configura o Git para armazenar credenciais\", \"Cria a pasta relatorio e o arquivo processos.txt\", \"Salva a lista de todos os processos em um arquivo\", \"Torna um script executável\", \"Cria um arquivo .tar.gz de backup do diretório do usuário\", \"Abre o editor para agendar tarefas\", \"Lista as tarefas agendadas\", \"Mostra as últimas entradas de log do CRON\", \"Monitora processos e uso de recursos\", \"Monitora processos do Apache\", \"Pausa todos os processos do Apache\", \"Aumenta a prioridade de um processo\", \"Mostra o diretório de trabalho atual\", \"Mostra o nome do usuário logado\", \"Lista todos os arquivos e diretórios\", \"Cria um arquivo com o texto\", \"Anexa uma linha ao final do arquivo\", \"Exibe o conteúdo completo do arquivo\", \"Conta o número de linhas no arquivo\", \"Move ou renomeia um diretório\", \"Mostra o endereço IP local\", \"Mostra os endereços IP locais\", \"Testa a conectividade de rede\"]\n",
        "\n",
        "# NOVA COLUNA: Resumo Sucinto\n",
        "resumo_sucinto = [\n",
        "    \"Recarrega Histórico\", \"Salva Histórico\", \"Instala Dependências\", \"Instala JWT\", \"Instala JSON Server\", \"Executa Servidor Node\", \"Inicia Servidor (Script)\", \"Inicia JSON Server (HTTPS)\",\n",
        "    \"Login POST (cURL)\", \"GET Servidor Local (cURL)\", \"GET Rota Específica (cURL)\", \"Checa Porta (8000)\", \"Gera Certificado SSL\", \"Verifica Detalhes Certificado\", \"Checa Chave Privada\",\n",
        "    \"Atualiza Pacotes\", \"Instala Apache\", \"Inicia Apache\", \"Reinicia Apache\", \"Status Apache\", \"Testa Configuração Apache\", \"Edita Configuração Site\", \"Habilita Site Virtual\",\n",
        "    \"Aplica Configuração Apache\", \"Instala Nginx\", \"Status Nginx\", \"Instala PHP e Módulos\", \"Checa Versão PHP\", \"Instala MySQL\", \"Acessa MySQL (Root)\", \"Baixa WordPress\",\n",
        "    \"Descompacta WordPress\", \"Ajusta Permissões WP\", \"Inicializa Repositório\", \"Adiciona para Commit\", \"Define Repositório Remoto\", \"Renomeia Branch (main)\", \"Envia para o GitHub\",\n",
        "    \"Configura Nome Global\", \"Armazena Credenciais\", \"Cria Pasta/Arquivo Log\", \"Salva Lista de Processos\", \"Torna Script Executável\", \"Cria Backup (Tar.gz)\", \"Edita Tarefas Agendadas\",\n",
        "    \"Lista Tarefas Agendadas\", \"Checa Logs do CRON\", \"Monitoramento Interativo\", \"Filtra Processos Apache\", \"Suspende Processos\", \"Prioriza Processo (+/-)\", \"Diretório Atual (Path)\",\n",
        "    \"Usuário Atual\", \"Lista Detalhada\", \"Cria/Sobrescreve Arquivo\", \"Anexa Linha ao Arquivo\", \"Exibe Conteúdo\", \"Conta Linhas\", \"Renomeia Pasta\", \"Mostra IP Local\", \"Filtra Endereços IP\", \"Testa Conectividade (Ping)\"\n",
        "]\n",
        "\n",
        "# ====================================================================\n",
        "# CRIAÇÃO E EXIBIÇÃO DA TABELA\n",
        "# ====================================================================\n",
        "\n",
        "# Ajusta o comprimento das listas para evitar erros de índice (boa prática)\n",
        "min_len = min(len(tema), len(comando), len(descricao), len(resumo_sucinto))\n",
        "tema = tema[:min_len]\n",
        "comando = comando[:min_len]\n",
        "descricao = descricao[:min_len]\n",
        "resumo_sucinto = resumo_sucinto[:min_len]\n",
        "\n",
        "# Cria o DataFrame com a nova coluna\n",
        "df = pd.DataFrame({\n",
        "    'Tema': tema,\n",
        "    'Comando': comando,\n",
        "    'Descrição': descricao,\n",
        "    'Resumo Sucinto': resumo_sucinto  # Nova coluna adicionada\n",
        "})\n",
        "\n",
        "# Imprime a tabela usando tabulate no formato de tabela PostgreSQL (psql)\n",
        "print(\"\\n--- Tabela de Comandos Linux, Git e DevOps ---\\n\")\n",
        "print(tabulate(df, headers='keys', tablefmt='psql', showindex=False))"
      ],
      "metadata": {
        "id": "MxR4VI_M07Pj",
        "outputId": "890fa4cc-9e50-4e84-b487-a111243f715e",
        "colab": {
          "base_uri": "https://localhost:8080/",
          "height": 0
        }
      },
      "execution_count": 13,
      "outputs": [
        {
          "output_type": "stream",
          "name": "stdout",
          "text": [
            "\n",
            "--- Tabela de Comandos Linux, Git e DevOps ---\n",
            "\n",
            "+----------------+----------------------------------------------------------------------------------------------------------------------------------+------------------------------------------------------------------+-------------------------------+\n",
            "| Tema           | Comando                                                                                                                          | Descrição                                                        | Resumo Sucinto                |\n",
            "|----------------+----------------------------------------------------------------------------------------------------------------------------------+------------------------------------------------------------------+-------------------------------|\n",
            "| Histórico      | history -r                                                                                                                       | Recarrega o histórico do Bash                                    | Recarrega Histórico           |\n",
            "| Histórico      | history > ~/backup_history.txt                                                                                                   | Salva o histórico de comandos em um arquivo de backup            | Salva Histórico               |\n",
            "| Node.js        | npm install                                                                                                                      | Instala dependências listadas no package.json                    | Instala Dependências          |\n",
            "| Node.js        | npm install jsonwebtoken                                                                                                         | Instala a biblioteca para trabalhar com JSON Web Tokens (JWT)    | Instala JWT                   |\n",
            "| Node.js        | npm install json-server --save                                                                                                   | Instala o json-server localmente no projeto                      | Instala JSON Server           |\n",
            "| Node.js        | node servidor.js                                                                                                                 | Executa um servidor Node.js                                      | Executa Servidor Node         |\n",
            "| Node.js        | npm run start-auth                                                                                                               | Executa um script de inicialização definido no package.json      | Inicia Servidor (Script)      |\n",
            "| Node.js        | npx json-server --watch database.json --https --port 8000 --key server.key --cert server.crt                                     | Inicia o json-server usando HTTPS e certificados                 | Inicia JSON Server (HTTPS)    |\n",
            "| cURL           | curl -X POST -H \"Content-Type: application/json\" -d '{\"email\":\"lcs@alura.com\",\"senha\":\"123\"}' http://localhost:8000/public/login | Faz uma requisição POST de login                                 | Login POST (cURL)             |\n",
            "| cURL           | curl http://localhost:8000                                                                                                       | Faz uma requisição GET ao servidor local                         | GET Servidor Local (cURL)     |\n",
            "| cURL           | curl http://localhost:3000/livros                                                                                                | Faz uma requisição GET a uma rota específica                     | GET Rota Específica (cURL)    |\n",
            "| Utilitário     | sudo lsof -i :8000                                                                                                               | Verifica qual processo está usando a porta 8000                  | Checa Porta (8000)            |\n",
            "| OpenSSL        | openssl req -x509 -sha256 -nodes -days 365 -newkey rsa:2048 -keyout server.key -out server.crt                                   | Gera um certificado SSL/TLS autoassinado                         | Gera Certificado SSL          |\n",
            "| OpenSSL        | openssl x509 -in server.crt -text -noout                                                                                         | Mostra os detalhes e informações do certificado                  | Verifica Detalhes Certificado |\n",
            "| OpenSSL        | openssl rsa -in server.key -check                                                                                                | Verifica a integridade da chave privada                          | Checa Chave Privada           |\n",
            "| Apache/Nginx   | sudo apt update                                                                                                                  | Atualiza a lista de pacotes disponíveis                          | Atualiza Pacotes              |\n",
            "| Apache/Nginx   | sudo apt install apache2 -y                                                                                                      | Instala o servidor web Apache                                    | Instala Apache                |\n",
            "| Apache/Nginx   | sudo service apache2 start                                                                                                       | Inicia o serviço do Apache                                       | Inicia Apache                 |\n",
            "| Apache/Nginx   | sudo systemctl restart apache2                                                                                                   | Reinicia o serviço do Apache                                     | Reinicia Apache               |\n",
            "| Apache/Nginx   | sudo systemctl status apache2                                                                                                    | Mostra o status atual do serviço do Apache                       | Status Apache                 |\n",
            "| Apache/Nginx   | sudo apache2ctl configtest                                                                                                       | Testa a sintaxe dos arquivos de configuração do Apache           | Testa Configuração Apache     |\n",
            "| Apache/Nginx   | sudo nano /etc/apache2/sites-available/000-default.conf                                                                          | Edita o arquivo de configuração de um Virtual Host               | Edita Configuração Site       |\n",
            "| Apache/Nginx   | sudo a2ensite meu-site.conf                                                                                                      | Habilita um site virtual no Apache                               | Habilita Site Virtual         |\n",
            "| Apache/Nginx   | sudo systemctl reload apache2                                                                                                    | Aplica as alterações de configuração sem derrubar o serviço      | Aplica Configuração Apache    |\n",
            "| Apache/Nginx   | sudo apt install nginx -y                                                                                                        | Instala o servidor web Nginx                                     | Instala Nginx                 |\n",
            "| Apache/Nginx   | sudo systemctl status nginx                                                                                                      | Mostra o status atual do serviço do Nginx                        | Status Nginx                  |\n",
            "| PHP/MySQL      | sudo apt install php libapache2-mod-php php-mysql -y                                                                             | Instala PHP e módulos comuns                                     | Instala PHP e Módulos         |\n",
            "| PHP/MySQL      | php -v                                                                                                                           | Verifica a versão do PHP instalada                               | Checa Versão PHP              |\n",
            "| PHP/MySQL      | sudo apt install mysql-server -y                                                                                                 | Instala o servidor MySQL                                         | Instala MySQL                 |\n",
            "| PHP/MySQL      | sudo mysql -u root -p                                                                                                            | Acessa o MySQL como usuário root                                 | Acessa MySQL (Root)           |\n",
            "| WordPress      | sudo wget https://wordpress.org/latest.tar.gz                                                                                    | Baixa a versão mais recente do WordPress                         | Baixa WordPress               |\n",
            "| WordPress      | sudo tar -xzvf latest.tar.gz                                                                                                     | Descompacta o arquivo baixado                                    | Descompacta WordPress         |\n",
            "| WordPress      | sudo chown -R www-data:www-data /var/www/html                                                                                    | Define o usuário www-data como proprietário dos arquivos         | Ajusta Permissões WP          |\n",
            "| Git Setup      | git init                                                                                                                         | Inicializa um novo repositório Git na pasta atual                | Inicializa Repositório        |\n",
            "| Git            | git add .                                                                                                                        | Adiciona todos os arquivos novos e modificados à área de staging | Adiciona para Commit          |\n",
            "| Git Setup      | git remote add origin https://github.com/tluistorres/meu-site.git                                                                | Conecta o repositório local a um repositório remoto              | Define Repositório Remoto     |\n",
            "| Git Setup      | git branch -M main                                                                                                               | Renomeia a branch atual para main                                | Renomeia Branch (main)        |\n",
            "| Git            | git push -u origin main                                                                                                          | Envia o histórico local para o GitHub                            | Envia para o GitHub           |\n",
            "| Git Config     | git config --global user.name \"Torres Camoes\"                                                                                    | Configura o nome do autor para todos os commits                  | Configura Nome Global         |\n",
            "| Git Config     | git config --global credential.helper store                                                                                      | Configura o Git para armazenar credenciais                       | Armazena Credenciais          |\n",
            "| Scripts/Backup | mkdir -p ~/relatorio && touch ~/relatorio/processos.txt                                                                          | Cria a pasta relatorio e o arquivo processos.txt                 | Cria Pasta/Arquivo Log        |\n",
            "| Scripts/Backup | ps aux > ~/relatorio/processos.txt                                                                                               | Salva a lista de todos os processos em um arquivo                | Salva Lista de Processos      |\n",
            "| Scripts/Backup | chmod +x ~/relatorio/primeiro_programa.sh                                                                                        | Torna um script executável                                       | Torna Script Executável       |\n",
            "| Scripts/Backup | sudo tar -czf /backup/$(date +%d%m%Y-%H%M)-home.tar.gz -C /home torres_camoes                                                    | Cria um arquivo .tar.gz de backup do diretório do usuário        | Cria Backup (Tar.gz)          |\n",
            "| Crontab        | crontab -e                                                                                                                       | Abre o editor para agendar tarefas                               | Edita Tarefas Agendadas       |\n",
            "| Crontab        | crontab -l                                                                                                                       | Lista as tarefas agendadas                                       | Lista Tarefas Agendadas       |\n",
            "| Crontab        | grep CRON /var/log/syslog | tail -n 20                                                                                           | Mostra as últimas entradas de log do CRON                        | Checa Logs do CRON            |\n",
            "| Monitoramento  | htop                                                                                                                             | Monitora processos e uso de recursos                             | Monitoramento Interativo      |\n",
            "| Monitoramento  | ps aux | grep apache2                                                                                                            | Monitora processos do Apache                                     | Filtra Processos Apache       |\n",
            "| Monitoramento  | sudo killall -STOP apache2                                                                                                       | Pausa todos os processos do Apache                               | Suspende Processos            |\n",
            "| Monitoramento  | sudo renice -19 <PID>                                                                                                            | Aumenta a prioridade de um processo                              | Prioriza Processo (+/-)       |\n",
            "| Sistema        | pwd                                                                                                                              | Mostra o diretório de trabalho atual                             | Diretório Atual (Path)        |\n",
            "| Sistema        | whoami                                                                                                                           | Mostra o nome do usuário logado                                  | Usuário Atual                 |\n",
            "| Sistema        | ls -la                                                                                                                           | Lista todos os arquivos e diretórios                             | Lista Detalhada               |\n",
            "| Sistema        | echo \"Primeira linha\" > myfile.txt                                                                                               | Cria um arquivo com o texto                                      | Cria/Sobrescreve Arquivo      |\n",
            "| Sistema        | echo \"Segunda linha\" >> myfile.txt                                                                                               | Anexa uma linha ao final do arquivo                              | Anexa Linha ao Arquivo        |\n",
            "| Sistema        | cat myfile.txt                                                                                                                   | Exibe o conteúdo completo do arquivo                             | Exibe Conteúdo                |\n",
            "| Sistema        | wc -l myfile.txt                                                                                                                 | Conta o número de linhas no arquivo                              | Conta Linhas                  |\n",
            "| Sistema        | mv ~/arquivos_teste ~/exemplos_praticos                                                                                          | Move ou renomeia um diretório                                    | Renomeia Pasta                |\n",
            "| Sistema        | hostname -I                                                                                                                      | Mostra o endereço IP local                                       | Mostra IP Local               |\n",
            "| Rede           | ip a | grep inet                                                                                                                 | Mostra os endereços IP locais                                    | Filtra Endereços IP           |\n",
            "| Rede           | ping google.com                                                                                                                  | Testa a conectividade de rede                                    | Testa Conectividade (Ping)    |\n",
            "+----------------+----------------------------------------------------------------------------------------------------------------------------------+------------------------------------------------------------------+-------------------------------+\n"
          ]
        }
      ]
    }
  ]
}