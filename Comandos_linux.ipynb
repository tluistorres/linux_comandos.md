{
  "nbformat": 4,
  "nbformat_minor": 0,
  "metadata": {
    "colab": {
      "provenance": [],
      "authorship_tag": "ABX9TyPHanH6PbZW4lb76c3RgTGc",
      "include_colab_link": true
    },
    "kernelspec": {
      "name": "python3",
      "display_name": "Python 3"
    },
    "language_info": {
      "name": "python"
    }
  },
  "cells": [
    {
      "cell_type": "markdown",
      "metadata": {
        "id": "view-in-github",
        "colab_type": "text"
      },
      "source": [
        "<a href=\"https://colab.research.google.com/github/tluistorres/linux_comandos.md/blob/main/Comandos_linux.ipynb\" target=\"_parent\"><img src=\"https://colab.research.google.com/assets/colab-badge.svg\" alt=\"Open In Colab\"/></a>"
      ]
    },
    {
      "cell_type": "markdown",
      "source": [
        "| *Tema* | *Comando* | *Descrição* |\n",
        "| :-------- | :----------- | :--------------- |\n",
        "| *Histórico* | `history -r` | Recarrega o histórico do Bash (lê o `.bash_history`). |\n",
        "| *Histórico* | `history > ~/backup_history.txt` | Salva o histórico de comandos em um arquivo de backup. |\n",
        "| *Node.js* | `npm install` | Instala dependências listadas no `package.json`. |\n",
        "| *Node.js* | `npm install jsonwebtoken` | Instala a biblioteca para trabalhar com JSON Web Tokens (JWT). |\n",
        "| *Node.js* | `npm install json-server --save` | Instala o `json-server` localmente no projeto. |\n",
        "| *Node.js* | `node servidor.js` | Executa um servidor Node.js. |\n",
        "| *Node.js* | `npm run start-auth` | Executa um script de inicialização definido no `package.json`. |\n",
        "| *Node.js* | `npx json-server --watch database.json --https --port 8000 --key server.key --cert server.crt` | Inicia o `json-server` usando HTTPS e certificados. |\n",
        "| *cURL* | `curl -X POST -H \"Content-Type: application/json\" -d '{\"email\":\"lcs@alura.com\",\"senha\":\"123\"}' http://localhost:8000/public/login` | Faz uma requisição **POST** de login. |\n",
        "| *cURL* | `curl http://localhost:8000` | Faz uma requisição **GET** ao servidor local. |\n",
        "| *cURL* | `curl http://localhost:3000/livros` | Faz uma requisição **GET** a uma rota específica. |\n",
        "| *Utilitário* | `sudo lsof -i :8000` | Verifica qual processo está usando a porta 8000. |\n",
        "| *OpenSSL* | `openssl req -x509 -sha256 -nodes -days 365 -newkey rsa:2048 -keyout server.key -out server.crt` | Gera um certificado SSL/TLS autoassinado. |\n",
        "| *OpenSSL* | `openssl x509 -in server.crt -text -noout` | Mostra os detalhes e informações do certificado. |\n",
        "| *OpenSSL* | `openssl rsa -in server.key -check` | Verifica a integridade da chave privada. |\n",
        "| *Apache/Nginx*| `sudo apt update` | Atualiza a lista de pacotes disponíveis. |\n",
        "| *Apache/Nginx*| `sudo apt install apache2 -y` | Instala o servidor web Apache. |\n",
        "| *Apache/Nginx*| `sudo service apache2 start` | Inicia o serviço do Apache. |\n",
        "| *Apache/Nginx*| `sudo systemctl restart apache2` | Reinicia o serviço do Apache. |\n",
        "| *Apache/Nginx*| `sudo systemctl status apache2` | Mostra o status atual do serviço do Apache. |\n",
        "| *Apache/Nginx*| `sudo apache2ctl configtest` | Testa a sintaxe dos arquivos de configuração do Apache. |\n",
        "| *Apache/Nginx*| `sudo nano /etc/apache2/sites-available/000-default.conf` | Edita o arquivo de configuração de um Virtual Host. |\n",
        "| *Apache/Nginx*| `sudo a2ensite meu-site.conf` | Habilita um site virtual no Apache. |\n",
        "| *Apache/Nginx*| `sudo systemctl reload apache2` | Aplica as alterações de configuração sem derrubar o serviço. |\n",
        "| *Apache/Nginx*| `sudo apt install nginx -y` | Instala o servidor web Nginx. |\n",
        "| *Apache/Nginx*| `sudo systemctl status nginx` | Mostra o status atual do serviço do Nginx. |\n",
        "| *PHP/MySQL* | `sudo apt install php libapache2-mod-php php-mysql -y` | Instala PHP e módulos comuns (para Apache e MySQL). |\n",
        "| *PHP/MySQL* | `php -v` | Verifica a versão do PHP instalada. |\n",
        "| *PHP/MySQL* | `sudo apt install mysql-server -y` | Instala o servidor MySQL. |\n",
        "| *PHP/MySQL* | `sudo mysql -u root -p` | Acessa o MySQL como usuário `root`. |\n",
        "| *WordPress* | `sudo wget https://wordpress.org/latest.tar.gz` | Baixa a versão mais recente do WordPress. |\n",
        "| *WordPress* | `sudo tar -xzvf latest.tar.gz` | Descompacta o arquivo baixado. |\n",
        "| *WordPress* | `sudo chown -R www-data:www-data /var/www/html` | Define o usuário `www-data` (Apache) como proprietário dos arquivos. |\n",
        "| *Git Setup* | `git init` | Inicializa um novo repositório Git na pasta atual. |\n",
        "| *Git* | `git add .` | Adiciona todos os arquivos novos e modificados à área de *staging*. |\n",
        "| *Git* | `git commit -m \"Versão inicial do meu site\"` | Cria um novo *commit* com a mensagem especificada. |\n",
        "| *Git Setup* | `git remote add origin https://github.com/tluistorres/meu-site.git` | Conecta o repositório local a um repositório remoto (GitHub). |\n",
        "| *Git Setup* | `git branch -M main` | Renomeia a branch atual para `main`. |\n",
        "| *Git* | `git push -u origin main` | Envia o histórico local para o GitHub (define o *upstream*). |\n",
        "| *Git Config* | `git config --global user.name \"Torres Camoes\"` | Configura o nome do autor para todos os *commits*. |\n",
        "| *Git Config* | `git config --global credential.helper store` | Configura o Git para armazenar credenciais (PAT) no sistema. |\n",
        "| *Scripts/Backup*| `mkdir -p ~/relatorio && touch ~/relatorio/processos.txt` | Cria a pasta `relatorio` e o arquivo `processos.txt`. |\n",
        "| *Scripts/Backup*| `ps aux > ~/relatorio/processos.txt` | Salva a lista de todos os processos em um arquivo. |\n",
        "| *Scripts/Backup*| `chmod +x ~/relatorio/primeiro_programa.sh` | Torna um script executável. |\n",
        "| *Scripts/Backup*| `sudo tar -czf /backup/$(date +%d%m%Y-%H%M)-home.tar.gz -C /home torres_camoes` | Cria um arquivo `.tar.gz` de backup do diretório do usuário. |\n",
        "| *Crontab* | `crontab -e` | Abre o editor para agendar tarefas (*cron jobs*) do usuário. |\n",
        "| *Crontab* | `crontab -l` | Lista as tarefas agendadas. |\n",
        "| *Crontab* | `grep CRON /var/log/syslog | tail -n 20` | Mostra as últimas 20 entradas de log do serviço Cron. |\n",
        "| *Monitoramento* | `htop` | Monitora processos e uso de recursos de forma interativa. |\n",
        "| *Monitoramento* | `ps aux | grep apache2` | Filtra e lista processos relacionados ao Apache. |\n",
        "| *Monitoramento* | `sudo killall -STOP apache2` | Pausa (suspende) todos os processos do Apache. |\n",
        "| *Monitoramento* | `sudo renice -19 <PID>` | Aumenta drasticamente a prioridade de um processo (PID). |\n",
        "| *Sistema* | `pwd` | Mostra o diretório de trabalho atual. |\n",
        "| *Sistema* | `whoami` | Mostra o nome do usuário logado. |\n",
        "| *Sistema* | `ls -la` | Lista todos os arquivos e diretórios, incluindo ocultos, com detalhes. |\n",
        "| *Sistema* | `echo \"Primeira linha\" > myfile.txt` | Cria um arquivo com o texto (sobrescreve se existir). |\n",
        "| *Sistema* | `echo \"Segunda linha\" >> myfile.txt` | Anexa uma linha ao final do arquivo. |\n",
        "| *Sistema* | `cat myfile.txt` | Exibe o conteúdo completo do arquivo. |\n",
        "| *Sistema* | `wc -l myfile.txt` | Conta o número de linhas no arquivo. |\n",
        "| *Sistema* | `mv ~/arquivos_teste ~/exemplos_praticos` | Move ou renomeia um diretório. |\n",
        "| *Rede* | `hostname -I` | Mostra o(s) endereço(s) IP local(is) do host. |\n",
        "| *Rede* | `ip a | grep inet` | Lista apenas as linhas que contêm endereços IP. |\n",
        "| *Rede* | `ping google.com` | Testa a conectividade de rede com um domínio. |"
      ],
      "metadata": {
        "id": "ZeWEuPNtaWLT"
      }
    }
  ]
}